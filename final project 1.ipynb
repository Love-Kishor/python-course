{
 "cells": [
  {
   "cell_type": "markdown",
   "id": "d7894850",
   "metadata": {},
   "source": [
    "#Web scrapping , program to check if Nepal is still in red list corona zone as per uk.gov and send email if updated. "
   ]
  },
  {
   "cell_type": "code",
   "execution_count": null,
   "id": "0b873734",
   "metadata": {},
   "outputs": [],
   "source": [
    "import requests \n",
    "from bs4 import BeautifulSoup\n",
    "import smtplib\n",
    "import time\n",
    "URL = \"https://www.gov.uk/guidance/red-amber-and-green-list-rules-for-entering-england#red-list\" # target URL\n",
    "def checklist():\n",
    "    html_data=requests.get(URL).text # request html data of the target URL\n",
    "    soup = BeautifulSoup(html_data,\"lxml\") # creeating manipulative data using BeautifulSoup\n",
    "    #print(soup)\n",
    "    #print(soup.prettify())\n",
    "    #print(soup.title)\n",
    "    #print(soup.title.text)\n",
    "    #print(soup.table)\n",
    "    #print(soup.href)\n",
    "    #for link in soup.find_all(\"a\"):\n",
    "        #print(f\"inner text:{link.text}\")\n",
    "        #print(\"href: {}\".format(link.get(\"href\")))\n",
    "        #print(\"class: {}\".format(link.get(\"class\")))\n",
    "\n",
    "    #red_list = soup.find(\"table\",attrs ={\"class\":\"gem-c-contents-list__list-item gem-c-contents-list__list-item--dashed\"})\n",
    "\n",
    "    #red_list_data =red_list.tbody.find_all(\"tr\") \n",
    "    table = soup.table  # filtering table from the data\n",
    "    data =[]\n",
    "    for tr in table.tbody.find_all(\"tr\"):\n",
    "        data.append(tr.text.replace(\"\\n\",\"\").strip())   # create list of all the rows in the table\n",
    "    #print(data)\n",
    "    x =len(data)\n",
    "    for i in data:\n",
    "        if i ==\"Nepal\":\n",
    "            print(f\"nepal is still in the red list\")\n",
    "            break\n",
    "        else:\n",
    "            x= x-1\n",
    "            continue\n",
    "    if x==0:\n",
    "        print(\"nepal has been recently updated\")\n",
    "        send_mail()\n",
    "    \n",
    "def send_mail():\n",
    "    server=smtplib.SMTP(\"smtp.gmail.com\",587) # host and port no of gmail to create server\n",
    "    server.ehlo()  # communication with server\n",
    "    server.starttls() \n",
    "    server.ehlo()\n",
    "    server.login(\"macze0899@gmail.com\",\"jrrteozeakntqvlk\") # mail login to send email\n",
    "    subject=\"nepal has been updated from red list\"\n",
    "    body=\"check the link https://www.gov.uk/guidance/red-amber-and-green-list-rules-for-entering-england#red-list\"\n",
    "    msg =f\"subject:{subject}\\n\\n{body}\" # incorporating mesege usin subject and body variables\n",
    "    server.sendmail(\"macze0899@gmail.com\",\"bhandarikabita178@gmail.com\",msg) # sending mail \"msg\" to another email address\n",
    "    print(\"email has been sent\")\n",
    "    server.quit\n",
    "while True:\n",
    "    checklist()\n",
    "    time.sleep(86400) # runs the functoion after every 86400 seconds\n",
    "    \n",
    "\n"
   ]
  },
  {
   "cell_type": "code",
   "execution_count": null,
   "id": "1d411897",
   "metadata": {},
   "outputs": [],
   "source": []
  },
  {
   "cell_type": "code",
   "execution_count": null,
   "id": "734f85f5",
   "metadata": {},
   "outputs": [],
   "source": []
  }
 ],
 "metadata": {
  "kernelspec": {
   "display_name": "Python 3",
   "language": "python",
   "name": "python3"
  },
  "language_info": {
   "codemirror_mode": {
    "name": "ipython",
    "version": 3
   },
   "file_extension": ".py",
   "mimetype": "text/x-python",
   "name": "python",
   "nbconvert_exporter": "python",
   "pygments_lexer": "ipython3",
   "version": "3.8.8"
  }
 },
 "nbformat": 4,
 "nbformat_minor": 5
}
