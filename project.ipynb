{
 "cells": [
  {
   "cell_type": "code",
   "execution_count": 1,
   "id": "fc1f1738",
   "metadata": {},
   "outputs": [
    {
     "name": "stdout",
     "output_type": "stream",
     "text": [
      "enter code\n",
      "love\n",
      "# This is very confidential information\n",
      "Name: Love Kisor Bista\n",
      "occupation: engineer\n",
      "bank account: 1766497123892\n",
      "bank : standard chartered bank\n",
      "bank balance: 83729497479274\n",
      "account id: love.happy@3\n",
      "password:pythonworks@well\n",
      "\n",
      "\n"
     ]
    }
   ],
   "source": [
    "from functools import wraps \n",
    "def conform_code(function):\n",
    "    wraps(function)\n",
    "    rf = open(\"text.txt\",\"r\")\n",
    "    x = rf.read(4)\n",
    "    rf.close()\n",
    "    def compare_code():\n",
    "        y=input(\"enter code\\n\")\n",
    "        while y!=x:\n",
    "            print(\"code incorrect\")\n",
    "            y = input(\"enter code\\n\")\n",
    "        function()\n",
    "            \n",
    "    return compare_code #parenthesis  not used, that returns the  compare_code function. \n",
    "@conform_code       \n",
    "def profile():\n",
    "    rf2 = open(\"text2.txt\",\"r\")\n",
    "    print(rf2.read())\n",
    "profile()"
   ]
  },
  {
   "cell_type": "code",
   "execution_count": null,
   "id": "c0481d09",
   "metadata": {},
   "outputs": [],
   "source": []
  }
 ],
 "metadata": {
  "kernelspec": {
   "display_name": "Python 3",
   "language": "python",
   "name": "python3"
  },
  "language_info": {
   "codemirror_mode": {
    "name": "ipython",
    "version": 3
   },
   "file_extension": ".py",
   "mimetype": "text/x-python",
   "name": "python",
   "nbconvert_exporter": "python",
   "pygments_lexer": "ipython3",
   "version": "3.8.8"
  }
 },
 "nbformat": 4,
 "nbformat_minor": 5
}
