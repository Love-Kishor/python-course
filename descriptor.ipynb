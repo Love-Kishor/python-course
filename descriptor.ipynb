{
 "cells": [
  {
   "cell_type": "code",
   "execution_count": 1,
   "id": "14d2af08",
   "metadata": {},
   "outputs": [],
   "source": [
    "#__get__, __set__,__delete__ are used"
   ]
  },
  {
   "cell_type": "code",
   "execution_count": 4,
   "id": "5e0816f4",
   "metadata": {},
   "outputs": [],
   "source": [
    "#types of descriptrt: data descriptor and non Data descriptor\n",
    "#__get__ : non data. __set__, __delete__: non data"
   ]
  },
  {
   "cell_type": "code",
   "execution_count": 9,
   "id": "ac2d4081",
   "metadata": {},
   "outputs": [],
   "source": [
    "class String:\n",
    "    def __get__(self, obj):\n",
    "        print(\"get is called\")\n",
    "        return obj\n",
    "    def __set__(self, obj,value):\n",
    "        if not isinstance(value,str):\n",
    "            raise ValueError(\"value must be string\")\n",
    "        print(\"value is set\")"
   ]
  },
  {
   "cell_type": "code",
   "execution_count": 10,
   "id": "b89a1f8f",
   "metadata": {},
   "outputs": [
    {
     "ename": "NameError",
     "evalue": "name 'string' is not defined",
     "output_type": "error",
     "traceback": [
      "\u001b[1;31m---------------------------------------------------------------------------\u001b[0m",
      "\u001b[1;31mNameError\u001b[0m                                 Traceback (most recent call last)",
      "\u001b[1;32m<ipython-input-10-8b9cacd40061>\u001b[0m in \u001b[0;36m<module>\u001b[1;34m\u001b[0m\n\u001b[1;32m----> 1\u001b[1;33m \u001b[0mname\u001b[0m\u001b[1;33m=\u001b[0m \u001b[0mstring\u001b[0m\u001b[1;33m(\u001b[0m\u001b[1;33m)\u001b[0m\u001b[1;33m\u001b[0m\u001b[1;33m\u001b[0m\u001b[0m\n\u001b[0m",
      "\u001b[1;31mNameError\u001b[0m: name 'string' is not defined"
     ]
    }
   ],
   "source": [
    "name= string()"
   ]
  },
  {
   "cell_type": "code",
   "execution_count": 14,
   "id": "4b660ee3",
   "metadata": {},
   "outputs": [],
   "source": [
    "class String:\n",
    "    def __init__(self,name=\"\"):\n",
    "        self.value =name\n",
    "    def __get__(self, obj,objtype):\n",
    "        print(\"get is called\")\n",
    "        return self.name\n",
    "    def __set__(self, obj,name):\n",
    "        if not isinstance(name,str):\n",
    "            raise ValueError(\"value must be string\")\n",
    "        self.name= name"
   ]
  },
  {
   "cell_type": "code",
   "execution_count": 17,
   "id": "d30ee6f1",
   "metadata": {},
   "outputs": [
    {
     "ename": "NameError",
     "evalue": "name 'number' is not defined",
     "output_type": "error",
     "traceback": [
      "\u001b[1;31m---------------------------------------------------------------------------\u001b[0m",
      "\u001b[1;31mNameError\u001b[0m                                 Traceback (most recent call last)",
      "\u001b[1;32m<ipython-input-17-53f4f5f0ddb8>\u001b[0m in \u001b[0;36m<module>\u001b[1;34m\u001b[0m\n\u001b[1;32m----> 1\u001b[1;33m \u001b[1;32mclass\u001b[0m \u001b[0mprofile\u001b[0m\u001b[1;33m(\u001b[0m\u001b[1;33m)\u001b[0m\u001b[1;33m:\u001b[0m\u001b[1;33m\u001b[0m\u001b[1;33m\u001b[0m\u001b[0m\n\u001b[0m\u001b[0;32m      2\u001b[0m     \u001b[0mname\u001b[0m \u001b[1;33m=\u001b[0m \u001b[0mString\u001b[0m\u001b[1;33m(\u001b[0m\u001b[1;33m)\u001b[0m\u001b[1;33m\u001b[0m\u001b[1;33m\u001b[0m\u001b[0m\n\u001b[0;32m      3\u001b[0m     \u001b[0mage\u001b[0m \u001b[1;33m=\u001b[0m \u001b[0mnumber\u001b[0m\u001b[1;33m(\u001b[0m\u001b[1;33m)\u001b[0m\u001b[1;33m\u001b[0m\u001b[1;33m\u001b[0m\u001b[0m\n",
      "\u001b[1;32m<ipython-input-17-53f4f5f0ddb8>\u001b[0m in \u001b[0;36mprofile\u001b[1;34m()\u001b[0m\n\u001b[0;32m      1\u001b[0m \u001b[1;32mclass\u001b[0m \u001b[0mprofile\u001b[0m\u001b[1;33m(\u001b[0m\u001b[1;33m)\u001b[0m\u001b[1;33m:\u001b[0m\u001b[1;33m\u001b[0m\u001b[1;33m\u001b[0m\u001b[0m\n\u001b[0;32m      2\u001b[0m     \u001b[0mname\u001b[0m \u001b[1;33m=\u001b[0m \u001b[0mString\u001b[0m\u001b[1;33m(\u001b[0m\u001b[1;33m)\u001b[0m\u001b[1;33m\u001b[0m\u001b[1;33m\u001b[0m\u001b[0m\n\u001b[1;32m----> 3\u001b[1;33m     \u001b[0mage\u001b[0m \u001b[1;33m=\u001b[0m \u001b[0mnumber\u001b[0m\u001b[1;33m(\u001b[0m\u001b[1;33m)\u001b[0m\u001b[1;33m\u001b[0m\u001b[1;33m\u001b[0m\u001b[0m\n\u001b[0m",
      "\u001b[1;31mNameError\u001b[0m: name 'number' is not defined"
     ]
    }
   ],
   "source": [
    "class profile():\n",
    "    \n"
   ]
  },
  {
   "cell_type": "code",
   "execution_count": 1,
   "id": "19240a07",
   "metadata": {},
   "outputs": [],
   "source": [
    "#connecter"
   ]
  },
  {
   "cell_type": "code",
   "execution_count": 34,
   "id": "c3d7e733",
   "metadata": {},
   "outputs": [
    {
     "name": "stdout",
     "output_type": "stream",
     "text": [
      "who is the best player? : lionel messi\n",
      "who is the 2nd best? : cristiano ronaldo\n"
     ]
    },
    {
     "ename": "NameError",
     "evalue": "name 'bestplayer1' is not defined",
     "output_type": "error",
     "traceback": [
      "\u001b[1;31m---------------------------------------------------------------------------\u001b[0m",
      "\u001b[1;31mNameError\u001b[0m                                 Traceback (most recent call last)",
      "\u001b[1;32m<ipython-input-34-9de8ac6aaf7f>\u001b[0m in \u001b[0;36m<module>\u001b[1;34m\u001b[0m\n\u001b[0;32m     13\u001b[0m \u001b[1;33m\u001b[0m\u001b[0m\n\u001b[0;32m     14\u001b[0m \u001b[0mA\u001b[0m\u001b[1;33m.\u001b[0m\u001b[0mqn\u001b[0m\u001b[1;33m(\u001b[0m\u001b[1;33m)\u001b[0m\u001b[1;33m\u001b[0m\u001b[1;33m\u001b[0m\u001b[0m\n\u001b[1;32m---> 15\u001b[1;33m \u001b[0mA\u001b[0m\u001b[1;33m.\u001b[0m\u001b[0m__get__\u001b[0m\u001b[1;33m(\u001b[0m\u001b[0mbestplayer1\u001b[0m\u001b[1;33m)\u001b[0m\u001b[1;33m\u001b[0m\u001b[1;33m\u001b[0m\u001b[0m\n\u001b[0m",
      "\u001b[1;31mNameError\u001b[0m: name 'bestplayer1' is not defined"
     ]
    }
   ],
   "source": [
    "class football:\n",
    "    def __init__(self,bestplayer1,bestplayer2):\n",
    "        self.bestplayer1= \"lionel \" + bestplayer1\n",
    "        self.bestplayer2= \"cristiano \" + bestplayer2\n",
    "    def qn(self):\n",
    "        print(f\"who is the best player? : {self.bestplayer1}\")\n",
    "        print(f\"who is the 2nd best? : {self.bestplayer2}\")\n",
    "    def __get__(self,obj,objtype):\n",
    "        return self.bestplayer1\n",
    "    \n",
    "              \n",
    "A = football(\"messi\",\"ronaldo\")\n",
    "              \n",
    "A.qn()\n",
    "A.__get__(\n"
   ]
  },
  {
   "cell_type": "code",
   "execution_count": null,
   "id": "0585e49c",
   "metadata": {},
   "outputs": [],
   "source": []
  }
 ],
 "metadata": {
  "kernelspec": {
   "display_name": "Python 3",
   "language": "python",
   "name": "python3"
  },
  "language_info": {
   "codemirror_mode": {
    "name": "ipython",
    "version": 3
   },
   "file_extension": ".py",
   "mimetype": "text/x-python",
   "name": "python",
   "nbconvert_exporter": "python",
   "pygments_lexer": "ipython3",
   "version": "3.8.8"
  }
 },
 "nbformat": 4,
 "nbformat_minor": 5
}
