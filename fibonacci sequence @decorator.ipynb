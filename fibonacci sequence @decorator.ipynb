{
 "cells": [
  {
   "cell_type": "code",
   "execution_count": 13,
   "id": "be343ba1",
   "metadata": {},
   "outputs": [
    {
     "data": {
      "text/plain": [
       "2"
      ]
     },
     "execution_count": 13,
     "metadata": {},
     "output_type": "execute_result"
    }
   ],
   "source": [
    "def create_fibo(n):\n",
    "        if n==0:\n",
    "            return 0\n",
    "        if n==1:\n",
    "            return 1\n",
    "        else:\n",
    "            return create_fibo(n-1)+create_fibo(n-2)\n",
    "        \n",
    "        \n",
    "create_fibo(3)"
   ]
  },
  {
   "cell_type": "code",
   "execution_count": 12,
   "id": "53882d66",
   "metadata": {},
   "outputs": [
    {
     "data": {
      "text/plain": [
       "1"
      ]
     },
     "execution_count": 12,
     "metadata": {},
     "output_type": "execute_result"
    }
   ],
   "source": [
    "create_fibo(1)"
   ]
  },
  {
   "cell_type": "code",
   "execution_count": 15,
   "id": "9b2c8074",
   "metadata": {},
   "outputs": [
    {
     "data": {
      "text/plain": [
       "[0, 1, 1, 2, 3, 5, 8, 13, 21, 34, 55]"
      ]
     },
     "execution_count": 15,
     "metadata": {},
     "output_type": "execute_result"
    }
   ],
   "source": [
    "def fibo(x):\n",
    "    return [create_fibo(i) for i in range(0,x+1)]\n",
    "    \n",
    "fibo(10)"
   ]
  },
  {
   "cell_type": "markdown",
   "id": "4bbb6c7f",
   "metadata": {},
   "source": [
    "#use decorator to make the fast program execution "
   ]
  },
  {
   "cell_type": "code",
   "execution_count": null,
   "id": "5fa7ed64",
   "metadata": {},
   "outputs": [],
   "source": []
  }
 ],
 "metadata": {
  "kernelspec": {
   "display_name": "Python 3",
   "language": "python",
   "name": "python3"
  },
  "language_info": {
   "codemirror_mode": {
    "name": "ipython",
    "version": 3
   },
   "file_extension": ".py",
   "mimetype": "text/x-python",
   "name": "python",
   "nbconvert_exporter": "python",
   "pygments_lexer": "ipython3",
   "version": "3.8.8"
  }
 },
 "nbformat": 4,
 "nbformat_minor": 5
}
