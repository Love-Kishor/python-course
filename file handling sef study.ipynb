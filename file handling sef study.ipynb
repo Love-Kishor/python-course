{
 "cells": [
  {
   "cell_type": "markdown",
   "id": "5c7ea0c1",
   "metadata": {},
   "source": [
    "# file handling"
   ]
  },
  {
   "cell_type": "markdown",
   "id": "6df0b307",
   "metadata": {},
   "source": [
    "read, write and append"
   ]
  },
  {
   "cell_type": "code",
   "execution_count": 1,
   "id": "f3f4ec3f",
   "metadata": {},
   "outputs": [
    {
     "ename": "FileNotFoundError",
     "evalue": "[Errno 2] No such file or directory: 'text.txt'",
     "output_type": "error",
     "traceback": [
      "\u001b[1;31m---------------------------------------------------------------------------\u001b[0m",
      "\u001b[1;31mFileNotFoundError\u001b[0m                         Traceback (most recent call last)",
      "\u001b[1;32m<ipython-input-1-d17c6bac8cbb>\u001b[0m in \u001b[0;36m<module>\u001b[1;34m\u001b[0m\n\u001b[1;32m----> 1\u001b[1;33m \u001b[0mfile\u001b[0m \u001b[1;33m=\u001b[0m \u001b[0mopen\u001b[0m\u001b[1;33m(\u001b[0m\u001b[1;34m\"text.txt\"\u001b[0m\u001b[1;33m)\u001b[0m\u001b[1;33m\u001b[0m\u001b[1;33m\u001b[0m\u001b[0m\n\u001b[0m",
      "\u001b[1;31mFileNotFoundError\u001b[0m: [Errno 2] No such file or directory: 'text.txt'"
     ]
    }
   ],
   "source": [
    "file = open(\"text.txt\")"
   ]
  },
  {
   "cell_type": "code",
   "execution_count": 2,
   "id": "ae47f7e8",
   "metadata": {},
   "outputs": [],
   "source": [
    "file = open(\"text.txt\",\"w\")"
   ]
  },
  {
   "cell_type": "code",
   "execution_count": 3,
   "id": "36d671f4",
   "metadata": {},
   "outputs": [
    {
     "data": {
      "text/plain": [
       "11"
      ]
     },
     "execution_count": 3,
     "metadata": {},
     "output_type": "execute_result"
    }
   ],
   "source": [
    "file.write(\"1.line one\\n\")"
   ]
  },
  {
   "cell_type": "code",
   "execution_count": 4,
   "id": "25200bdc",
   "metadata": {},
   "outputs": [],
   "source": [
    "file.close()"
   ]
  },
  {
   "cell_type": "code",
   "execution_count": 5,
   "id": "b586192d",
   "metadata": {},
   "outputs": [
    {
     "ename": "ValueError",
     "evalue": "I/O operation on closed file.",
     "output_type": "error",
     "traceback": [
      "\u001b[1;31m---------------------------------------------------------------------------\u001b[0m",
      "\u001b[1;31mValueError\u001b[0m                                Traceback (most recent call last)",
      "\u001b[1;32m<ipython-input-5-f3fc120c03c1>\u001b[0m in \u001b[0;36m<module>\u001b[1;34m\u001b[0m\n\u001b[1;32m----> 1\u001b[1;33m \u001b[0mfile\u001b[0m\u001b[1;33m.\u001b[0m\u001b[0mread\u001b[0m\u001b[1;33m(\u001b[0m\u001b[1;33m)\u001b[0m\u001b[1;33m\u001b[0m\u001b[1;33m\u001b[0m\u001b[0m\n\u001b[0m",
      "\u001b[1;31mValueError\u001b[0m: I/O operation on closed file."
     ]
    }
   ],
   "source": [
    "file.read()"
   ]
  },
  {
   "cell_type": "code",
   "execution_count": 9,
   "id": "3ee1ea34",
   "metadata": {},
   "outputs": [],
   "source": [
    "file=open(\"text.txt\",\"r\")"
   ]
  },
  {
   "cell_type": "code",
   "execution_count": 10,
   "id": "6594b58b",
   "metadata": {},
   "outputs": [
    {
     "data": {
      "text/plain": [
       "'1.line one\\n'"
      ]
     },
     "execution_count": 10,
     "metadata": {},
     "output_type": "execute_result"
    }
   ],
   "source": [
    "file.read()"
   ]
  },
  {
   "cell_type": "code",
   "execution_count": 11,
   "id": "c91dddce",
   "metadata": {},
   "outputs": [],
   "source": [
    "with open(\"text.txt\",\"a\") as file:\n",
    "    file.write(\"adhiudqihdbih\")"
   ]
  },
  {
   "cell_type": "code",
   "execution_count": 12,
   "id": "77e830ac",
   "metadata": {},
   "outputs": [
    {
     "ename": "ValueError",
     "evalue": "I/O operation on closed file.",
     "output_type": "error",
     "traceback": [
      "\u001b[1;31m---------------------------------------------------------------------------\u001b[0m",
      "\u001b[1;31mValueError\u001b[0m                                Traceback (most recent call last)",
      "\u001b[1;32m<ipython-input-12-f3fc120c03c1>\u001b[0m in \u001b[0;36m<module>\u001b[1;34m\u001b[0m\n\u001b[1;32m----> 1\u001b[1;33m \u001b[0mfile\u001b[0m\u001b[1;33m.\u001b[0m\u001b[0mread\u001b[0m\u001b[1;33m(\u001b[0m\u001b[1;33m)\u001b[0m\u001b[1;33m\u001b[0m\u001b[1;33m\u001b[0m\u001b[0m\n\u001b[0m",
      "\u001b[1;31mValueError\u001b[0m: I/O operation on closed file."
     ]
    }
   ],
   "source": [
    "file.read() #even we havent closed"
   ]
  },
  {
   "cell_type": "code",
   "execution_count": 14,
   "id": "ea08a383",
   "metadata": {},
   "outputs": [],
   "source": [
    "file=open(\"text.txt\")"
   ]
  },
  {
   "cell_type": "code",
   "execution_count": 1,
   "id": "856d20af",
   "metadata": {},
   "outputs": [],
   "source": [
    "#make  a file log.txt"
   ]
  },
  {
   "cell_type": "code",
   "execution_count": 3,
   "id": "d23bcc5e",
   "metadata": {},
   "outputs": [
    {
     "ename": "SyntaxError",
     "evalue": "invalid syntax (<ipython-input-3-839222e4d3ae>, line 1)",
     "output_type": "error",
     "traceback": [
      "\u001b[1;36m  File \u001b[1;32m\"<ipython-input-3-839222e4d3ae>\"\u001b[1;36m, line \u001b[1;32m1\u001b[0m\n\u001b[1;33m    $jupyter notebook --NotebookApp.iopub_data_rate_limit=1000000\u001b[0m\n\u001b[1;37m    ^\u001b[0m\n\u001b[1;31mSyntaxError\u001b[0m\u001b[1;31m:\u001b[0m invalid syntax\n"
     ]
    }
   ],
   "source": [
    "$jupyter notebook --NotebookApp.iopub_data_rate_limit=1000000"
   ]
  },
  {
   "cell_type": "code",
   "execution_count": 4,
   "id": "52c4f37a",
   "metadata": {},
   "outputs": [
    {
     "ename": "NameError",
     "evalue": "name 'pd' is not defined",
     "output_type": "error",
     "traceback": [
      "\u001b[1;31m---------------------------------------------------------------------------\u001b[0m",
      "\u001b[1;31mNameError\u001b[0m                                 Traceback (most recent call last)",
      "\u001b[1;32m<ipython-input-4-fc78fcdfecc2>\u001b[0m in \u001b[0;36m<module>\u001b[1;34m\u001b[0m\n\u001b[1;32m----> 1\u001b[1;33m \u001b[0mpd\u001b[0m\u001b[1;33m.\u001b[0m\u001b[0mset_option\u001b[0m\u001b[1;33m(\u001b[0m\u001b[1;34m'display.max_columns'\u001b[0m\u001b[1;33m,\u001b[0m\u001b[1;36m50\u001b[0m\u001b[1;33m)\u001b[0m\u001b[1;33m\u001b[0m\u001b[1;33m\u001b[0m\u001b[0m\n\u001b[0m",
      "\u001b[1;31mNameError\u001b[0m: name 'pd' is not defined"
     ]
    }
   ],
   "source": [
    "pd.set_option('display.max_columns',50)"
   ]
  },
  {
   "cell_type": "code",
   "execution_count": 5,
   "id": "61124a2f",
   "metadata": {},
   "outputs": [
    {
     "ename": "NameError",
     "evalue": "name 'jupyter_notebook_config' is not defined",
     "output_type": "error",
     "traceback": [
      "\u001b[1;31m---------------------------------------------------------------------------\u001b[0m",
      "\u001b[1;31mNameError\u001b[0m                                 Traceback (most recent call last)",
      "\u001b[1;32m<ipython-input-5-08c4997a3853>\u001b[0m in \u001b[0;36m<module>\u001b[1;34m\u001b[0m\n\u001b[1;32m----> 1\u001b[1;33m \u001b[0mjupyter_notebook_config\u001b[0m\u001b[1;33m.\u001b[0m\u001b[0mjson\u001b[0m\u001b[1;33m\u001b[0m\u001b[1;33m\u001b[0m\u001b[0m\n\u001b[0m",
      "\u001b[1;31mNameError\u001b[0m: name 'jupyter_notebook_config' is not defined"
     ]
    }
   ],
   "source": [
    "jupyter_notebook_config.json"
   ]
  },
  {
   "cell_type": "code",
   "execution_count": 8,
   "id": "ebd24e7f",
   "metadata": {},
   "outputs": [],
   "source": [
    "f= open(\"text.txt\",\"r\") #needs to explicitly clse the file after opening if we open like this"
   ]
  },
  {
   "cell_type": "code",
   "execution_count": 9,
   "id": "69f28d62",
   "metadata": {},
   "outputs": [
    {
     "name": "stdout",
     "output_type": "stream",
     "text": [
      "text.txt\n"
     ]
    }
   ],
   "source": [
    "print(f.name)"
   ]
  },
  {
   "cell_type": "code",
   "execution_count": 10,
   "id": "abe55927",
   "metadata": {},
   "outputs": [],
   "source": [
    "f.close()"
   ]
  },
  {
   "cell_type": "code",
   "execution_count": 11,
   "id": "b3860e95",
   "metadata": {},
   "outputs": [
    {
     "name": "stdout",
     "output_type": "stream",
     "text": [
      "text.txt\n"
     ]
    }
   ],
   "source": [
    "print(f.name)"
   ]
  },
  {
   "cell_type": "code",
   "execution_count": 12,
   "id": "5ffdd9ca",
   "metadata": {},
   "outputs": [
    {
     "name": "stdout",
     "output_type": "stream",
     "text": [
      "r\n"
     ]
    }
   ],
   "source": [
    "print(f.mode)"
   ]
  },
  {
   "cell_type": "markdown",
   "id": "3634faac",
   "metadata": {},
   "source": [
    "opening the file using context manger"
   ]
  },
  {
   "cell_type": "code",
   "execution_count": 16,
   "id": "641ce526",
   "metadata": {},
   "outputs": [],
   "source": [
    "with open(\"text.txt\",\"r\") as f:\n",
    "    pass\n",
    "    "
   ]
  },
  {
   "cell_type": "code",
   "execution_count": 17,
   "id": "cbd9cff7",
   "metadata": {},
   "outputs": [
    {
     "name": "stdout",
     "output_type": "stream",
     "text": [
      "True\n"
     ]
    }
   ],
   "source": [
    "print(f.closed) # the file is already closed"
   ]
  },
  {
   "cell_type": "code",
   "execution_count": 20,
   "id": "02883a9b",
   "metadata": {},
   "outputs": [
    {
     "ename": "ValueError",
     "evalue": "I/O operation on closed file.",
     "output_type": "error",
     "traceback": [
      "\u001b[1;31m---------------------------------------------------------------------------\u001b[0m",
      "\u001b[1;31mValueError\u001b[0m                                Traceback (most recent call last)",
      "\u001b[1;32m<ipython-input-20-7903d2103717>\u001b[0m in \u001b[0;36m<module>\u001b[1;34m\u001b[0m\n\u001b[1;32m----> 1\u001b[1;33m \u001b[0mprint\u001b[0m\u001b[1;33m(\u001b[0m\u001b[0mf\u001b[0m\u001b[1;33m.\u001b[0m\u001b[0mread\u001b[0m\u001b[1;33m(\u001b[0m\u001b[1;33m)\u001b[0m\u001b[1;33m)\u001b[0m \u001b[1;31m# throws error,what can be done to work with the file then?\u001b[0m\u001b[1;33m\u001b[0m\u001b[1;33m\u001b[0m\u001b[0m\n\u001b[0m",
      "\u001b[1;31mValueError\u001b[0m: I/O operation on closed file."
     ]
    }
   ],
   "source": [
    "print(f.read()) # throws error,what can be done to work with the file then?"
   ]
  },
  {
   "cell_type": "code",
   "execution_count": 22,
   "id": "6126032b",
   "metadata": {},
   "outputs": [
    {
     "name": "stdout",
     "output_type": "stream",
     "text": [
      "1.line one\n",
      "adhiudqihdbih\n",
      "<built-in method readlines of _io.TextIOWrapper object at 0x000000A128A95520>\n"
     ]
    }
   ],
   "source": [
    "with open(\"text.txt\",\"r\") as f:\n",
    "    f_contents =f.read()   # lets create a variable that holds the contents of the file\n",
    "    print(f_contents)\n",
    "    pass"
   ]
  },
  {
   "cell_type": "code",
   "execution_count": 23,
   "id": "88653b53",
   "metadata": {},
   "outputs": [
    {
     "name": "stdout",
     "output_type": "stream",
     "text": [
      "['1.line one\\n', 'adhiudqihdbih']\n"
     ]
    }
   ],
   "source": [
    "with open(\"text.txt\",\"r\") as f:\n",
    "    f_contents =f.readlines()   # \n",
    "    print(f_contents)\n",
    "    pass"
   ]
  },
  {
   "cell_type": "code",
   "execution_count": 28,
   "id": "2b65ff59",
   "metadata": {},
   "outputs": [
    {
     "name": "stdout",
     "output_type": "stream",
     "text": [
      "1.line one\n",
      "\n",
      "adhiudqihdbih\n"
     ]
    }
   ],
   "source": [
    "with open(\"text.txt\",\"r\") as f:\n",
    "    f_contents =f.readline() # executing once gives one line and print has inbuilt new line\n",
    "    print(f_contents)\n",
    "    f_contents =f.readline() # \n",
    "    print(f_contents)\n",
    "    pass"
   ]
  },
  {
   "cell_type": "code",
   "execution_count": 29,
   "id": "c5897ad3",
   "metadata": {},
   "outputs": [
    {
     "name": "stdout",
     "output_type": "stream",
     "text": [
      "1.line one\n",
      "adhiudqihdbih"
     ]
    }
   ],
   "source": [
    "#to avoid the nwe line after every line\n",
    "with open(\"text.txt\",\"r\") as f:\n",
    "    f_contents =f.readline() \n",
    "    print(f_contents,end= \"\")\n",
    "    f_contents =f.readline()\n",
    "    print(f_contents,end=\"\")\n",
    "    pass"
   ]
  },
  {
   "cell_type": "code",
   "execution_count": 30,
   "id": "f75ec098",
   "metadata": {},
   "outputs": [
    {
     "name": "stdout",
     "output_type": "stream",
     "text": [
      "1.line one\n",
      "adhiudqihdbih"
     ]
    }
   ],
   "source": [
    "#instead of executing readline numerous times, we cn use the iteration\n",
    "with open(\"text.txt\",\"r\") as f:\n",
    "    for line in f:\n",
    "        print(line,end=\"\")\n",
    "    pass\n"
   ]
  },
  {
   "cell_type": "code",
   "execution_count": 47,
   "id": "021adf89",
   "metadata": {
    "scrolled": true
   },
   "outputs": [
    {
     "name": "stdout",
     "output_type": "stream",
     "text": [
      "1."
     ]
    }
   ],
   "source": [
    "# we can also pass arguments to read method to print the required character\n",
    "with open(\"text.txt\",\"r\") as f:\n",
    "    f_contents =f.read(2)      #prints only two characters\n",
    "    print(f_contents,end=\"\")\n",
    "    "
   ]
  },
  {
   "cell_type": "code",
   "execution_count": 48,
   "id": "839e2a7d",
   "metadata": {},
   "outputs": [
    {
     "name": "stdout",
     "output_type": "stream",
     "text": [
      "1.line one\n",
      "adhiudqihdbih"
     ]
    }
   ],
   "source": [
    "with open(\"text.txt\",\"r\") as f:\n",
    "    size_to_read = 1\n",
    "    while len(f_contents)>0:\n",
    "        f_contents =f.read(size_to_read)\n",
    "        print(f_contents,end=\"\")\n",
    "    "
   ]
  },
  {
   "cell_type": "code",
   "execution_count": 50,
   "id": "c9bf932c",
   "metadata": {},
   "outputs": [
    {
     "name": "stdout",
     "output_type": "stream",
     "text": [
      "2\n",
      "1."
     ]
    }
   ],
   "source": [
    "with open(\"text.txt\",\"r\") as f:\n",
    "    f_contents =f.read(2)#prints only two characters\n",
    "    print(f.tell()) #tells how many characters have been read\n",
    "    print(f_contents,end=\"\")"
   ]
  },
  {
   "cell_type": "code",
   "execution_count": 51,
   "id": "8172df36",
   "metadata": {},
   "outputs": [],
   "source": [
    "#f.seek(arg) #starts reading  from where we want"
   ]
  },
  {
   "cell_type": "code",
   "execution_count": 60,
   "id": "a111394f",
   "metadata": {},
   "outputs": [
    {
     "name": "stdout",
     "output_type": "stream",
     "text": [
      "1.e "
     ]
    }
   ],
   "source": [
    "with open(\"text.txt\",\"r\") as f:\n",
    "    f_contents =f.read(2)#prints only two characters\n",
    "    print(f_contents,end=\"\")\n",
    "    f.seek(5)   \n",
    "    f_contents =f.read(2) #reads two characters from 5th position i.e \"e\" and \" \"\n",
    "    print(f_contents,end=\"\")"
   ]
  },
  {
   "cell_type": "markdown",
   "id": "61a510b3",
   "metadata": {},
   "source": [
    "# writing"
   ]
  },
  {
   "cell_type": "code",
   "execution_count": 61,
   "id": "ae4af681",
   "metadata": {},
   "outputs": [],
   "source": [
    "#what happens if we try to write on read only ope file\n"
   ]
  },
  {
   "cell_type": "code",
   "execution_count": 62,
   "id": "4d7394b4",
   "metadata": {},
   "outputs": [
    {
     "ename": "UnsupportedOperation",
     "evalue": "not writable",
     "output_type": "error",
     "traceback": [
      "\u001b[1;31m---------------------------------------------------------------------------\u001b[0m",
      "\u001b[1;31mUnsupportedOperation\u001b[0m                      Traceback (most recent call last)",
      "\u001b[1;32m<ipython-input-62-ee6aef183970>\u001b[0m in \u001b[0;36m<module>\u001b[1;34m\u001b[0m\n\u001b[0;32m      1\u001b[0m \u001b[1;32mwith\u001b[0m \u001b[0mopen\u001b[0m\u001b[1;33m(\u001b[0m\u001b[1;34m\"text.txt\"\u001b[0m\u001b[1;33m,\u001b[0m\u001b[1;34m\"r\"\u001b[0m\u001b[1;33m)\u001b[0m \u001b[1;32mas\u001b[0m \u001b[0mf\u001b[0m\u001b[1;33m:\u001b[0m\u001b[1;33m\u001b[0m\u001b[1;33m\u001b[0m\u001b[0m\n\u001b[1;32m----> 2\u001b[1;33m     \u001b[0mf\u001b[0m\u001b[1;33m.\u001b[0m\u001b[0mwrite\u001b[0m\u001b[1;33m(\u001b[0m\u001b[1;34m\"test\"\u001b[0m\u001b[1;33m)\u001b[0m\u001b[1;33m\u001b[0m\u001b[1;33m\u001b[0m\u001b[0m\n\u001b[0m",
      "\u001b[1;31mUnsupportedOperation\u001b[0m: not writable"
     ]
    }
   ],
   "source": [
    "with open(\"text.txt\",\"r\") as f:\n",
    "    f.write(\"test\")  #obviously gives error \"not writble\""
   ]
  },
  {
   "cell_type": "code",
   "execution_count": 64,
   "id": "3fcb2021",
   "metadata": {},
   "outputs": [],
   "source": [
    "with open(\"text.txt\",\"w\") as f:\n",
    "    pass\n",
    "    "
   ]
  },
  {
   "cell_type": "code",
   "execution_count": 65,
   "id": "df75d2cd",
   "metadata": {},
   "outputs": [],
   "source": [
    "#when we simply write on already existing file using write method, it overwrites the existing content\n",
    "with open(\"text.txt\",\"w\") as f:\n",
    "    f.write(\"text\")"
   ]
  },
  {
   "cell_type": "code",
   "execution_count": 68,
   "id": "277350c4",
   "metadata": {},
   "outputs": [
    {
     "data": {
      "text/plain": [
       "'text'"
      ]
     },
     "execution_count": 68,
     "metadata": {},
     "output_type": "execute_result"
    }
   ],
   "source": [
    "f= open(\"text.txt\")\n",
    "f.read()"
   ]
  },
  {
   "cell_type": "code",
   "execution_count": 69,
   "id": "402a56c6",
   "metadata": {},
   "outputs": [],
   "source": [
    "#we can see the content overwritten by the \"text\""
   ]
  },
  {
   "cell_type": "code",
   "execution_count": 73,
   "id": "050ab254",
   "metadata": {},
   "outputs": [],
   "source": [
    "with open(\"text.txt\",\"w\") as f:\n",
    "    f.write(\"text\")\n",
    "    f.write(\"text\\n\") #similer to read statement\n",
    "    f.write(\"python\")"
   ]
  },
  {
   "cell_type": "code",
   "execution_count": 77,
   "id": "fd2cf482",
   "metadata": {},
   "outputs": [],
   "source": [
    "#if we want to overwrite after desired location , use seek\n",
    "\n",
    "with open(\"text.txt\",\"w\") as f:\n",
    "    f.write(\"love\")\n",
    "    f.write(\"text\\n\") #similer to read statement\n",
    "    f.seek(4)\n",
    "    f.write(\"python\")\n",
    "    \n"
   ]
  },
  {
   "cell_type": "code",
   "execution_count": 76,
   "id": "251e762a",
   "metadata": {},
   "outputs": [],
   "source": [
    "f.close()"
   ]
  },
  {
   "cell_type": "code",
   "execution_count": 78,
   "id": "d4c7f812",
   "metadata": {},
   "outputs": [],
   "source": [
    "with open(\"text.txt\",\"r\") as read_from_file:\n",
    "    with open(\"text2.txt\",\"w\") as write_on_file:\n",
    "        for line in read_from_file:\n",
    "            write_on_file.write(line)\n",
    "    "
   ]
  },
  {
   "cell_type": "code",
   "execution_count": null,
   "id": "2b223808",
   "metadata": {},
   "outputs": [],
   "source": []
  }
 ],
 "metadata": {
  "kernelspec": {
   "display_name": "Python 3",
   "language": "python",
   "name": "python3"
  },
  "language_info": {
   "codemirror_mode": {
    "name": "ipython",
    "version": 3
   },
   "file_extension": ".py",
   "mimetype": "text/x-python",
   "name": "python",
   "nbconvert_exporter": "python",
   "pygments_lexer": "ipython3",
   "version": "3.8.8"
  }
 },
 "nbformat": 4,
 "nbformat_minor": 5
}
