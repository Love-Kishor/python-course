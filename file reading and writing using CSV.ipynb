{
 "cells": [
  {
   "cell_type": "code",
   "execution_count": 2,
   "id": "4b77668f",
   "metadata": {},
   "outputs": [
    {
     "data": {
      "text/plain": [
       "[{'college': 'herald', 'university': 'abc', 'estd year': '1990'},\n",
       " {'college': 'xyz', 'university': 'tu', 'estd year': '1910'}]"
      ]
     },
     "execution_count": 2,
     "metadata": {},
     "output_type": "execute_result"
    }
   ],
   "source": [
    "columns = [\"college\",\"university\",\"estd year\"]\n",
    "rows = ([\"herald\",\"abc\",\"1990\"],[\"xyz\",\"tu\",\"1910\"])\n",
    "write_dict =[dict(zip(columns,row)) for row in rows]\n",
    "write_dict"
   ]
  },
  {
   "cell_type": "code",
   "execution_count": 3,
   "id": "e5c210f7",
   "metadata": {},
   "outputs": [],
   "source": [
    "# learn file handling using sv and web scrapping\n",
    "# modules = requests, beautifulSoup,{parsers:html.parser,lxml"
   ]
  },
  {
   "cell_type": "code",
   "execution_count": null,
   "id": "7d9fe3de",
   "metadata": {},
   "outputs": [],
   "source": []
  }
 ],
 "metadata": {
  "kernelspec": {
   "display_name": "Python 3",
   "language": "python",
   "name": "python3"
  },
  "language_info": {
   "codemirror_mode": {
    "name": "ipython",
    "version": 3
   },
   "file_extension": ".py",
   "mimetype": "text/x-python",
   "name": "python",
   "nbconvert_exporter": "python",
   "pygments_lexer": "ipython3",
   "version": "3.8.8"
  }
 },
 "nbformat": 4,
 "nbformat_minor": 5
}
