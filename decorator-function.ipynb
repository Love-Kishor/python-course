{
 "cells": [
  {
   "cell_type": "markdown",
   "metadata": {},
   "source": [
    "3 points important in Decorator: \n",
    "    1. first class object/function\n",
    "    2. inner function\n",
    "    3. returning function"
   ]
  },
  {
   "cell_type": "code",
   "execution_count": 108,
   "metadata": {},
   "outputs": [
    {
     "name": "stdout",
     "output_type": "stream",
     "text": [
      "you arenot logged in\n"
     ]
    }
   ],
   "source": [
    "is_login= False\n",
    "def login(arg):\n",
    "    if is_login:\n",
    "        print(\"login checked\")\n",
    "        return arg\n",
    "    else:\n",
    "        print('you arenot logged in')\n",
    "\n",
    "def purchase():\n",
    "    print(\"purchase successful\")\n",
    "    \n",
    "purchase = login(purchase)"
   ]
  },
  {
   "cell_type": "code",
   "execution_count": 4,
   "metadata": {},
   "outputs": [
    {
     "name": "stdout",
     "output_type": "stream",
     "text": [
      "login checked\n"
     ]
    }
   ],
   "source": [
    "is_login= True\n",
    "def login(arg):\n",
    "    if is_login:\n",
    "        print(\"login checked\")\n",
    "        return arg\n",
    "    else:\n",
    "        print('you arenot logged in')\n",
    "\n",
    "def purchase():\n",
    "    print(\"purchase successful\")\n",
    "    \n",
    "purchase = login(purchase)"
   ]
  },
  {
   "cell_type": "code",
   "execution_count": 5,
   "metadata": {},
   "outputs": [
    {
     "name": "stdout",
     "output_type": "stream",
     "text": [
      "purchase successful\n"
     ]
    }
   ],
   "source": [
    "purchase()"
   ]
  },
  {
   "cell_type": "markdown",
   "metadata": {},
   "source": [
    "# High order function"
   ]
  },
  {
   "cell_type": "code",
   "execution_count": 6,
   "metadata": {},
   "outputs": [],
   "source": [
    "def outer():\n",
    "    def hello():\n",
    "        print(\"hello all\")\n",
    "    def greet():\n",
    "        print(\"Good morning\")\n",
    "    hello()\n",
    "    greet()"
   ]
  },
  {
   "cell_type": "code",
   "execution_count": 7,
   "metadata": {},
   "outputs": [
    {
     "name": "stdout",
     "output_type": "stream",
     "text": [
      "hello all\n",
      "Good morning\n"
     ]
    }
   ],
   "source": [
    "outer()"
   ]
  },
  {
   "cell_type": "code",
   "execution_count": 24,
   "metadata": {},
   "outputs": [],
   "source": [
    "def outer():\n",
    "    def hello():\n",
    "        print(\"hello all\")\n",
    "    def greet():\n",
    "        print(\"Good morning\")\n",
    "    return hello, greet"
   ]
  },
  {
   "cell_type": "code",
   "execution_count": 25,
   "metadata": {},
   "outputs": [],
   "source": [
    "a,b=outer()"
   ]
  },
  {
   "cell_type": "code",
   "execution_count": 26,
   "metadata": {},
   "outputs": [
    {
     "name": "stdout",
     "output_type": "stream",
     "text": [
      "hello all\n"
     ]
    }
   ],
   "source": [
    "a()"
   ]
  },
  {
   "cell_type": "code",
   "execution_count": 27,
   "metadata": {},
   "outputs": [
    {
     "name": "stdout",
     "output_type": "stream",
     "text": [
      "Good morning\n"
     ]
    }
   ],
   "source": [
    "b()"
   ]
  },
  {
   "cell_type": "code",
   "execution_count": null,
   "metadata": {},
   "outputs": [],
   "source": []
  },
  {
   "cell_type": "code",
   "execution_count": 43,
   "metadata": {},
   "outputs": [],
   "source": [
    "def outer(f):\n",
    "    def inner():\n",
    "        print(f\"before calling main function {f.__name__!r}\")\n",
    "        f()\n",
    "        print(f\"after calling main function {f.__name__!r}\")\n",
    "    return inner"
   ]
  },
  {
   "cell_type": "code",
   "execution_count": 44,
   "metadata": {},
   "outputs": [],
   "source": [
    "def purchase():\n",
    "    print(\"purchase successful\")\n",
    "    \n",
    "purchase = outer(purchase)"
   ]
  },
  {
   "cell_type": "code",
   "execution_count": 45,
   "metadata": {},
   "outputs": [
    {
     "name": "stdout",
     "output_type": "stream",
     "text": [
      "before calling main function 'purchase'\n",
      "purchase successful\n",
      "after calling main function 'purchase'\n"
     ]
    }
   ],
   "source": [
    "purchase()"
   ]
  },
  {
   "cell_type": "code",
   "execution_count": 47,
   "metadata": {},
   "outputs": [
    {
     "data": {
      "text/plain": [
       "'inner'"
      ]
     },
     "execution_count": 47,
     "metadata": {},
     "output_type": "execute_result"
    }
   ],
   "source": [
    "purchase.__name__"
   ]
  },
  {
   "cell_type": "code",
   "execution_count": 52,
   "metadata": {},
   "outputs": [],
   "source": [
    "def login(f):\n",
    "    def inner():\n",
    "        print(f\"before calling main function {f.__name__!r}\")\n",
    "        f()\n",
    "        print(f\"after calling main function {f.__name__!r}\")\n",
    "    return inner"
   ]
  },
  {
   "cell_type": "code",
   "execution_count": 53,
   "metadata": {},
   "outputs": [],
   "source": [
    "@login   #decorator\n",
    "def purchase():\n",
    "    print(\"purchase successful\")\n"
   ]
  },
  {
   "cell_type": "code",
   "execution_count": 54,
   "metadata": {},
   "outputs": [
    {
     "name": "stdout",
     "output_type": "stream",
     "text": [
      "before calling main function 'purchase'\n",
      "purchase successful\n",
      "after calling main function 'purchase'\n"
     ]
    }
   ],
   "source": [
    "purchase()"
   ]
  },
  {
   "cell_type": "code",
   "execution_count": null,
   "metadata": {},
   "outputs": [],
   "source": []
  },
  {
   "cell_type": "code",
   "execution_count": 56,
   "metadata": {},
   "outputs": [],
   "source": [
    "from functools import wraps\n"
   ]
  },
  {
   "cell_type": "code",
   "execution_count": 57,
   "metadata": {},
   "outputs": [],
   "source": [
    "def login(f):\n",
    "    wraps(f)\n",
    "    def inner():\n",
    "        print(f\"before calling main function {f.__name__!r}\")\n",
    "        f()\n",
    "        print(f\"after calling main function {f.__name__!r}\")\n",
    "    return inner"
   ]
  },
  {
   "cell_type": "code",
   "execution_count": 58,
   "metadata": {},
   "outputs": [],
   "source": [
    "@login   #decorator\n",
    "def purchase():\n",
    "    print(\"purchase successful\")"
   ]
  },
  {
   "cell_type": "code",
   "execution_count": 59,
   "metadata": {},
   "outputs": [
    {
     "name": "stdout",
     "output_type": "stream",
     "text": [
      "before calling main function 'purchase'\n",
      "purchase successful\n",
      "after calling main function 'purchase'\n"
     ]
    }
   ],
   "source": [
    "purchase()"
   ]
  },
  {
   "cell_type": "markdown",
   "metadata": {},
   "source": [
    "# example"
   ]
  },
  {
   "cell_type": "code",
   "execution_count": 60,
   "metadata": {},
   "outputs": [
    {
     "name": "stdout",
     "output_type": "stream",
     "text": [
      "(120, 2.599999788799323e-06)\n"
     ]
    }
   ],
   "source": []
  },
  {
   "cell_type": "code",
   "execution_count": 63,
   "metadata": {},
   "outputs": [
    {
     "data": {
      "text/plain": [
       "120"
      ]
     },
     "execution_count": 63,
     "metadata": {},
     "output_type": "execute_result"
    }
   ],
   "source": [
    "def fact(x):\n",
    "    if x<3:\n",
    "        return x\n",
    "    return x*fact(x-1)\n",
    "fact(5)"
   ]
  },
  {
   "cell_type": "code",
   "execution_count": 69,
   "metadata": {},
   "outputs": [
    {
     "data": {
      "text/plain": [
       "120"
      ]
     },
     "execution_count": 69,
     "metadata": {},
     "output_type": "execute_result"
    }
   ],
   "source": [
    "def fact_iter(x):\n",
    "    result=1\n",
    "    if x<3:\n",
    "        return x\n",
    "    for i in range(n,1,-1):\n",
    "        result=result*i\n",
    "    return result\n",
    "fact(5)"
   ]
  },
  {
   "cell_type": "code",
   "execution_count": 98,
   "metadata": {},
   "outputs": [],
   "source": [
    "import time\n",
    "def timer(func):\n",
    "    @wraps(func)\n",
    "    def actualtime(*args,**kwargs):\n",
    "        starting_time=time.perf_counter()\n",
    "        print(f\"calling function {func.__name__!r}\")\n",
    "        func(*args,**kwargs)\n",
    "        ending_time=time.perf_counter()\n",
    "        print(f'the time taken by funcation is{ending_time-starting_time}')\n",
    "    return actualtime\n",
    "    "
   ]
  },
  {
   "cell_type": "code",
   "execution_count": 101,
   "metadata": {},
   "outputs": [],
   "source": [
    "@timer\n",
    "def fact_iter(x):\n",
    "    result=1\n",
    "    if x<3:\n",
    "        return x\n",
    "    for i in range(x,1,-1):\n",
    "        result=result*i\n",
    "    return result"
   ]
  },
  {
   "cell_type": "code",
   "execution_count": 102,
   "metadata": {},
   "outputs": [
    {
     "name": "stdout",
     "output_type": "stream",
     "text": [
      "calling function 'fact_iter'\n",
      "the time taken by funcation is7.030000051599927e-05\n"
     ]
    }
   ],
   "source": [
    "fact_iter(5)\n"
   ]
  },
  {
   "cell_type": "code",
   "execution_count": 105,
   "metadata": {},
   "outputs": [],
   "source": [
    "@timer\n",
    "def fact(x):\n",
    "    if x<3:\n",
    "        return x\n",
    "    return x*fact(x-1)"
   ]
  },
  {
   "cell_type": "code",
   "execution_count": 106,
   "metadata": {},
   "outputs": [
    {
     "name": "stdout",
     "output_type": "stream",
     "text": [
      "calling function 'fact'\n",
      "calling function 'fact'\n",
      "calling function 'fact'\n",
      "calling function 'fact'\n",
      "the time taken by funcation is3.8299999687296804e-05\n"
     ]
    },
    {
     "ename": "TypeError",
     "evalue": "unsupported operand type(s) for *: 'int' and 'NoneType'",
     "output_type": "error",
     "traceback": [
      "\u001b[1;31m---------------------------------------------------------------------------\u001b[0m",
      "\u001b[1;31mTypeError\u001b[0m                                 Traceback (most recent call last)",
      "\u001b[1;32m<ipython-input-106-68fbd979cdc9>\u001b[0m in \u001b[0;36m<module>\u001b[1;34m\u001b[0m\n\u001b[1;32m----> 1\u001b[1;33m \u001b[0mfact\u001b[0m\u001b[1;33m(\u001b[0m\u001b[1;36m5\u001b[0m\u001b[1;33m)\u001b[0m\u001b[1;33m\u001b[0m\u001b[1;33m\u001b[0m\u001b[0m\n\u001b[0m",
      "\u001b[1;32m<ipython-input-98-e84bca95d10e>\u001b[0m in \u001b[0;36mactualtime\u001b[1;34m(*args, **kwargs)\u001b[0m\n\u001b[0;32m      5\u001b[0m         \u001b[0mstarting_time\u001b[0m\u001b[1;33m=\u001b[0m\u001b[0mtime\u001b[0m\u001b[1;33m.\u001b[0m\u001b[0mperf_counter\u001b[0m\u001b[1;33m(\u001b[0m\u001b[1;33m)\u001b[0m\u001b[1;33m\u001b[0m\u001b[1;33m\u001b[0m\u001b[0m\n\u001b[0;32m      6\u001b[0m         \u001b[0mprint\u001b[0m\u001b[1;33m(\u001b[0m\u001b[1;34mf\"calling function {func.__name__!r}\"\u001b[0m\u001b[1;33m)\u001b[0m\u001b[1;33m\u001b[0m\u001b[1;33m\u001b[0m\u001b[0m\n\u001b[1;32m----> 7\u001b[1;33m         \u001b[0mfunc\u001b[0m\u001b[1;33m(\u001b[0m\u001b[1;33m*\u001b[0m\u001b[0margs\u001b[0m\u001b[1;33m,\u001b[0m\u001b[1;33m**\u001b[0m\u001b[0mkwargs\u001b[0m\u001b[1;33m)\u001b[0m\u001b[1;33m\u001b[0m\u001b[1;33m\u001b[0m\u001b[0m\n\u001b[0m\u001b[0;32m      8\u001b[0m         \u001b[0mending_time\u001b[0m\u001b[1;33m=\u001b[0m\u001b[0mtime\u001b[0m\u001b[1;33m.\u001b[0m\u001b[0mperf_counter\u001b[0m\u001b[1;33m(\u001b[0m\u001b[1;33m)\u001b[0m\u001b[1;33m\u001b[0m\u001b[1;33m\u001b[0m\u001b[0m\n\u001b[0;32m      9\u001b[0m         \u001b[0mprint\u001b[0m\u001b[1;33m(\u001b[0m\u001b[1;34mf'the time taken by funcation is{ending_time-starting_time}'\u001b[0m\u001b[1;33m)\u001b[0m\u001b[1;33m\u001b[0m\u001b[1;33m\u001b[0m\u001b[0m\n",
      "\u001b[1;32m<ipython-input-105-46685cf34709>\u001b[0m in \u001b[0;36mfact\u001b[1;34m(x)\u001b[0m\n\u001b[0;32m      3\u001b[0m     \u001b[1;32mif\u001b[0m \u001b[0mx\u001b[0m\u001b[1;33m<\u001b[0m\u001b[1;36m3\u001b[0m\u001b[1;33m:\u001b[0m\u001b[1;33m\u001b[0m\u001b[1;33m\u001b[0m\u001b[0m\n\u001b[0;32m      4\u001b[0m         \u001b[1;32mreturn\u001b[0m \u001b[0mx\u001b[0m\u001b[1;33m\u001b[0m\u001b[1;33m\u001b[0m\u001b[0m\n\u001b[1;32m----> 5\u001b[1;33m     \u001b[1;32mreturn\u001b[0m \u001b[0mx\u001b[0m\u001b[1;33m*\u001b[0m\u001b[0mfact\u001b[0m\u001b[1;33m(\u001b[0m\u001b[0mx\u001b[0m\u001b[1;33m-\u001b[0m\u001b[1;36m1\u001b[0m\u001b[1;33m)\u001b[0m\u001b[1;33m\u001b[0m\u001b[1;33m\u001b[0m\u001b[0m\n\u001b[0m",
      "\u001b[1;32m<ipython-input-98-e84bca95d10e>\u001b[0m in \u001b[0;36mactualtime\u001b[1;34m(*args, **kwargs)\u001b[0m\n\u001b[0;32m      5\u001b[0m         \u001b[0mstarting_time\u001b[0m\u001b[1;33m=\u001b[0m\u001b[0mtime\u001b[0m\u001b[1;33m.\u001b[0m\u001b[0mperf_counter\u001b[0m\u001b[1;33m(\u001b[0m\u001b[1;33m)\u001b[0m\u001b[1;33m\u001b[0m\u001b[1;33m\u001b[0m\u001b[0m\n\u001b[0;32m      6\u001b[0m         \u001b[0mprint\u001b[0m\u001b[1;33m(\u001b[0m\u001b[1;34mf\"calling function {func.__name__!r}\"\u001b[0m\u001b[1;33m)\u001b[0m\u001b[1;33m\u001b[0m\u001b[1;33m\u001b[0m\u001b[0m\n\u001b[1;32m----> 7\u001b[1;33m         \u001b[0mfunc\u001b[0m\u001b[1;33m(\u001b[0m\u001b[1;33m*\u001b[0m\u001b[0margs\u001b[0m\u001b[1;33m,\u001b[0m\u001b[1;33m**\u001b[0m\u001b[0mkwargs\u001b[0m\u001b[1;33m)\u001b[0m\u001b[1;33m\u001b[0m\u001b[1;33m\u001b[0m\u001b[0m\n\u001b[0m\u001b[0;32m      8\u001b[0m         \u001b[0mending_time\u001b[0m\u001b[1;33m=\u001b[0m\u001b[0mtime\u001b[0m\u001b[1;33m.\u001b[0m\u001b[0mperf_counter\u001b[0m\u001b[1;33m(\u001b[0m\u001b[1;33m)\u001b[0m\u001b[1;33m\u001b[0m\u001b[1;33m\u001b[0m\u001b[0m\n\u001b[0;32m      9\u001b[0m         \u001b[0mprint\u001b[0m\u001b[1;33m(\u001b[0m\u001b[1;34mf'the time taken by funcation is{ending_time-starting_time}'\u001b[0m\u001b[1;33m)\u001b[0m\u001b[1;33m\u001b[0m\u001b[1;33m\u001b[0m\u001b[0m\n",
      "\u001b[1;32m<ipython-input-105-46685cf34709>\u001b[0m in \u001b[0;36mfact\u001b[1;34m(x)\u001b[0m\n\u001b[0;32m      3\u001b[0m     \u001b[1;32mif\u001b[0m \u001b[0mx\u001b[0m\u001b[1;33m<\u001b[0m\u001b[1;36m3\u001b[0m\u001b[1;33m:\u001b[0m\u001b[1;33m\u001b[0m\u001b[1;33m\u001b[0m\u001b[0m\n\u001b[0;32m      4\u001b[0m         \u001b[1;32mreturn\u001b[0m \u001b[0mx\u001b[0m\u001b[1;33m\u001b[0m\u001b[1;33m\u001b[0m\u001b[0m\n\u001b[1;32m----> 5\u001b[1;33m     \u001b[1;32mreturn\u001b[0m \u001b[0mx\u001b[0m\u001b[1;33m*\u001b[0m\u001b[0mfact\u001b[0m\u001b[1;33m(\u001b[0m\u001b[0mx\u001b[0m\u001b[1;33m-\u001b[0m\u001b[1;36m1\u001b[0m\u001b[1;33m)\u001b[0m\u001b[1;33m\u001b[0m\u001b[1;33m\u001b[0m\u001b[0m\n\u001b[0m",
      "\u001b[1;32m<ipython-input-98-e84bca95d10e>\u001b[0m in \u001b[0;36mactualtime\u001b[1;34m(*args, **kwargs)\u001b[0m\n\u001b[0;32m      5\u001b[0m         \u001b[0mstarting_time\u001b[0m\u001b[1;33m=\u001b[0m\u001b[0mtime\u001b[0m\u001b[1;33m.\u001b[0m\u001b[0mperf_counter\u001b[0m\u001b[1;33m(\u001b[0m\u001b[1;33m)\u001b[0m\u001b[1;33m\u001b[0m\u001b[1;33m\u001b[0m\u001b[0m\n\u001b[0;32m      6\u001b[0m         \u001b[0mprint\u001b[0m\u001b[1;33m(\u001b[0m\u001b[1;34mf\"calling function {func.__name__!r}\"\u001b[0m\u001b[1;33m)\u001b[0m\u001b[1;33m\u001b[0m\u001b[1;33m\u001b[0m\u001b[0m\n\u001b[1;32m----> 7\u001b[1;33m         \u001b[0mfunc\u001b[0m\u001b[1;33m(\u001b[0m\u001b[1;33m*\u001b[0m\u001b[0margs\u001b[0m\u001b[1;33m,\u001b[0m\u001b[1;33m**\u001b[0m\u001b[0mkwargs\u001b[0m\u001b[1;33m)\u001b[0m\u001b[1;33m\u001b[0m\u001b[1;33m\u001b[0m\u001b[0m\n\u001b[0m\u001b[0;32m      8\u001b[0m         \u001b[0mending_time\u001b[0m\u001b[1;33m=\u001b[0m\u001b[0mtime\u001b[0m\u001b[1;33m.\u001b[0m\u001b[0mperf_counter\u001b[0m\u001b[1;33m(\u001b[0m\u001b[1;33m)\u001b[0m\u001b[1;33m\u001b[0m\u001b[1;33m\u001b[0m\u001b[0m\n\u001b[0;32m      9\u001b[0m         \u001b[0mprint\u001b[0m\u001b[1;33m(\u001b[0m\u001b[1;34mf'the time taken by funcation is{ending_time-starting_time}'\u001b[0m\u001b[1;33m)\u001b[0m\u001b[1;33m\u001b[0m\u001b[1;33m\u001b[0m\u001b[0m\n",
      "\u001b[1;32m<ipython-input-105-46685cf34709>\u001b[0m in \u001b[0;36mfact\u001b[1;34m(x)\u001b[0m\n\u001b[0;32m      3\u001b[0m     \u001b[1;32mif\u001b[0m \u001b[0mx\u001b[0m\u001b[1;33m<\u001b[0m\u001b[1;36m3\u001b[0m\u001b[1;33m:\u001b[0m\u001b[1;33m\u001b[0m\u001b[1;33m\u001b[0m\u001b[0m\n\u001b[0;32m      4\u001b[0m         \u001b[1;32mreturn\u001b[0m \u001b[0mx\u001b[0m\u001b[1;33m\u001b[0m\u001b[1;33m\u001b[0m\u001b[0m\n\u001b[1;32m----> 5\u001b[1;33m     \u001b[1;32mreturn\u001b[0m \u001b[0mx\u001b[0m\u001b[1;33m*\u001b[0m\u001b[0mfact\u001b[0m\u001b[1;33m(\u001b[0m\u001b[0mx\u001b[0m\u001b[1;33m-\u001b[0m\u001b[1;36m1\u001b[0m\u001b[1;33m)\u001b[0m\u001b[1;33m\u001b[0m\u001b[1;33m\u001b[0m\u001b[0m\n\u001b[0m",
      "\u001b[1;31mTypeError\u001b[0m: unsupported operand type(s) for *: 'int' and 'NoneType'"
     ]
    }
   ],
   "source": [
    "fact(5)"
   ]
  },
  {
   "cell_type": "code",
   "execution_count": 110,
   "metadata": {},
   "outputs": [
    {
     "data": {
      "text/plain": [
       "{'__name__': '__main__',\n",
       " '__doc__': 'Automatically created module for IPython interactive environment',\n",
       " '__package__': None,\n",
       " '__loader__': None,\n",
       " '__spec__': None,\n",
       " '__builtin__': <module 'builtins' (built-in)>,\n",
       " '__builtins__': <module 'builtins' (built-in)>,\n",
       " '_ih': ['',\n",
       "  'is_login= False\\ndef login(arg):\\n    if is_login:\\n        print(\"login checked\")\\n        return arg\\n    else:\\n        print(\\'you are logged in\\')\\n\\ndef purchase():\\n    print(\"purchase successful\")\\n    \\npurchase = login(purchase)',\n",
       "  'is_login= False\\ndef login(arg):\\n    if is_login:\\n        print(\"login checked\")\\n        return arg\\n    else:\\n        print(\\'you arenot logged in\\')\\n\\ndef purchase():\\n    print(\"purchase successful\")\\n    \\npurchase = login(purchase)',\n",
       "  'purchase()',\n",
       "  'is_login= True\\ndef login(arg):\\n    if is_login:\\n        print(\"login checked\")\\n        return arg\\n    else:\\n        print(\\'you arenot logged in\\')\\n\\ndef purchase():\\n    print(\"purchase successful\")\\n    \\npurchase = login(purchase)',\n",
       "  'purchase()',\n",
       "  'def outer():\\n    def hello():\\n        print(\"hello all\")\\n    def greet():\\n        print(\"Good morning\")\\n    hello()\\n    greet()',\n",
       "  'outer()',\n",
       "  'def outer():\\n    def hello():\\n        print(\"hello all\")\\n    def greet():\\n        print(\"Good morning\")\\n    return hello ,greet',\n",
       "  'a,b=outer()',\n",
       "  'a',\n",
       "  'def outer():\\n    def hello():\\n        print(\"hello all\")\\n    def greet():\\n        print(\"Good morning\")\\n    return hello, greet',\n",
       "  'a,b=outer()',\n",
       "  'a',\n",
       "  'print(a)',\n",
       "  'def outer():\\n    def hello():\\n        print(\"hello all\")\\n    def greet():\\n        print(\"Good morning\")\\n    return hello, greet',\n",
       "  'a,b=outer()',\n",
       "  'print(a)',\n",
       "  'b',\n",
       "  'def outer():\\n    def hello():\\n        print(\"hello all\")\\n    def greet():\\n        print(\"Good morning\")\\n    return hello(, greet()',\n",
       "  'def outer():\\n    def hello():\\n        print(\"hello all\")\\n    def greet():\\n        print(\"Good morning\")\\n    return hello(), greet()',\n",
       "  'a,b=outer()',\n",
       "  'print(a)',\n",
       "  'b',\n",
       "  'def outer():\\n    def hello():\\n        print(\"hello all\")\\n    def greet():\\n        print(\"Good morning\")\\n    return hello, greet',\n",
       "  'a,b=outer()',\n",
       "  'a()',\n",
       "  'b()',\n",
       "  'def outer(f):\\n    def inner():\\n        print(f\"before calling main function {f._name_!r}\")\\n        f()\\n        print(f\"after calling main function {f._name_!r}\")',\n",
       "  'def purchase():\\n    print(\"purchase successful\")\\n    \\npurchase = login(purchase)',\n",
       "  'def outer(f):\\n    def inner():\\n        print(f\"before calling main function {f._name_!r}\")\\n        f()\\n        print(f\"after calling main function {f._name_!r}\")',\n",
       "  'def purchase():\\n    print(\"purchase successful\")\\n    \\npurchase = outer(purchase)',\n",
       "  'purchase()',\n",
       "  'def outer(f):\\n    def inner():\\n        print(f\"before calling main function {f._name_!r}\")\\n        f()\\n        print(f\"after calling main function {f._name_!r}\")\\n    return inner',\n",
       "  'def purchase():\\n    print(\"purchase successful\")\\n    \\npurchase = outer(purchase)',\n",
       "  'purchase()',\n",
       "  'def login(f):\\n    def inner():\\n        print(f\"before calling main function {f._name_!r}\")\\n        f()\\n        print(f\"after calling main function {f._name_!r}\")\\n    return inner',\n",
       "  '@login\\ndef purchase():\\n    print(\"purchase successful\")',\n",
       "  'purchase._name_()',\n",
       "  'purchase._name_(',\n",
       "  'purchase._name_',\n",
       "  '@login',\n",
       "  'purchase()',\n",
       "  'def outer(f):\\n    def inner():\\n        print(f\"before calling main function {f.__name__!r}\")\\n        f()\\n        print(f\"after calling main function {f.__name__!r}\")\\n    return inner',\n",
       "  'def purchase():\\n    print(\"purchase successful\")\\n    \\npurchase = outer(purchase)',\n",
       "  'purchase()',\n",
       "  'purchase._name_',\n",
       "  'purchase.__name__',\n",
       "  'def login(f):\\n    def inner():\\n        print(f\"before calling main function {f._name_!r}\")\\n        f()\\n        print(f\"after calling main function {f._name_!r}\")\\n    return inner',\n",
       "  '@login   //decorator\\ndef purchase():\\n    print(\"purchase successful\")',\n",
       "  '@login   #decorator\\ndef purchase():\\n    print(\"purchase successful\")',\n",
       "  'purchase()',\n",
       "  'def login(f):\\n    def inner():\\n        print(f\"before calling main function {f.__name__!r}\")\\n        f()\\n        print(f\"after calling main function {f.__name__!r}\")\\n    return inner',\n",
       "  '@login   #decorator\\ndef purchase():\\n    print(\"purchase successful\")',\n",
       "  'purchase()',\n",
       "  'from functools import wraps()',\n",
       "  'from functools import wraps',\n",
       "  'def login(f):\\n    wraps(f)\\n    def inner():\\n        print(f\"before calling main function {f.__name__!r}\")\\n        f()\\n        print(f\"after calling main function {f.__name__!r}\")\\n    return inner',\n",
       "  '@login   #decorator\\ndef purchase():\\n    print(\"purchase successful\")',\n",
       "  'purchase()',\n",
       "  'import time\\ndef fact(x):\\n    starting_time=time.perf_counter()\\n    a=1\\n    for i in range(2,x+1):\\n        a=a*i\\n    ending_time=time.perf_counter()\\n    actualtime=ending_time-starting_time\\n    return a, actualtime\\n            \\nprint(fact(5))',\n",
       "  'def fact(x):\\n    starting_time=time.perf_counter()\\n    if x<3:\\n        ending_time=time.perf_counter()\\n        actualtime=ending_time-starting_time\\n        return x, actualtime\\n    ending_time=time.perf_counter()\\n    actualtime=ending_time-starting_time\\n    return x*fact(x-1), actualtime\\nfact(5)',\n",
       "  'def fact(x):\\n    if x<3:\\n        return x, actualtime\\n    return x*fact(x-1)\\nfact(5)',\n",
       "  'def fact(x):\\n    if x<3:\\n        return x\\n    return x*fact(x-1)\\nfact(5)',\n",
       "  'def time(f):\\n    starting_time=time.perf_counter()',\n",
       "  'def time(f):\\n    starting_time=time.perf_counter()\\n    ending_time=time.perf_counter()\\n    actualtime=ending_time-starting_time',\n",
       "  '@time\\ndef fact(x):\\n    a=1\\n    for i in range(2,x+1):\\n        a=a*i\\n    return a\\n            \\nprint(fact(5))',\n",
       "  'def timer(f):\\n    starting_time=time.perf_counter()\\n    ending_time=time.perf_counter()\\n    actualtime=ending_time-starting_time',\n",
       "  '@timer\\ndef fact(x):\\n    a=1\\n    for i in range(2,x+1):\\n        a=a*i\\n    return a\\n            \\nprint(fact(5))',\n",
       "  'def fact_iter(x):\\n    result=1\\n    if x<3:\\n        return x\\n    for i in range(n,1,-1):\\n        result=result*i\\n    return result\\nfact(5)',\n",
       "  'import time\\ndef timer(f):\\n    starting_time=time.perf_counter()\\n    print(f\"calling function {f.__name__!r}\")\\n    ending_time=time.perf_counter()\\n    return ending_time-starting_time\\n    ',\n",
       "  '@timer\\ndef fact_iter(x):\\n    result=1\\n    if x<3:\\n        return x\\n    for i in range(n,1,-1):\\n        result=result*i\\n    return result\\nfact(5)',\n",
       "  'import time\\ndef timer(f):\\n    def actualtime():\\n        starting_time=time.perf_counter()\\n        print(f\"calling function {f.__name__!r}\")\\n        f()\\n        ending_time=time.perf_counter()\\n        return ending_time-starting_time\\n    ',\n",
       "  '@timer\\ndef fact_iter(x):\\n    result=1\\n    if x<3:\\n        return x\\n    for i in range(n,1,-1):\\n        result=result*i\\n    return result\\nfact(5)',\n",
       "  'import time\\ndef timer(f):\\n    def actualtime():\\n        starting_time=time.perf_counter()\\n        print(f\"calling function {f.__name__!r}\")\\n        f()\\n        ending_time=time.perf_counter()\\n    return ending_time-starting_time\\n    ',\n",
       "  '@timer\\ndef fact_iter(x):\\n    result=1\\n    if x<3:\\n        return x\\n    for i in range(n,1,-1):\\n        result=result*i\\n    return result\\nfact(5)',\n",
       "  'import time\\ndef timer(f):\\n    wraps(f)\\n    def actualtime():\\n        starting_time=time.perf_counter()\\n        print(f\"calling function {f.__name__!r}\")\\n        f()\\n        ending_time=time.perf_counter()\\n    return ending_time-starting_time\\n    ',\n",
       "  '@timer\\ndef fact_iter(x):\\n    result=1\\n    if x<3:\\n        return x\\n    for i in range(n,1,-1):\\n        result=result*i\\n    return result\\nfact(5)',\n",
       "  'import time\\ndef timer(f):\\n    wraps(f)\\n    def actualtime():\\n        starting_time=time.perf_counter()\\n        print(f\"calling function {f.__name__!r}\")\\n        f()\\n        ending_time=time.perf_counter()\\n        act=ending_time-starting_time\\n    return act\\n    ',\n",
       "  '@timer\\ndef fact_iter(x):\\n    result=1\\n    if x<3:\\n        return x\\n    for i in range(n,1,-1):\\n        result=result*i\\n    return result\\nfact(5)',\n",
       "  'import time\\ndef timer(f):\\n    wraps(f)\\n    def actualtime():\\n        starting_time=time.perf_counter()\\n        print(f\"calling function {f.__name__!r}\")\\n        f()\\n        ending_time=time.perf_counter()\\n        print(f\\'the time taken by funcation is{ending_time-starting_time}\\')\\n    return actualtime\\n    ',\n",
       "  '@timer\\ndef fact_iter(x):\\n    result=1\\n    if x<3:\\n        return x\\n    for i in range(n,1,-1):\\n        result=result*i\\n    return result\\nfact(5)',\n",
       "  '@timer\\ndef fact_iter(x):\\n    result=1\\n    if x<3:\\n        return x\\n    for i in range(n,1,-1):\\n        result=result*i\\n    return result',\n",
       "  'fact_iter(5)',\n",
       "  'import time\\ndef timer(func)\\n    wraps(func)\\n    def actualtime():\\n        starting_time=time.perf_counter()\\n        print(f\"calling function {f.__name__!r}\")\\n        func()\\n        ending_time=time.perf_counter()\\n        print(f\\'the time taken by funcation is{ending_time-starting_time}\\')\\n    return actualtime\\n    ',\n",
       "  'import time\\ndef timer(func):\\n    wraps(func)\\n    def actualtime():\\n        starting_time=time.perf_counter()\\n        print(f\"calling function {f.__name__!r}\")\\n        func()\\n        ending_time=time.perf_counter()\\n        print(f\\'the time taken by funcation is{ending_time-starting_time}\\')\\n    return actualtime\\n    ',\n",
       "  '@timer\\ndef fact_iter(x):\\n    result=1\\n    if x<3:\\n        return x\\n    for i in range(n,1,-1):\\n        result=result*i\\n    return result',\n",
       "  'fact_iter(5)',\n",
       "  'import time\\ndef timer(func):\\n    @wraps(func)\\n    def actualtime():\\n        starting_time=time.perf_counter()\\n        print(f\"calling function {f.__name__!r}\")\\n        func()\\n        ending_time=time.perf_counter()\\n        print(f\\'the time taken by funcation is{ending_time-starting_time}\\')\\n    return actualtime\\n    ',\n",
       "  '@timer\\ndef fact_iter(x):\\n    result=1\\n    if x<3:\\n        return x\\n    for i in range(n,1,-1):\\n        result=result*i\\n    return result',\n",
       "  'fact_iter(5)',\n",
       "  'import time\\ndef timer(func):\\n    @wraps(func)\\n    def actualtime(*args,**kwargs)\\n        starting_time=time.perf_counter()\\n        print(f\"calling function {f.__name__!r}\")\\n        func(*args,**kwargs)\\n        ending_time=time.perf_counter()\\n        print(f\\'the time taken by funcation is{ending_time-starting_time}\\')\\n    return actualtime\\n    ',\n",
       "  '@timer\\ndef fact_iter(x):\\n    result=1\\n    if x<3:\\n        return x\\n    for i in range(n,1,-1):\\n        result=result*i\\n    return result',\n",
       "  'import time\\ndef timer(func):\\n    @wraps(func)\\n    def actualtime(*args,**kwargs):\\n        starting_time=time.perf_counter()\\n        print(f\"calling function {f.__name__!r}\")\\n        func(*args,**kwargs)\\n        ending_time=time.perf_counter()\\n        print(f\\'the time taken by funcation is{ending_time-starting_time}\\')\\n    return actualtime\\n    ',\n",
       "  '@timer\\ndef fact_iter(x):\\n    result=1\\n    if x<3:\\n        return x\\n    for i in range(n,1,-1):\\n        result=result*i\\n    return result',\n",
       "  'fact_iter(5)',\n",
       "  'import time\\ndef timer(func):\\n    @wraps(func)\\n    def actualtime(*args,**kwargs):\\n        starting_time=time.perf_counter()\\n        print(f\"calling function {funcname__!r}\")\\n        func(*args,**kwargs)\\n        ending_time=time.perf_counter()\\n        print(f\\'the time taken by funcation is{ending_time-starting_time}\\')\\n    return actualtime\\n    ',\n",
       "  'import time\\ndef timer(func):\\n    @wraps(func)\\n    def actualtime(*args,**kwargs):\\n        starting_time=time.perf_counter()\\n        print(f\"calling function {func.__name__!r}\\')\\n        func(*args,**kwargs)\\n        ending_time=time.perf_counter()\\n        print(f\\'the time taken by funcation is{ending_time-starting_time}\\')\\n    return actualtime\\n    ',\n",
       "  'import time\\ndef timer(func):\\n    @wraps(func)\\n    def actualtime(*args,**kwargs):\\n        starting_time=time.perf_counter()\\n        print(f\"calling function {func.__name__!r}\")\\n        func(*args,**kwargs)\\n        ending_time=time.perf_counter()\\n        print(f\\'the time taken by funcation is{ending_time-starting_time}\\')\\n    return actualtime\\n    ',\n",
       "  '@timer\\ndef fact_iter(x):\\n    result=1\\n    if x<3:\\n        return x\\n    for i in range(n,1,-1):\\n        result=result*i\\n    return result',\n",
       "  'fact_iter(5)',\n",
       "  '@timer\\ndef fact_iter(x):\\n    result=1\\n    if x<3:\\n        return x\\n    for i in range(x,1,-1):\\n        result=result*i\\n    return result',\n",
       "  'fact_iter(5)',\n",
       "  'import time\\ndef timer(func):\\n    @wraps(func)\\n    def actualtime(*args,**kwargs):\\n        starting_time=time.perf_counter()\\n        print(f\"calling function {func.__name__!r}\")\\n        func(*args,**kwargs)\\n        ending_time=time.perf_counter()\\n        actual_time=ending_time-starting_time\\n        print(f\\'the time taken by funcation is{actualtime.4f}\\')\\n    return actualtime',\n",
       "  'import time\\ndef timer(func):\\n    @wraps(func)\\n    def actualtime(*args,**kwargs):\\n        starting_time=time.perf_counter()\\n        print(f\"calling function {func.__name__!r}\")\\n        func(*args,**kwargs)\\n        ending_time=time.perf_counter()\\n        actual_time=ending_time-starting_time\\n        print(f\\'the time taken by funcation is{4f.actualtime}\\')\\n    return actualtime',\n",
       "  '@timer\\ndef fact(x):\\n    if x<3:\\n        return x\\n    return x*fact(x-1)',\n",
       "  'fact(5)',\n",
       "  'purchase()',\n",
       "  'is_login= False\\ndef login(arg):\\n    if is_login:\\n        print(\"login checked\")\\n        return arg\\n    else:\\n        print(\\'you arenot logged in\\')\\n\\ndef purchase():\\n    print(\"purchase successful\")\\n    \\npurchase = login(purchase)',\n",
       "  'purchase()',\n",
       "  'globals()'],\n",
       " '_oh': {10: <function __main__.outer.<locals>.hello()>,\n",
       "  13: <function __main__.outer.<locals>.hello()>,\n",
       "  18: <function __main__.outer.<locals>.greet()>,\n",
       "  47: 'inner',\n",
       "  61: ((((2,\n",
       "      5.000001692678779e-07,\n",
       "      2,\n",
       "      5.000001692678779e-07,\n",
       "      2,\n",
       "      5.000001692678779e-07),\n",
       "     3.999998625658918e-07,\n",
       "     (2,\n",
       "      5.000001692678779e-07,\n",
       "      2,\n",
       "      5.000001692678779e-07,\n",
       "      2,\n",
       "      5.000001692678779e-07),\n",
       "     3.999998625658918e-07,\n",
       "     (2,\n",
       "      5.000001692678779e-07,\n",
       "      2,\n",
       "      5.000001692678779e-07,\n",
       "      2,\n",
       "      5.000001692678779e-07),\n",
       "     3.999998625658918e-07,\n",
       "     (2,\n",
       "      5.000001692678779e-07,\n",
       "      2,\n",
       "      5.000001692678779e-07,\n",
       "      2,\n",
       "      5.000001692678779e-07),\n",
       "     3.999998625658918e-07),\n",
       "    4.99999714520527e-07,\n",
       "    ((2,\n",
       "      5.000001692678779e-07,\n",
       "      2,\n",
       "      5.000001692678779e-07,\n",
       "      2,\n",
       "      5.000001692678779e-07),\n",
       "     3.999998625658918e-07,\n",
       "     (2,\n",
       "      5.000001692678779e-07,\n",
       "      2,\n",
       "      5.000001692678779e-07,\n",
       "      2,\n",
       "      5.000001692678779e-07),\n",
       "     3.999998625658918e-07,\n",
       "     (2,\n",
       "      5.000001692678779e-07,\n",
       "      2,\n",
       "      5.000001692678779e-07,\n",
       "      2,\n",
       "      5.000001692678779e-07),\n",
       "     3.999998625658918e-07,\n",
       "     (2,\n",
       "      5.000001692678779e-07,\n",
       "      2,\n",
       "      5.000001692678779e-07,\n",
       "      2,\n",
       "      5.000001692678779e-07),\n",
       "     3.999998625658918e-07),\n",
       "    4.99999714520527e-07,\n",
       "    ((2,\n",
       "      5.000001692678779e-07,\n",
       "      2,\n",
       "      5.000001692678779e-07,\n",
       "      2,\n",
       "      5.000001692678779e-07),\n",
       "     3.999998625658918e-07,\n",
       "     (2,\n",
       "      5.000001692678779e-07,\n",
       "      2,\n",
       "      5.000001692678779e-07,\n",
       "      2,\n",
       "      5.000001692678779e-07),\n",
       "     3.999998625658918e-07,\n",
       "     (2,\n",
       "      5.000001692678779e-07,\n",
       "      2,\n",
       "      5.000001692678779e-07,\n",
       "      2,\n",
       "      5.000001692678779e-07),\n",
       "     3.999998625658918e-07,\n",
       "     (2,\n",
       "      5.000001692678779e-07,\n",
       "      2,\n",
       "      5.000001692678779e-07,\n",
       "      2,\n",
       "      5.000001692678779e-07),\n",
       "     3.999998625658918e-07),\n",
       "    4.99999714520527e-07,\n",
       "    ((2,\n",
       "      5.000001692678779e-07,\n",
       "      2,\n",
       "      5.000001692678779e-07,\n",
       "      2,\n",
       "      5.000001692678779e-07),\n",
       "     3.999998625658918e-07,\n",
       "     (2,\n",
       "      5.000001692678779e-07,\n",
       "      2,\n",
       "      5.000001692678779e-07,\n",
       "      2,\n",
       "      5.000001692678779e-07),\n",
       "     3.999998625658918e-07,\n",
       "     (2,\n",
       "      5.000001692678779e-07,\n",
       "      2,\n",
       "      5.000001692678779e-07,\n",
       "      2,\n",
       "      5.000001692678779e-07),\n",
       "     3.999998625658918e-07,\n",
       "     (2,\n",
       "      5.000001692678779e-07,\n",
       "      2,\n",
       "      5.000001692678779e-07,\n",
       "      2,\n",
       "      5.000001692678779e-07),\n",
       "     3.999998625658918e-07),\n",
       "    4.99999714520527e-07,\n",
       "    ((2,\n",
       "      5.000001692678779e-07,\n",
       "      2,\n",
       "      5.000001692678779e-07,\n",
       "      2,\n",
       "      5.000001692678779e-07),\n",
       "     3.999998625658918e-07,\n",
       "     (2,\n",
       "      5.000001692678779e-07,\n",
       "      2,\n",
       "      5.000001692678779e-07,\n",
       "      2,\n",
       "      5.000001692678779e-07),\n",
       "     3.999998625658918e-07,\n",
       "     (2,\n",
       "      5.000001692678779e-07,\n",
       "      2,\n",
       "      5.000001692678779e-07,\n",
       "      2,\n",
       "      5.000001692678779e-07),\n",
       "     3.999998625658918e-07,\n",
       "     (2,\n",
       "      5.000001692678779e-07,\n",
       "      2,\n",
       "      5.000001692678779e-07,\n",
       "      2,\n",
       "      5.000001692678779e-07),\n",
       "     3.999998625658918e-07),\n",
       "    4.99999714520527e-07),\n",
       "   6.999998731771484e-07),\n",
       "  63: 120,\n",
       "  69: 120,\n",
       "  71: 120,\n",
       "  73: 120,\n",
       "  81: 120},\n",
       " '_dh': ['C:\\\\Users\\\\User\\\\Downloads\\\\Python in broadway\\\\Fundamentals(Basic)'],\n",
       " 'In': ['',\n",
       "  'is_login= False\\ndef login(arg):\\n    if is_login:\\n        print(\"login checked\")\\n        return arg\\n    else:\\n        print(\\'you are logged in\\')\\n\\ndef purchase():\\n    print(\"purchase successful\")\\n    \\npurchase = login(purchase)',\n",
       "  'is_login= False\\ndef login(arg):\\n    if is_login:\\n        print(\"login checked\")\\n        return arg\\n    else:\\n        print(\\'you arenot logged in\\')\\n\\ndef purchase():\\n    print(\"purchase successful\")\\n    \\npurchase = login(purchase)',\n",
       "  'purchase()',\n",
       "  'is_login= True\\ndef login(arg):\\n    if is_login:\\n        print(\"login checked\")\\n        return arg\\n    else:\\n        print(\\'you arenot logged in\\')\\n\\ndef purchase():\\n    print(\"purchase successful\")\\n    \\npurchase = login(purchase)',\n",
       "  'purchase()',\n",
       "  'def outer():\\n    def hello():\\n        print(\"hello all\")\\n    def greet():\\n        print(\"Good morning\")\\n    hello()\\n    greet()',\n",
       "  'outer()',\n",
       "  'def outer():\\n    def hello():\\n        print(\"hello all\")\\n    def greet():\\n        print(\"Good morning\")\\n    return hello ,greet',\n",
       "  'a,b=outer()',\n",
       "  'a',\n",
       "  'def outer():\\n    def hello():\\n        print(\"hello all\")\\n    def greet():\\n        print(\"Good morning\")\\n    return hello, greet',\n",
       "  'a,b=outer()',\n",
       "  'a',\n",
       "  'print(a)',\n",
       "  'def outer():\\n    def hello():\\n        print(\"hello all\")\\n    def greet():\\n        print(\"Good morning\")\\n    return hello, greet',\n",
       "  'a,b=outer()',\n",
       "  'print(a)',\n",
       "  'b',\n",
       "  'def outer():\\n    def hello():\\n        print(\"hello all\")\\n    def greet():\\n        print(\"Good morning\")\\n    return hello(, greet()',\n",
       "  'def outer():\\n    def hello():\\n        print(\"hello all\")\\n    def greet():\\n        print(\"Good morning\")\\n    return hello(), greet()',\n",
       "  'a,b=outer()',\n",
       "  'print(a)',\n",
       "  'b',\n",
       "  'def outer():\\n    def hello():\\n        print(\"hello all\")\\n    def greet():\\n        print(\"Good morning\")\\n    return hello, greet',\n",
       "  'a,b=outer()',\n",
       "  'a()',\n",
       "  'b()',\n",
       "  'def outer(f):\\n    def inner():\\n        print(f\"before calling main function {f._name_!r}\")\\n        f()\\n        print(f\"after calling main function {f._name_!r}\")',\n",
       "  'def purchase():\\n    print(\"purchase successful\")\\n    \\npurchase = login(purchase)',\n",
       "  'def outer(f):\\n    def inner():\\n        print(f\"before calling main function {f._name_!r}\")\\n        f()\\n        print(f\"after calling main function {f._name_!r}\")',\n",
       "  'def purchase():\\n    print(\"purchase successful\")\\n    \\npurchase = outer(purchase)',\n",
       "  'purchase()',\n",
       "  'def outer(f):\\n    def inner():\\n        print(f\"before calling main function {f._name_!r}\")\\n        f()\\n        print(f\"after calling main function {f._name_!r}\")\\n    return inner',\n",
       "  'def purchase():\\n    print(\"purchase successful\")\\n    \\npurchase = outer(purchase)',\n",
       "  'purchase()',\n",
       "  'def login(f):\\n    def inner():\\n        print(f\"before calling main function {f._name_!r}\")\\n        f()\\n        print(f\"after calling main function {f._name_!r}\")\\n    return inner',\n",
       "  '@login\\ndef purchase():\\n    print(\"purchase successful\")',\n",
       "  'purchase._name_()',\n",
       "  'purchase._name_(',\n",
       "  'purchase._name_',\n",
       "  '@login',\n",
       "  'purchase()',\n",
       "  'def outer(f):\\n    def inner():\\n        print(f\"before calling main function {f.__name__!r}\")\\n        f()\\n        print(f\"after calling main function {f.__name__!r}\")\\n    return inner',\n",
       "  'def purchase():\\n    print(\"purchase successful\")\\n    \\npurchase = outer(purchase)',\n",
       "  'purchase()',\n",
       "  'purchase._name_',\n",
       "  'purchase.__name__',\n",
       "  'def login(f):\\n    def inner():\\n        print(f\"before calling main function {f._name_!r}\")\\n        f()\\n        print(f\"after calling main function {f._name_!r}\")\\n    return inner',\n",
       "  '@login   //decorator\\ndef purchase():\\n    print(\"purchase successful\")',\n",
       "  '@login   #decorator\\ndef purchase():\\n    print(\"purchase successful\")',\n",
       "  'purchase()',\n",
       "  'def login(f):\\n    def inner():\\n        print(f\"before calling main function {f.__name__!r}\")\\n        f()\\n        print(f\"after calling main function {f.__name__!r}\")\\n    return inner',\n",
       "  '@login   #decorator\\ndef purchase():\\n    print(\"purchase successful\")',\n",
       "  'purchase()',\n",
       "  'from functools import wraps()',\n",
       "  'from functools import wraps',\n",
       "  'def login(f):\\n    wraps(f)\\n    def inner():\\n        print(f\"before calling main function {f.__name__!r}\")\\n        f()\\n        print(f\"after calling main function {f.__name__!r}\")\\n    return inner',\n",
       "  '@login   #decorator\\ndef purchase():\\n    print(\"purchase successful\")',\n",
       "  'purchase()',\n",
       "  'import time\\ndef fact(x):\\n    starting_time=time.perf_counter()\\n    a=1\\n    for i in range(2,x+1):\\n        a=a*i\\n    ending_time=time.perf_counter()\\n    actualtime=ending_time-starting_time\\n    return a, actualtime\\n            \\nprint(fact(5))',\n",
       "  'def fact(x):\\n    starting_time=time.perf_counter()\\n    if x<3:\\n        ending_time=time.perf_counter()\\n        actualtime=ending_time-starting_time\\n        return x, actualtime\\n    ending_time=time.perf_counter()\\n    actualtime=ending_time-starting_time\\n    return x*fact(x-1), actualtime\\nfact(5)',\n",
       "  'def fact(x):\\n    if x<3:\\n        return x, actualtime\\n    return x*fact(x-1)\\nfact(5)',\n",
       "  'def fact(x):\\n    if x<3:\\n        return x\\n    return x*fact(x-1)\\nfact(5)',\n",
       "  'def time(f):\\n    starting_time=time.perf_counter()',\n",
       "  'def time(f):\\n    starting_time=time.perf_counter()\\n    ending_time=time.perf_counter()\\n    actualtime=ending_time-starting_time',\n",
       "  '@time\\ndef fact(x):\\n    a=1\\n    for i in range(2,x+1):\\n        a=a*i\\n    return a\\n            \\nprint(fact(5))',\n",
       "  'def timer(f):\\n    starting_time=time.perf_counter()\\n    ending_time=time.perf_counter()\\n    actualtime=ending_time-starting_time',\n",
       "  '@timer\\ndef fact(x):\\n    a=1\\n    for i in range(2,x+1):\\n        a=a*i\\n    return a\\n            \\nprint(fact(5))',\n",
       "  'def fact_iter(x):\\n    result=1\\n    if x<3:\\n        return x\\n    for i in range(n,1,-1):\\n        result=result*i\\n    return result\\nfact(5)',\n",
       "  'import time\\ndef timer(f):\\n    starting_time=time.perf_counter()\\n    print(f\"calling function {f.__name__!r}\")\\n    ending_time=time.perf_counter()\\n    return ending_time-starting_time\\n    ',\n",
       "  '@timer\\ndef fact_iter(x):\\n    result=1\\n    if x<3:\\n        return x\\n    for i in range(n,1,-1):\\n        result=result*i\\n    return result\\nfact(5)',\n",
       "  'import time\\ndef timer(f):\\n    def actualtime():\\n        starting_time=time.perf_counter()\\n        print(f\"calling function {f.__name__!r}\")\\n        f()\\n        ending_time=time.perf_counter()\\n        return ending_time-starting_time\\n    ',\n",
       "  '@timer\\ndef fact_iter(x):\\n    result=1\\n    if x<3:\\n        return x\\n    for i in range(n,1,-1):\\n        result=result*i\\n    return result\\nfact(5)',\n",
       "  'import time\\ndef timer(f):\\n    def actualtime():\\n        starting_time=time.perf_counter()\\n        print(f\"calling function {f.__name__!r}\")\\n        f()\\n        ending_time=time.perf_counter()\\n    return ending_time-starting_time\\n    ',\n",
       "  '@timer\\ndef fact_iter(x):\\n    result=1\\n    if x<3:\\n        return x\\n    for i in range(n,1,-1):\\n        result=result*i\\n    return result\\nfact(5)',\n",
       "  'import time\\ndef timer(f):\\n    wraps(f)\\n    def actualtime():\\n        starting_time=time.perf_counter()\\n        print(f\"calling function {f.__name__!r}\")\\n        f()\\n        ending_time=time.perf_counter()\\n    return ending_time-starting_time\\n    ',\n",
       "  '@timer\\ndef fact_iter(x):\\n    result=1\\n    if x<3:\\n        return x\\n    for i in range(n,1,-1):\\n        result=result*i\\n    return result\\nfact(5)',\n",
       "  'import time\\ndef timer(f):\\n    wraps(f)\\n    def actualtime():\\n        starting_time=time.perf_counter()\\n        print(f\"calling function {f.__name__!r}\")\\n        f()\\n        ending_time=time.perf_counter()\\n        act=ending_time-starting_time\\n    return act\\n    ',\n",
       "  '@timer\\ndef fact_iter(x):\\n    result=1\\n    if x<3:\\n        return x\\n    for i in range(n,1,-1):\\n        result=result*i\\n    return result\\nfact(5)',\n",
       "  'import time\\ndef timer(f):\\n    wraps(f)\\n    def actualtime():\\n        starting_time=time.perf_counter()\\n        print(f\"calling function {f.__name__!r}\")\\n        f()\\n        ending_time=time.perf_counter()\\n        print(f\\'the time taken by funcation is{ending_time-starting_time}\\')\\n    return actualtime\\n    ',\n",
       "  '@timer\\ndef fact_iter(x):\\n    result=1\\n    if x<3:\\n        return x\\n    for i in range(n,1,-1):\\n        result=result*i\\n    return result\\nfact(5)',\n",
       "  '@timer\\ndef fact_iter(x):\\n    result=1\\n    if x<3:\\n        return x\\n    for i in range(n,1,-1):\\n        result=result*i\\n    return result',\n",
       "  'fact_iter(5)',\n",
       "  'import time\\ndef timer(func)\\n    wraps(func)\\n    def actualtime():\\n        starting_time=time.perf_counter()\\n        print(f\"calling function {f.__name__!r}\")\\n        func()\\n        ending_time=time.perf_counter()\\n        print(f\\'the time taken by funcation is{ending_time-starting_time}\\')\\n    return actualtime\\n    ',\n",
       "  'import time\\ndef timer(func):\\n    wraps(func)\\n    def actualtime():\\n        starting_time=time.perf_counter()\\n        print(f\"calling function {f.__name__!r}\")\\n        func()\\n        ending_time=time.perf_counter()\\n        print(f\\'the time taken by funcation is{ending_time-starting_time}\\')\\n    return actualtime\\n    ',\n",
       "  '@timer\\ndef fact_iter(x):\\n    result=1\\n    if x<3:\\n        return x\\n    for i in range(n,1,-1):\\n        result=result*i\\n    return result',\n",
       "  'fact_iter(5)',\n",
       "  'import time\\ndef timer(func):\\n    @wraps(func)\\n    def actualtime():\\n        starting_time=time.perf_counter()\\n        print(f\"calling function {f.__name__!r}\")\\n        func()\\n        ending_time=time.perf_counter()\\n        print(f\\'the time taken by funcation is{ending_time-starting_time}\\')\\n    return actualtime\\n    ',\n",
       "  '@timer\\ndef fact_iter(x):\\n    result=1\\n    if x<3:\\n        return x\\n    for i in range(n,1,-1):\\n        result=result*i\\n    return result',\n",
       "  'fact_iter(5)',\n",
       "  'import time\\ndef timer(func):\\n    @wraps(func)\\n    def actualtime(*args,**kwargs)\\n        starting_time=time.perf_counter()\\n        print(f\"calling function {f.__name__!r}\")\\n        func(*args,**kwargs)\\n        ending_time=time.perf_counter()\\n        print(f\\'the time taken by funcation is{ending_time-starting_time}\\')\\n    return actualtime\\n    ',\n",
       "  '@timer\\ndef fact_iter(x):\\n    result=1\\n    if x<3:\\n        return x\\n    for i in range(n,1,-1):\\n        result=result*i\\n    return result',\n",
       "  'import time\\ndef timer(func):\\n    @wraps(func)\\n    def actualtime(*args,**kwargs):\\n        starting_time=time.perf_counter()\\n        print(f\"calling function {f.__name__!r}\")\\n        func(*args,**kwargs)\\n        ending_time=time.perf_counter()\\n        print(f\\'the time taken by funcation is{ending_time-starting_time}\\')\\n    return actualtime\\n    ',\n",
       "  '@timer\\ndef fact_iter(x):\\n    result=1\\n    if x<3:\\n        return x\\n    for i in range(n,1,-1):\\n        result=result*i\\n    return result',\n",
       "  'fact_iter(5)',\n",
       "  'import time\\ndef timer(func):\\n    @wraps(func)\\n    def actualtime(*args,**kwargs):\\n        starting_time=time.perf_counter()\\n        print(f\"calling function {funcname__!r}\")\\n        func(*args,**kwargs)\\n        ending_time=time.perf_counter()\\n        print(f\\'the time taken by funcation is{ending_time-starting_time}\\')\\n    return actualtime\\n    ',\n",
       "  'import time\\ndef timer(func):\\n    @wraps(func)\\n    def actualtime(*args,**kwargs):\\n        starting_time=time.perf_counter()\\n        print(f\"calling function {func.__name__!r}\\')\\n        func(*args,**kwargs)\\n        ending_time=time.perf_counter()\\n        print(f\\'the time taken by funcation is{ending_time-starting_time}\\')\\n    return actualtime\\n    ',\n",
       "  'import time\\ndef timer(func):\\n    @wraps(func)\\n    def actualtime(*args,**kwargs):\\n        starting_time=time.perf_counter()\\n        print(f\"calling function {func.__name__!r}\")\\n        func(*args,**kwargs)\\n        ending_time=time.perf_counter()\\n        print(f\\'the time taken by funcation is{ending_time-starting_time}\\')\\n    return actualtime\\n    ',\n",
       "  '@timer\\ndef fact_iter(x):\\n    result=1\\n    if x<3:\\n        return x\\n    for i in range(n,1,-1):\\n        result=result*i\\n    return result',\n",
       "  'fact_iter(5)',\n",
       "  '@timer\\ndef fact_iter(x):\\n    result=1\\n    if x<3:\\n        return x\\n    for i in range(x,1,-1):\\n        result=result*i\\n    return result',\n",
       "  'fact_iter(5)',\n",
       "  'import time\\ndef timer(func):\\n    @wraps(func)\\n    def actualtime(*args,**kwargs):\\n        starting_time=time.perf_counter()\\n        print(f\"calling function {func.__name__!r}\")\\n        func(*args,**kwargs)\\n        ending_time=time.perf_counter()\\n        actual_time=ending_time-starting_time\\n        print(f\\'the time taken by funcation is{actualtime.4f}\\')\\n    return actualtime',\n",
       "  'import time\\ndef timer(func):\\n    @wraps(func)\\n    def actualtime(*args,**kwargs):\\n        starting_time=time.perf_counter()\\n        print(f\"calling function {func.__name__!r}\")\\n        func(*args,**kwargs)\\n        ending_time=time.perf_counter()\\n        actual_time=ending_time-starting_time\\n        print(f\\'the time taken by funcation is{4f.actualtime}\\')\\n    return actualtime',\n",
       "  '@timer\\ndef fact(x):\\n    if x<3:\\n        return x\\n    return x*fact(x-1)',\n",
       "  'fact(5)',\n",
       "  'purchase()',\n",
       "  'is_login= False\\ndef login(arg):\\n    if is_login:\\n        print(\"login checked\")\\n        return arg\\n    else:\\n        print(\\'you arenot logged in\\')\\n\\ndef purchase():\\n    print(\"purchase successful\")\\n    \\npurchase = login(purchase)',\n",
       "  'purchase()',\n",
       "  'globals()'],\n",
       " 'Out': {10: <function __main__.outer.<locals>.hello()>,\n",
       "  13: <function __main__.outer.<locals>.hello()>,\n",
       "  18: <function __main__.outer.<locals>.greet()>,\n",
       "  47: 'inner',\n",
       "  61: ((((2,\n",
       "      5.000001692678779e-07,\n",
       "      2,\n",
       "      5.000001692678779e-07,\n",
       "      2,\n",
       "      5.000001692678779e-07),\n",
       "     3.999998625658918e-07,\n",
       "     (2,\n",
       "      5.000001692678779e-07,\n",
       "      2,\n",
       "      5.000001692678779e-07,\n",
       "      2,\n",
       "      5.000001692678779e-07),\n",
       "     3.999998625658918e-07,\n",
       "     (2,\n",
       "      5.000001692678779e-07,\n",
       "      2,\n",
       "      5.000001692678779e-07,\n",
       "      2,\n",
       "      5.000001692678779e-07),\n",
       "     3.999998625658918e-07,\n",
       "     (2,\n",
       "      5.000001692678779e-07,\n",
       "      2,\n",
       "      5.000001692678779e-07,\n",
       "      2,\n",
       "      5.000001692678779e-07),\n",
       "     3.999998625658918e-07),\n",
       "    4.99999714520527e-07,\n",
       "    ((2,\n",
       "      5.000001692678779e-07,\n",
       "      2,\n",
       "      5.000001692678779e-07,\n",
       "      2,\n",
       "      5.000001692678779e-07),\n",
       "     3.999998625658918e-07,\n",
       "     (2,\n",
       "      5.000001692678779e-07,\n",
       "      2,\n",
       "      5.000001692678779e-07,\n",
       "      2,\n",
       "      5.000001692678779e-07),\n",
       "     3.999998625658918e-07,\n",
       "     (2,\n",
       "      5.000001692678779e-07,\n",
       "      2,\n",
       "      5.000001692678779e-07,\n",
       "      2,\n",
       "      5.000001692678779e-07),\n",
       "     3.999998625658918e-07,\n",
       "     (2,\n",
       "      5.000001692678779e-07,\n",
       "      2,\n",
       "      5.000001692678779e-07,\n",
       "      2,\n",
       "      5.000001692678779e-07),\n",
       "     3.999998625658918e-07),\n",
       "    4.99999714520527e-07,\n",
       "    ((2,\n",
       "      5.000001692678779e-07,\n",
       "      2,\n",
       "      5.000001692678779e-07,\n",
       "      2,\n",
       "      5.000001692678779e-07),\n",
       "     3.999998625658918e-07,\n",
       "     (2,\n",
       "      5.000001692678779e-07,\n",
       "      2,\n",
       "      5.000001692678779e-07,\n",
       "      2,\n",
       "      5.000001692678779e-07),\n",
       "     3.999998625658918e-07,\n",
       "     (2,\n",
       "      5.000001692678779e-07,\n",
       "      2,\n",
       "      5.000001692678779e-07,\n",
       "      2,\n",
       "      5.000001692678779e-07),\n",
       "     3.999998625658918e-07,\n",
       "     (2,\n",
       "      5.000001692678779e-07,\n",
       "      2,\n",
       "      5.000001692678779e-07,\n",
       "      2,\n",
       "      5.000001692678779e-07),\n",
       "     3.999998625658918e-07),\n",
       "    4.99999714520527e-07,\n",
       "    ((2,\n",
       "      5.000001692678779e-07,\n",
       "      2,\n",
       "      5.000001692678779e-07,\n",
       "      2,\n",
       "      5.000001692678779e-07),\n",
       "     3.999998625658918e-07,\n",
       "     (2,\n",
       "      5.000001692678779e-07,\n",
       "      2,\n",
       "      5.000001692678779e-07,\n",
       "      2,\n",
       "      5.000001692678779e-07),\n",
       "     3.999998625658918e-07,\n",
       "     (2,\n",
       "      5.000001692678779e-07,\n",
       "      2,\n",
       "      5.000001692678779e-07,\n",
       "      2,\n",
       "      5.000001692678779e-07),\n",
       "     3.999998625658918e-07,\n",
       "     (2,\n",
       "      5.000001692678779e-07,\n",
       "      2,\n",
       "      5.000001692678779e-07,\n",
       "      2,\n",
       "      5.000001692678779e-07),\n",
       "     3.999998625658918e-07),\n",
       "    4.99999714520527e-07,\n",
       "    ((2,\n",
       "      5.000001692678779e-07,\n",
       "      2,\n",
       "      5.000001692678779e-07,\n",
       "      2,\n",
       "      5.000001692678779e-07),\n",
       "     3.999998625658918e-07,\n",
       "     (2,\n",
       "      5.000001692678779e-07,\n",
       "      2,\n",
       "      5.000001692678779e-07,\n",
       "      2,\n",
       "      5.000001692678779e-07),\n",
       "     3.999998625658918e-07,\n",
       "     (2,\n",
       "      5.000001692678779e-07,\n",
       "      2,\n",
       "      5.000001692678779e-07,\n",
       "      2,\n",
       "      5.000001692678779e-07),\n",
       "     3.999998625658918e-07,\n",
       "     (2,\n",
       "      5.000001692678779e-07,\n",
       "      2,\n",
       "      5.000001692678779e-07,\n",
       "      2,\n",
       "      5.000001692678779e-07),\n",
       "     3.999998625658918e-07),\n",
       "    4.99999714520527e-07),\n",
       "   6.999998731771484e-07),\n",
       "  63: 120,\n",
       "  69: 120,\n",
       "  71: 120,\n",
       "  73: 120,\n",
       "  81: 120},\n",
       " 'get_ipython': <bound method InteractiveShell.get_ipython of <ipykernel.zmqshell.ZMQInteractiveShell object at 0x000002B3183C1E50>>,\n",
       " 'exit': <IPython.core.autocall.ZMQExitAutocall at 0x2b31846bac0>,\n",
       " 'quit': <IPython.core.autocall.ZMQExitAutocall at 0x2b31846bac0>,\n",
       " '_': 120,\n",
       " '__': 120,\n",
       " '___': 120,\n",
       " '_i': 'purchase()',\n",
       " '_ii': 'is_login= False\\ndef login(arg):\\n    if is_login:\\n        print(\"login checked\")\\n        return arg\\n    else:\\n        print(\\'you arenot logged in\\')\\n\\ndef purchase():\\n    print(\"purchase successful\")\\n    \\npurchase = login(purchase)',\n",
       " '_iii': 'purchase()',\n",
       " '_i1': 'is_login= False\\ndef login(arg):\\n    if is_login:\\n        print(\"login checked\")\\n        return arg\\n    else:\\n        print(\\'you are logged in\\')\\n\\ndef purchase():\\n    print(\"purchase successful\")\\n    \\npurchase = login(purchase)',\n",
       " 'is_login': False,\n",
       " 'login': <function __main__.login(arg)>,\n",
       " 'purchase': None,\n",
       " '_i2': 'is_login= False\\ndef login(arg):\\n    if is_login:\\n        print(\"login checked\")\\n        return arg\\n    else:\\n        print(\\'you arenot logged in\\')\\n\\ndef purchase():\\n    print(\"purchase successful\")\\n    \\npurchase = login(purchase)',\n",
       " '_i3': 'purchase()',\n",
       " '_i4': 'is_login= True\\ndef login(arg):\\n    if is_login:\\n        print(\"login checked\")\\n        return arg\\n    else:\\n        print(\\'you arenot logged in\\')\\n\\ndef purchase():\\n    print(\"purchase successful\")\\n    \\npurchase = login(purchase)',\n",
       " '_i5': 'purchase()',\n",
       " '_i6': 'def outer():\\n    def hello():\\n        print(\"hello all\")\\n    def greet():\\n        print(\"Good morning\")\\n    hello()\\n    greet()',\n",
       " 'outer': <function __main__.outer(f)>,\n",
       " '_i7': 'outer()',\n",
       " '_i8': 'def outer():\\n    def hello():\\n        print(\"hello all\")\\n    def greet():\\n        print(\"Good morning\")\\n    return hello ,greet',\n",
       " '_i9': 'a,b=outer()',\n",
       " 'a': <function __main__.outer.<locals>.hello()>,\n",
       " 'b': <function __main__.outer.<locals>.greet()>,\n",
       " '_i10': 'a',\n",
       " '_10': <function __main__.outer.<locals>.hello()>,\n",
       " '_i11': 'def outer():\\n    def hello():\\n        print(\"hello all\")\\n    def greet():\\n        print(\"Good morning\")\\n    return hello, greet',\n",
       " '_i12': 'a,b=outer()',\n",
       " '_i13': 'a',\n",
       " '_13': <function __main__.outer.<locals>.hello()>,\n",
       " '_i14': 'print(a)',\n",
       " '_i15': 'def outer():\\n    def hello():\\n        print(\"hello all\")\\n    def greet():\\n        print(\"Good morning\")\\n    return hello, greet',\n",
       " '_i16': 'a,b=outer()',\n",
       " '_i17': 'print(a)',\n",
       " '_i18': 'b',\n",
       " '_18': <function __main__.outer.<locals>.greet()>,\n",
       " '_i19': 'def outer():\\n    def hello():\\n        print(\"hello all\")\\n    def greet():\\n        print(\"Good morning\")\\n    return hello(, greet()',\n",
       " '_i20': 'def outer():\\n    def hello():\\n        print(\"hello all\")\\n    def greet():\\n        print(\"Good morning\")\\n    return hello(), greet()',\n",
       " '_i21': 'a,b=outer()',\n",
       " '_i22': 'print(a)',\n",
       " '_i23': 'b',\n",
       " '_i24': 'def outer():\\n    def hello():\\n        print(\"hello all\")\\n    def greet():\\n        print(\"Good morning\")\\n    return hello, greet',\n",
       " '_i25': 'a,b=outer()',\n",
       " '_i26': 'a()',\n",
       " '_i27': 'b()',\n",
       " '_i28': 'def outer(f):\\n    def inner():\\n        print(f\"before calling main function {f._name_!r}\")\\n        f()\\n        print(f\"after calling main function {f._name_!r}\")',\n",
       " '_i29': 'def purchase():\\n    print(\"purchase successful\")\\n    \\npurchase = login(purchase)',\n",
       " '_i30': 'def outer(f):\\n    def inner():\\n        print(f\"before calling main function {f._name_!r}\")\\n        f()\\n        print(f\"after calling main function {f._name_!r}\")',\n",
       " '_i31': 'def purchase():\\n    print(\"purchase successful\")\\n    \\npurchase = outer(purchase)',\n",
       " '_i32': 'purchase()',\n",
       " '_i33': 'def outer(f):\\n    def inner():\\n        print(f\"before calling main function {f._name_!r}\")\\n        f()\\n        print(f\"after calling main function {f._name_!r}\")\\n    return inner',\n",
       " '_i34': 'def purchase():\\n    print(\"purchase successful\")\\n    \\npurchase = outer(purchase)',\n",
       " '_i35': 'purchase()',\n",
       " '_i36': 'def login(f):\\n    def inner():\\n        print(f\"before calling main function {f._name_!r}\")\\n        f()\\n        print(f\"after calling main function {f._name_!r}\")\\n    return inner',\n",
       " '_i37': '@login\\ndef purchase():\\n    print(\"purchase successful\")',\n",
       " '_i38': 'purchase._name_()',\n",
       " '_i39': 'purchase._name_(',\n",
       " '_i40': 'purchase._name_',\n",
       " '_i41': '@login',\n",
       " '_i42': 'purchase()',\n",
       " '_i43': 'def outer(f):\\n    def inner():\\n        print(f\"before calling main function {f.__name__!r}\")\\n        f()\\n        print(f\"after calling main function {f.__name__!r}\")\\n    return inner',\n",
       " '_i44': 'def purchase():\\n    print(\"purchase successful\")\\n    \\npurchase = outer(purchase)',\n",
       " '_i45': 'purchase()',\n",
       " '_i46': 'purchase._name_',\n",
       " '_i47': 'purchase.__name__',\n",
       " '_47': 'inner',\n",
       " '_i48': 'def login(f):\\n    def inner():\\n        print(f\"before calling main function {f._name_!r}\")\\n        f()\\n        print(f\"after calling main function {f._name_!r}\")\\n    return inner',\n",
       " '_i49': '@login   //decorator\\ndef purchase():\\n    print(\"purchase successful\")',\n",
       " '_i50': '@login   #decorator\\ndef purchase():\\n    print(\"purchase successful\")',\n",
       " '_i51': 'purchase()',\n",
       " '_i52': 'def login(f):\\n    def inner():\\n        print(f\"before calling main function {f.__name__!r}\")\\n        f()\\n        print(f\"after calling main function {f.__name__!r}\")\\n    return inner',\n",
       " '_i53': '@login   #decorator\\ndef purchase():\\n    print(\"purchase successful\")',\n",
       " '_i54': 'purchase()',\n",
       " '_i55': 'from functools import wraps()',\n",
       " '_i56': 'from functools import wraps',\n",
       " 'wraps': <function functools.wraps(wrapped, assigned=('__module__', '__name__', '__qualname__', '__doc__', '__annotations__'), updated=('__dict__',))>,\n",
       " '_i57': 'def login(f):\\n    wraps(f)\\n    def inner():\\n        print(f\"before calling main function {f.__name__!r}\")\\n        f()\\n        print(f\"after calling main function {f.__name__!r}\")\\n    return inner',\n",
       " '_i58': '@login   #decorator\\ndef purchase():\\n    print(\"purchase successful\")',\n",
       " '_i59': 'purchase()',\n",
       " '_i60': 'import time\\ndef fact(x):\\n    starting_time=time.perf_counter()\\n    a=1\\n    for i in range(2,x+1):\\n        a=a*i\\n    ending_time=time.perf_counter()\\n    actualtime=ending_time-starting_time\\n    return a, actualtime\\n            \\nprint(fact(5))',\n",
       " 'time': <module 'time' (built-in)>,\n",
       " 'fact': <function __main__.fact(x)>,\n",
       " '_i61': 'def fact(x):\\n    starting_time=time.perf_counter()\\n    if x<3:\\n        ending_time=time.perf_counter()\\n        actualtime=ending_time-starting_time\\n        return x, actualtime\\n    ending_time=time.perf_counter()\\n    actualtime=ending_time-starting_time\\n    return x*fact(x-1), actualtime\\nfact(5)',\n",
       " '_61': ((((2,\n",
       "     5.000001692678779e-07,\n",
       "     2,\n",
       "     5.000001692678779e-07,\n",
       "     2,\n",
       "     5.000001692678779e-07),\n",
       "    3.999998625658918e-07,\n",
       "    (2,\n",
       "     5.000001692678779e-07,\n",
       "     2,\n",
       "     5.000001692678779e-07,\n",
       "     2,\n",
       "     5.000001692678779e-07),\n",
       "    3.999998625658918e-07,\n",
       "    (2,\n",
       "     5.000001692678779e-07,\n",
       "     2,\n",
       "     5.000001692678779e-07,\n",
       "     2,\n",
       "     5.000001692678779e-07),\n",
       "    3.999998625658918e-07,\n",
       "    (2,\n",
       "     5.000001692678779e-07,\n",
       "     2,\n",
       "     5.000001692678779e-07,\n",
       "     2,\n",
       "     5.000001692678779e-07),\n",
       "    3.999998625658918e-07),\n",
       "   4.99999714520527e-07,\n",
       "   ((2,\n",
       "     5.000001692678779e-07,\n",
       "     2,\n",
       "     5.000001692678779e-07,\n",
       "     2,\n",
       "     5.000001692678779e-07),\n",
       "    3.999998625658918e-07,\n",
       "    (2,\n",
       "     5.000001692678779e-07,\n",
       "     2,\n",
       "     5.000001692678779e-07,\n",
       "     2,\n",
       "     5.000001692678779e-07),\n",
       "    3.999998625658918e-07,\n",
       "    (2,\n",
       "     5.000001692678779e-07,\n",
       "     2,\n",
       "     5.000001692678779e-07,\n",
       "     2,\n",
       "     5.000001692678779e-07),\n",
       "    3.999998625658918e-07,\n",
       "    (2,\n",
       "     5.000001692678779e-07,\n",
       "     2,\n",
       "     5.000001692678779e-07,\n",
       "     2,\n",
       "     5.000001692678779e-07),\n",
       "    3.999998625658918e-07),\n",
       "   4.99999714520527e-07,\n",
       "   ((2,\n",
       "     5.000001692678779e-07,\n",
       "     2,\n",
       "     5.000001692678779e-07,\n",
       "     2,\n",
       "     5.000001692678779e-07),\n",
       "    3.999998625658918e-07,\n",
       "    (2,\n",
       "     5.000001692678779e-07,\n",
       "     2,\n",
       "     5.000001692678779e-07,\n",
       "     2,\n",
       "     5.000001692678779e-07),\n",
       "    3.999998625658918e-07,\n",
       "    (2,\n",
       "     5.000001692678779e-07,\n",
       "     2,\n",
       "     5.000001692678779e-07,\n",
       "     2,\n",
       "     5.000001692678779e-07),\n",
       "    3.999998625658918e-07,\n",
       "    (2,\n",
       "     5.000001692678779e-07,\n",
       "     2,\n",
       "     5.000001692678779e-07,\n",
       "     2,\n",
       "     5.000001692678779e-07),\n",
       "    3.999998625658918e-07),\n",
       "   4.99999714520527e-07,\n",
       "   ((2,\n",
       "     5.000001692678779e-07,\n",
       "     2,\n",
       "     5.000001692678779e-07,\n",
       "     2,\n",
       "     5.000001692678779e-07),\n",
       "    3.999998625658918e-07,\n",
       "    (2,\n",
       "     5.000001692678779e-07,\n",
       "     2,\n",
       "     5.000001692678779e-07,\n",
       "     2,\n",
       "     5.000001692678779e-07),\n",
       "    3.999998625658918e-07,\n",
       "    (2,\n",
       "     5.000001692678779e-07,\n",
       "     2,\n",
       "     5.000001692678779e-07,\n",
       "     2,\n",
       "     5.000001692678779e-07),\n",
       "    3.999998625658918e-07,\n",
       "    (2,\n",
       "     5.000001692678779e-07,\n",
       "     2,\n",
       "     5.000001692678779e-07,\n",
       "     2,\n",
       "     5.000001692678779e-07),\n",
       "    3.999998625658918e-07),\n",
       "   4.99999714520527e-07,\n",
       "   ((2,\n",
       "     5.000001692678779e-07,\n",
       "     2,\n",
       "     5.000001692678779e-07,\n",
       "     2,\n",
       "     5.000001692678779e-07),\n",
       "    3.999998625658918e-07,\n",
       "    (2,\n",
       "     5.000001692678779e-07,\n",
       "     2,\n",
       "     5.000001692678779e-07,\n",
       "     2,\n",
       "     5.000001692678779e-07),\n",
       "    3.999998625658918e-07,\n",
       "    (2,\n",
       "     5.000001692678779e-07,\n",
       "     2,\n",
       "     5.000001692678779e-07,\n",
       "     2,\n",
       "     5.000001692678779e-07),\n",
       "    3.999998625658918e-07,\n",
       "    (2,\n",
       "     5.000001692678779e-07,\n",
       "     2,\n",
       "     5.000001692678779e-07,\n",
       "     2,\n",
       "     5.000001692678779e-07),\n",
       "    3.999998625658918e-07),\n",
       "   4.99999714520527e-07),\n",
       "  6.999998731771484e-07),\n",
       " '_i62': 'def fact(x):\\n    if x<3:\\n        return x, actualtime\\n    return x*fact(x-1)\\nfact(5)',\n",
       " '_i63': 'def fact(x):\\n    if x<3:\\n        return x\\n    return x*fact(x-1)\\nfact(5)',\n",
       " '_63': 120,\n",
       " '_i64': 'def time(f):\\n    starting_time=time.perf_counter()',\n",
       " '_i65': 'def time(f):\\n    starting_time=time.perf_counter()\\n    ending_time=time.perf_counter()\\n    actualtime=ending_time-starting_time',\n",
       " '_i66': '@time\\ndef fact(x):\\n    a=1\\n    for i in range(2,x+1):\\n        a=a*i\\n    return a\\n            \\nprint(fact(5))',\n",
       " '_i67': 'def timer(f):\\n    starting_time=time.perf_counter()\\n    ending_time=time.perf_counter()\\n    actualtime=ending_time-starting_time',\n",
       " 'timer': <function __main__.timer(func)>,\n",
       " '_i68': '@timer\\ndef fact(x):\\n    a=1\\n    for i in range(2,x+1):\\n        a=a*i\\n    return a\\n            \\nprint(fact(5))',\n",
       " '_i69': 'def fact_iter(x):\\n    result=1\\n    if x<3:\\n        return x\\n    for i in range(n,1,-1):\\n        result=result*i\\n    return result\\nfact(5)',\n",
       " 'fact_iter': <function __main__.fact_iter(x)>,\n",
       " '_69': 120,\n",
       " '_i70': 'import time\\ndef timer(f):\\n    starting_time=time.perf_counter()\\n    print(f\"calling function {f.__name__!r}\")\\n    ending_time=time.perf_counter()\\n    return ending_time-starting_time\\n    ',\n",
       " '_i71': '@timer\\ndef fact_iter(x):\\n    result=1\\n    if x<3:\\n        return x\\n    for i in range(n,1,-1):\\n        result=result*i\\n    return result\\nfact(5)',\n",
       " '_71': 120,\n",
       " '_i72': 'import time\\ndef timer(f):\\n    def actualtime():\\n        starting_time=time.perf_counter()\\n        print(f\"calling function {f.__name__!r}\")\\n        f()\\n        ending_time=time.perf_counter()\\n        return ending_time-starting_time\\n    ',\n",
       " '_i73': '@timer\\ndef fact_iter(x):\\n    result=1\\n    if x<3:\\n        return x\\n    for i in range(n,1,-1):\\n        result=result*i\\n    return result\\nfact(5)',\n",
       " '_73': 120,\n",
       " '_i74': 'import time\\ndef timer(f):\\n    def actualtime():\\n        starting_time=time.perf_counter()\\n        print(f\"calling function {f.__name__!r}\")\\n        f()\\n        ending_time=time.perf_counter()\\n    return ending_time-starting_time\\n    ',\n",
       " '_i75': '@timer\\ndef fact_iter(x):\\n    result=1\\n    if x<3:\\n        return x\\n    for i in range(n,1,-1):\\n        result=result*i\\n    return result\\nfact(5)',\n",
       " '_i76': 'import time\\ndef timer(f):\\n    wraps(f)\\n    def actualtime():\\n        starting_time=time.perf_counter()\\n        print(f\"calling function {f.__name__!r}\")\\n        f()\\n        ending_time=time.perf_counter()\\n    return ending_time-starting_time\\n    ',\n",
       " '_i77': '@timer\\ndef fact_iter(x):\\n    result=1\\n    if x<3:\\n        return x\\n    for i in range(n,1,-1):\\n        result=result*i\\n    return result\\nfact(5)',\n",
       " '_i78': 'import time\\ndef timer(f):\\n    wraps(f)\\n    def actualtime():\\n        starting_time=time.perf_counter()\\n        print(f\"calling function {f.__name__!r}\")\\n        f()\\n        ending_time=time.perf_counter()\\n        act=ending_time-starting_time\\n    return act\\n    ',\n",
       " '_i79': '@timer\\ndef fact_iter(x):\\n    result=1\\n    if x<3:\\n        return x\\n    for i in range(n,1,-1):\\n        result=result*i\\n    return result\\nfact(5)',\n",
       " '_i80': 'import time\\ndef timer(f):\\n    wraps(f)\\n    def actualtime():\\n        starting_time=time.perf_counter()\\n        print(f\"calling function {f.__name__!r}\")\\n        f()\\n        ending_time=time.perf_counter()\\n        print(f\\'the time taken by funcation is{ending_time-starting_time}\\')\\n    return actualtime\\n    ',\n",
       " '_i81': '@timer\\ndef fact_iter(x):\\n    result=1\\n    if x<3:\\n        return x\\n    for i in range(n,1,-1):\\n        result=result*i\\n    return result\\nfact(5)',\n",
       " '_81': 120,\n",
       " '_i82': '@timer\\ndef fact_iter(x):\\n    result=1\\n    if x<3:\\n        return x\\n    for i in range(n,1,-1):\\n        result=result*i\\n    return result',\n",
       " '_i83': 'fact_iter(5)',\n",
       " '_i84': 'import time\\ndef timer(func)\\n    wraps(func)\\n    def actualtime():\\n        starting_time=time.perf_counter()\\n        print(f\"calling function {f.__name__!r}\")\\n        func()\\n        ending_time=time.perf_counter()\\n        print(f\\'the time taken by funcation is{ending_time-starting_time}\\')\\n    return actualtime\\n    ',\n",
       " '_i85': 'import time\\ndef timer(func):\\n    wraps(func)\\n    def actualtime():\\n        starting_time=time.perf_counter()\\n        print(f\"calling function {f.__name__!r}\")\\n        func()\\n        ending_time=time.perf_counter()\\n        print(f\\'the time taken by funcation is{ending_time-starting_time}\\')\\n    return actualtime\\n    ',\n",
       " '_i86': '@timer\\ndef fact_iter(x):\\n    result=1\\n    if x<3:\\n        return x\\n    for i in range(n,1,-1):\\n        result=result*i\\n    return result',\n",
       " '_i87': 'fact_iter(5)',\n",
       " '_i88': 'import time\\ndef timer(func):\\n    @wraps(func)\\n    def actualtime():\\n        starting_time=time.perf_counter()\\n        print(f\"calling function {f.__name__!r}\")\\n        func()\\n        ending_time=time.perf_counter()\\n        print(f\\'the time taken by funcation is{ending_time-starting_time}\\')\\n    return actualtime\\n    ',\n",
       " '_i89': '@timer\\ndef fact_iter(x):\\n    result=1\\n    if x<3:\\n        return x\\n    for i in range(n,1,-1):\\n        result=result*i\\n    return result',\n",
       " '_i90': 'fact_iter(5)',\n",
       " '_i91': 'import time\\ndef timer(func):\\n    @wraps(func)\\n    def actualtime(*args,**kwargs)\\n        starting_time=time.perf_counter()\\n        print(f\"calling function {f.__name__!r}\")\\n        func(*args,**kwargs)\\n        ending_time=time.perf_counter()\\n        print(f\\'the time taken by funcation is{ending_time-starting_time}\\')\\n    return actualtime\\n    ',\n",
       " '_i92': '@timer\\ndef fact_iter(x):\\n    result=1\\n    if x<3:\\n        return x\\n    for i in range(n,1,-1):\\n        result=result*i\\n    return result',\n",
       " '_i93': 'import time\\ndef timer(func):\\n    @wraps(func)\\n    def actualtime(*args,**kwargs):\\n        starting_time=time.perf_counter()\\n        print(f\"calling function {f.__name__!r}\")\\n        func(*args,**kwargs)\\n        ending_time=time.perf_counter()\\n        print(f\\'the time taken by funcation is{ending_time-starting_time}\\')\\n    return actualtime\\n    ',\n",
       " '_i94': '@timer\\ndef fact_iter(x):\\n    result=1\\n    if x<3:\\n        return x\\n    for i in range(n,1,-1):\\n        result=result*i\\n    return result',\n",
       " '_i95': 'fact_iter(5)',\n",
       " '_i96': 'import time\\ndef timer(func):\\n    @wraps(func)\\n    def actualtime(*args,**kwargs):\\n        starting_time=time.perf_counter()\\n        print(f\"calling function {funcname__!r}\")\\n        func(*args,**kwargs)\\n        ending_time=time.perf_counter()\\n        print(f\\'the time taken by funcation is{ending_time-starting_time}\\')\\n    return actualtime\\n    ',\n",
       " '_i97': 'import time\\ndef timer(func):\\n    @wraps(func)\\n    def actualtime(*args,**kwargs):\\n        starting_time=time.perf_counter()\\n        print(f\"calling function {func.__name__!r}\\')\\n        func(*args,**kwargs)\\n        ending_time=time.perf_counter()\\n        print(f\\'the time taken by funcation is{ending_time-starting_time}\\')\\n    return actualtime\\n    ',\n",
       " '_i98': 'import time\\ndef timer(func):\\n    @wraps(func)\\n    def actualtime(*args,**kwargs):\\n        starting_time=time.perf_counter()\\n        print(f\"calling function {func.__name__!r}\")\\n        func(*args,**kwargs)\\n        ending_time=time.perf_counter()\\n        print(f\\'the time taken by funcation is{ending_time-starting_time}\\')\\n    return actualtime\\n    ',\n",
       " '_i99': '@timer\\ndef fact_iter(x):\\n    result=1\\n    if x<3:\\n        return x\\n    for i in range(n,1,-1):\\n        result=result*i\\n    return result',\n",
       " '_i100': 'fact_iter(5)',\n",
       " '_i101': '@timer\\ndef fact_iter(x):\\n    result=1\\n    if x<3:\\n        return x\\n    for i in range(x,1,-1):\\n        result=result*i\\n    return result',\n",
       " '_i102': 'fact_iter(5)',\n",
       " '_i103': 'import time\\ndef timer(func):\\n    @wraps(func)\\n    def actualtime(*args,**kwargs):\\n        starting_time=time.perf_counter()\\n        print(f\"calling function {func.__name__!r}\")\\n        func(*args,**kwargs)\\n        ending_time=time.perf_counter()\\n        actual_time=ending_time-starting_time\\n        print(f\\'the time taken by funcation is{actualtime.4f}\\')\\n    return actualtime',\n",
       " '_i104': 'import time\\ndef timer(func):\\n    @wraps(func)\\n    def actualtime(*args,**kwargs):\\n        starting_time=time.perf_counter()\\n        print(f\"calling function {func.__name__!r}\")\\n        func(*args,**kwargs)\\n        ending_time=time.perf_counter()\\n        actual_time=ending_time-starting_time\\n        print(f\\'the time taken by funcation is{4f.actualtime}\\')\\n    return actualtime',\n",
       " '_i105': '@timer\\ndef fact(x):\\n    if x<3:\\n        return x\\n    return x*fact(x-1)',\n",
       " '_i106': 'fact(5)',\n",
       " '_i107': 'purchase()',\n",
       " '_i108': 'is_login= False\\ndef login(arg):\\n    if is_login:\\n        print(\"login checked\")\\n        return arg\\n    else:\\n        print(\\'you arenot logged in\\')\\n\\ndef purchase():\\n    print(\"purchase successful\")\\n    \\npurchase = login(purchase)',\n",
       " '_i109': 'purchase()',\n",
       " '_i110': 'globals()'}"
      ]
     },
     "execution_count": 110,
     "metadata": {},
     "output_type": "execute_result"
    }
   ],
   "source": [
    "globals()"
   ]
  },
  {
   "cell_type": "markdown",
   "metadata": {},
   "source": [
    "# practise"
   ]
  },
  {
   "cell_type": "code",
   "execution_count": 12,
   "metadata": {},
   "outputs": [],
   "source": [
    "def decor1(func):\n",
    "    def decor1_inner():\n",
    "        b=func()\n",
    "        multiply=10*b\n",
    "        return multiply\n",
    "    return decor1_inner()"
   ]
  },
  {
   "cell_type": "code",
   "execution_count": 19,
   "metadata": {},
   "outputs": [],
   "source": [
    "def decor2(func):\n",
    "    def decor2_inner():\n",
    "        b=func()\n",
    "        add=10+b\n",
    "        return add\n",
    "    return decor2_inner()"
   ]
  },
  {
   "cell_type": "code",
   "execution_count": 20,
   "metadata": {},
   "outputs": [],
   "source": [
    "def num():\n",
    "    return 5\n"
   ]
  },
  {
   "cell_type": "code",
   "execution_count": 21,
   "metadata": {},
   "outputs": [
    {
     "ename": "TypeError",
     "evalue": "'int' object is not callable",
     "output_type": "error",
     "traceback": [
      "\u001b[1;31m---------------------------------------------------------------------------\u001b[0m",
      "\u001b[1;31mTypeError\u001b[0m                                 Traceback (most recent call last)",
      "\u001b[1;32m<ipython-input-21-2b8842f9a3c0>\u001b[0m in \u001b[0;36m<module>\u001b[1;34m\u001b[0m\n\u001b[0;32m      1\u001b[0m \u001b[0mstore\u001b[0m\u001b[1;33m=\u001b[0m\u001b[0mdecor2\u001b[0m\u001b[1;33m(\u001b[0m\u001b[0mnum\u001b[0m\u001b[1;33m)\u001b[0m\u001b[1;33m\u001b[0m\u001b[1;33m\u001b[0m\u001b[0m\n\u001b[1;32m----> 2\u001b[1;33m \u001b[0mstore\u001b[0m\u001b[1;33m(\u001b[0m\u001b[1;33m)\u001b[0m\u001b[1;33m\u001b[0m\u001b[1;33m\u001b[0m\u001b[0m\n\u001b[0m",
      "\u001b[1;31mTypeError\u001b[0m: 'int' object is not callable"
     ]
    }
   ],
   "source": [
    "store=decor2(num)\n",
    "store()"
   ]
  },
  {
   "cell_type": "code",
   "execution_count": 28,
   "metadata": {},
   "outputs": [
    {
     "name": "stdout",
     "output_type": "stream",
     "text": [
      "*****\n",
      "%%%%%\n",
      "hello\n",
      "%%%%%\n",
      "*****\n"
     ]
    }
   ],
   "source": [
    "def f(x):\n",
    "    def f1(*args, **kwargs):\n",
    "        print(\"*\"* 5)\n",
    "        x(*args, **kwargs)\n",
    "        print(\"*\"* 5)\n",
    "    return f1\n",
    "def a(x):\n",
    "    def f1(*args, **kwargs):\n",
    "        print(\"%\"* 5)\n",
    "        x(*args, **kwargs)\n",
    "        print(\"%\"* 5)\n",
    "    return f1\n",
    "@f\n",
    "@a\n",
    "def p(m):\n",
    "    print(m)\n",
    "p(\"hello\")"
   ]
  },
  {
   "cell_type": "code",
   "execution_count": 61,
   "metadata": {},
   "outputs": [
    {
     "name": "stdout",
     "output_type": "stream",
     "text": [
      "*****\n",
      "%%%%%\n",
      "*****\n",
      "%%%%%\n",
      "hello\n",
      "%%%%%\n",
      "*****\n",
      "%%%%%\n",
      "*****\n"
     ]
    }
   ],
   "source": [
    "store=f(a(p))   #p ma method call hanerw number dina mildaina kina?\n",
    "store('hello')   "
   ]
  },
  {
   "cell_type": "code",
   "execution_count": 37,
   "metadata": {},
   "outputs": [],
   "source": [
    "def smart_divide(func):\n",
    "    def inner(a, b):\n",
    "        if b == 0:\n",
    "            print(\"Whoops! cannot divide\")\n",
    "            return\n",
    "\n",
    "        return func(a, b)\n",
    "    return inner\n",
    "\n",
    "\n",
    "@smart_divide\n",
    "def divide(a, b):\n",
    "    print(a/b)"
   ]
  },
  {
   "cell_type": "code",
   "execution_count": 38,
   "metadata": {},
   "outputs": [
    {
     "name": "stdout",
     "output_type": "stream",
     "text": [
      "2.0\n"
     ]
    }
   ],
   "source": [
    "divide(4,2)"
   ]
  },
  {
   "cell_type": "code",
   "execution_count": 39,
   "metadata": {},
   "outputs": [
    {
     "name": "stdout",
     "output_type": "stream",
     "text": [
      "-1.0\n"
     ]
    }
   ],
   "source": [
    "divide(2,-2)"
   ]
  },
  {
   "cell_type": "code",
   "execution_count": 40,
   "metadata": {},
   "outputs": [
    {
     "name": "stdout",
     "output_type": "stream",
     "text": [
      "Whoops! cannot divide\n"
     ]
    }
   ],
   "source": [
    "divide(0,0)"
   ]
  },
  {
   "cell_type": "code",
   "execution_count": 41,
   "metadata": {},
   "outputs": [
    {
     "name": "stdout",
     "output_type": "stream",
     "text": [
      "-1.0\n"
     ]
    }
   ],
   "source": [
    "div=smart_divide(divide(2,-2))"
   ]
  },
  {
   "cell_type": "code",
   "execution_count": 42,
   "metadata": {},
   "outputs": [],
   "source": [
    "div=smart_divide(divide)"
   ]
  },
  {
   "cell_type": "code",
   "execution_count": 43,
   "metadata": {},
   "outputs": [
    {
     "name": "stdout",
     "output_type": "stream",
     "text": [
      "2.0\n"
     ]
    }
   ],
   "source": [
    "div(4,2)"
   ]
  },
  {
   "cell_type": "code",
   "execution_count": 44,
   "metadata": {},
   "outputs": [],
   "source": [
    "#if the ans is more than 2 while dividing print it using another decorator"
   ]
  },
  {
   "cell_type": "code",
   "execution_count": 81,
   "metadata": {},
   "outputs": [],
   "source": [
    "def smart_divide(func):\n",
    "    def inner(a, b):\n",
    "        if b == 0:\n",
    "            print(\"Whoops! cannot divide\")\n",
    "            return\n",
    "        return a/b\n",
    "    return inner\n",
    "def is_greater(func):\n",
    "    def inner(num):\n",
    "        if num>2:\n",
    "            return \"the number is greater than 2\"\n",
    "        return \"the number isnot greater than 2\"\n",
    "    return inner\n",
    "\n",
    "def divide(a, b):\n",
    "    print(f'The value is {a} and {b}')"
   ]
  },
  {
   "cell_type": "code",
   "execution_count": 88,
   "metadata": {},
   "outputs": [],
   "source": [
    "div=smart_divide(is_greater(divide))"
   ]
  },
  {
   "cell_type": "code",
   "execution_count": 89,
   "metadata": {},
   "outputs": [
    {
     "data": {
      "text/plain": [
       "2.0"
      ]
     },
     "execution_count": 89,
     "metadata": {},
     "output_type": "execute_result"
    }
   ],
   "source": [
    "div(6,3)"
   ]
  },
  {
   "cell_type": "code",
   "execution_count": 85,
   "metadata": {},
   "outputs": [
    {
     "ename": "TypeError",
     "evalue": "'>' not supported between instances of 'tuple' and 'int'",
     "output_type": "error",
     "traceback": [
      "\u001b[1;31m---------------------------------------------------------------------------\u001b[0m",
      "\u001b[1;31mTypeError\u001b[0m                                 Traceback (most recent call last)",
      "\u001b[1;32m<ipython-input-85-a60cab42fa96>\u001b[0m in \u001b[0;36m<module>\u001b[1;34m\u001b[0m\n\u001b[1;32m----> 1\u001b[1;33m \u001b[0mdiv2\u001b[0m\u001b[1;33m(\u001b[0m\u001b[1;33m(\u001b[0m\u001b[1;36m6\u001b[0m\u001b[1;33m,\u001b[0m\u001b[1;36m3\u001b[0m\u001b[1;33m)\u001b[0m\u001b[1;33m)\u001b[0m\u001b[1;33m\u001b[0m\u001b[1;33m\u001b[0m\u001b[0m\n\u001b[0m",
      "\u001b[1;32m<ipython-input-81-b3123fd3982a>\u001b[0m in \u001b[0;36minner\u001b[1;34m(num)\u001b[0m\n\u001b[0;32m      8\u001b[0m \u001b[1;32mdef\u001b[0m \u001b[0mis_greater\u001b[0m\u001b[1;33m(\u001b[0m\u001b[0mfunc\u001b[0m\u001b[1;33m)\u001b[0m\u001b[1;33m:\u001b[0m\u001b[1;33m\u001b[0m\u001b[1;33m\u001b[0m\u001b[0m\n\u001b[0;32m      9\u001b[0m     \u001b[1;32mdef\u001b[0m \u001b[0minner\u001b[0m\u001b[1;33m(\u001b[0m\u001b[0mnum\u001b[0m\u001b[1;33m)\u001b[0m\u001b[1;33m:\u001b[0m\u001b[1;33m\u001b[0m\u001b[1;33m\u001b[0m\u001b[0m\n\u001b[1;32m---> 10\u001b[1;33m         \u001b[1;32mif\u001b[0m \u001b[0mnum\u001b[0m\u001b[1;33m>\u001b[0m\u001b[1;36m2\u001b[0m\u001b[1;33m:\u001b[0m\u001b[1;33m\u001b[0m\u001b[1;33m\u001b[0m\u001b[0m\n\u001b[0m\u001b[0;32m     11\u001b[0m             \u001b[1;32mreturn\u001b[0m \u001b[1;34m\"the number is greater than 2\"\u001b[0m\u001b[1;33m\u001b[0m\u001b[1;33m\u001b[0m\u001b[0m\n\u001b[0;32m     12\u001b[0m         \u001b[1;32mreturn\u001b[0m \u001b[1;34m\"the number isnot greater than 2\"\u001b[0m\u001b[1;33m\u001b[0m\u001b[1;33m\u001b[0m\u001b[0m\n",
      "\u001b[1;31mTypeError\u001b[0m: '>' not supported between instances of 'tuple' and 'int'"
     ]
    }
   ],
   "source": [
    "\n",
    "        \n",
    "        "
   ]
  },
  {
   "cell_type": "code",
   "execution_count": null,
   "metadata": {},
   "outputs": [],
   "source": []
  }
 ],
 "metadata": {
  "kernelspec": {
   "display_name": "Python 3",
   "language": "python",
   "name": "python3"
  },
  "language_info": {
   "codemirror_mode": {
    "name": "ipython",
    "version": 3
   },
   "file_extension": ".py",
   "mimetype": "text/x-python",
   "name": "python",
   "nbconvert_exporter": "python",
   "pygments_lexer": "ipython3",
   "version": "3.8.8"
  }
 },
 "nbformat": 4,
 "nbformat_minor": 4
}
