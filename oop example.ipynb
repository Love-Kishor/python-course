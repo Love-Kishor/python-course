{
 "cells": [
  {
   "cell_type": "markdown",
   "id": "62a59ed0",
   "metadata": {},
   "source": [
    "# oops example"
   ]
  },
  {
   "cell_type": "code",
   "execution_count": 4,
   "id": "7b9f766f",
   "metadata": {},
   "outputs": [
    {
     "name": "stdout",
     "output_type": "stream",
     "text": [
      "list of fruit details:\n",
      "[{'name': 'kiwis', 'price': 400}, {'name': 'kiwis', 'price': 400}]\n"
     ]
    }
   ],
   "source": [
    "fruits =[\"Avocardo\",\"kiwis\"]\n",
    "prices =[300,400]\n",
    "fruits_detail = {}\n",
    "fruits_detail_list =[]\n",
    "for fruit,price in zip(fruits,prices):\n",
    "    fruits_detail[\"name\"] = fruit\n",
    "    fruits_detail[\"price\"] = price\n",
    "    fruits_detail_list.append(fruits_detail)\n",
    "print(\"list of fruit details:\")\n",
    "print(fruits_detail_list)"
   ]
  },
  {
   "cell_type": "code",
   "execution_count": 20,
   "id": "ab915b9c",
   "metadata": {},
   "outputs": [
    {
     "name": "stdout",
     "output_type": "stream",
     "text": [
      "address of fruit_details is:  969831966976\n",
      "address of fruit_detail_list is:  969843687936\n",
      "address of fruit_details is:  969831966976\n",
      "address of fruit_detail_list is:  969843687936\n",
      "list of fruit details:\n",
      "[{'name': 'kiwis', 'price': 400}, {'name': 'kiwis', 'price': 400}]\n"
     ]
    }
   ],
   "source": [
    "fruits =[\"Avocardo\",\"kiwis\"]\n",
    "prices =[300,400,]\n",
    "fruits_detail = {}\n",
    "fruits_detail_list =[]\n",
    "for fruit,price in zip(fruits,prices):\n",
    "    fruits_detail[\"name\"] = fruit\n",
    "    fruits_detail[\"price\"] = price\n",
    "    print(\"address of fruit_details is: \",id(fruits_detail))\n",
    "    fruits_detail_list.append(fruits_detail)\n",
    "    print(\"address of fruit_detail_list is: \",id(fruits_detail_list))\n",
    "print(\"list of fruit details:\")\n",
    "print(fruits_detail_list)\n"
   ]
  },
  {
   "cell_type": "markdown",
   "id": "1ebc9194",
   "metadata": {},
   "source": [
    "object at 969843681600 = [object at 969831913024 ,object at 969831913024]"
   ]
  }
 ],
 "metadata": {
  "kernelspec": {
   "display_name": "Python 3",
   "language": "python",
   "name": "python3"
  },
  "language_info": {
   "codemirror_mode": {
    "name": "ipython",
    "version": 3
   },
   "file_extension": ".py",
   "mimetype": "text/x-python",
   "name": "python",
   "nbconvert_exporter": "python",
   "pygments_lexer": "ipython3",
   "version": "3.8.8"
  }
 },
 "nbformat": 4,
 "nbformat_minor": 5
}
