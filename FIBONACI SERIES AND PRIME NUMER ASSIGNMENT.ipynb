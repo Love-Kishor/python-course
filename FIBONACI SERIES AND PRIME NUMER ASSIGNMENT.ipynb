{
 "cells": [
  {
   "cell_type": "markdown",
   "id": "2e366cb2",
   "metadata": {},
   "source": [
    "FIBONACI SERIES AND PRIME NUMBERS PROGRAM\n"
   ]
  },
  {
   "cell_type": "code",
   "execution_count": 3,
   "id": "f0542549",
   "metadata": {},
   "outputs": [
    {
     "name": "stdout",
     "output_type": "stream",
     "text": [
      "0,2,4,6,8,10,12,14,16,18,20,22,24,26,28,30,32,34,36,38,40,42,44,46,48,50,52,54,56,58,60,62,64,66,68,70,72,74,76,78,80,82,84,86,88,90,92,94,96,98,"
     ]
    }
   ],
   "source": [
    "for i in range(0,50):\n",
    "    i=i + i\n",
    "    print(i,end=\",\")\n",
    "\n"
   ]
  },
  {
   "cell_type": "code",
   "execution_count": 105,
   "id": "8bd14d68",
   "metadata": {},
   "outputs": [
    {
     "name": "stdout",
     "output_type": "stream",
     "text": [
      "fibo(10) = [0, 1, 2, 3, 4, 5, 6, 7, 8, 9, 10]\n",
      "fibonac(10) = [0, 1, 1, 2, 3, 5, 8, 13, 21, 34, 55]\n"
     ]
    }
   ],
   "source": [
    "def fibo(x):\n",
    "    X =[]\n",
    "    for i in range (0,x+1):\n",
    "        if i ==0 or 1:    # this means if i==0 or if true i.e the function will run only first condition for every value of i\n",
    "            X.append(i)\n",
    "        else:\n",
    "            X.append(X[i-1]+X[i-2])\n",
    "    return X\n",
    "print(\"fibo(10) =\",fibo(10))\n",
    "\n",
    "#alternatively\n",
    "def fibonac(x):\n",
    "    X =[]\n",
    "    for i in range (0,x+1):\n",
    "        if i ==0 or i==1:    # this means if i==0 or if i==1,i.e the function will run only first condition for 0 and 1 values of i\n",
    "            X.append(i)\n",
    "        else:\n",
    "            X.append(X[i-1]+X[i-2])\n",
    "    return X\n",
    "print(\"fibonac(10) =\",fibonac(10))\n",
    "\n",
    "    "
   ]
  },
  {
   "cell_type": "code",
   "execution_count": 41,
   "id": "17e19946",
   "metadata": {},
   "outputs": [
    {
     "data": {
      "text/plain": [
       "[0, 1, 1, 2]"
      ]
     },
     "execution_count": 41,
     "metadata": {},
     "output_type": "execute_result"
    }
   ],
   "source": [
    "X=[]\n",
    "X.append(0)          #when i is 0\n",
    "X.append(1)          #when i is 1\n",
    "X.append(X[0]+X[1])  #when i is 2\n",
    "X.append(X[1]+X[2])   #when i is 3\n",
    "X"
   ]
  },
  {
   "cell_type": "code",
   "execution_count": 6,
   "id": "b9990659",
   "metadata": {},
   "outputs": [
    {
     "name": "stdout",
     "output_type": "stream",
     "text": [
      "123"
     ]
    }
   ],
   "source": [
    "x =[1,2,3]\n",
    "for i in x:\n",
    "    print(i,end=\"\")\n",
    " "
   ]
  },
  {
   "cell_type": "code",
   "execution_count": 114,
   "id": "c3deaf7d",
   "metadata": {},
   "outputs": [
    {
     "name": "stdout",
     "output_type": "stream",
     "text": [
      "enter a number up to which fibonacci series is to be given\n",
      "20\n",
      "fibonacci series between 0 and 20 are [0, 1, 1, 2, 3, 5, 8, 13]\n"
     ]
    }
   ],
   "source": [
    "n = int(input(\"enter a number up to which fibonacci series is to be given\\n\"))\n",
    "X =[]\n",
    "for i in range(0,n+3):\n",
    "    if i<2:\n",
    "        X.append(i)\n",
    "    else:\n",
    "        X.append(X[i-2] + X[i-1])\n",
    "        if X[i]>n:\n",
    "            X.pop(i)\n",
    "            break\n",
    "print(f\"fibonacci series between 0 and {n} are {X}\")\n",
    "  \n"
   ]
  },
  {
   "cell_type": "code",
   "execution_count": 86,
   "id": "40f3cb06",
   "metadata": {},
   "outputs": [],
   "source": [
    "def fibonacci(n):\n",
    "    X=[]\n",
    "    for i in range(0,n+2):\n",
    "        if i<2:\n",
    "            X.append(i)\n",
    "        else:\n",
    "            X.append(X[i-2] + X[i-1])\n",
    "            if X[i] >n:\n",
    "                X.pop(i)\n",
    "                break\n",
    "    return X"
   ]
  },
  {
   "cell_type": "code",
   "execution_count": 113,
   "id": "e5ee9d13",
   "metadata": {},
   "outputs": [
    {
     "data": {
      "text/plain": [
       "[0, 1, 1, 2, 3, 5, 8, 13, 21, 34]"
      ]
     },
     "execution_count": 113,
     "metadata": {},
     "output_type": "execute_result"
    }
   ],
   "source": [
    "\n",
    "fibonacci(50)"
   ]
  },
  {
   "cell_type": "code",
   "execution_count": 118,
   "id": "fc3bcb6c",
   "metadata": {},
   "outputs": [],
   "source": [
    "def fibo_gen(x,y):\n",
    "    X=[]\n",
    "    for i in range(x,y+2):\n",
    "        if i<2:\n",
    "            X.append(i)\n",
    "        else:\n",
    "            X.append(X[i-2] + X[i-1])\n",
    "            if X[i] >y:\n",
    "                X.pop(i)\n",
    "                break\n",
    "    return X"
   ]
  },
  {
   "cell_type": "code",
   "execution_count": 120,
   "id": "d70fe168",
   "metadata": {},
   "outputs": [
    {
     "data": {
      "text/plain": [
       "[0, 1, 1, 2]"
      ]
     },
     "execution_count": 120,
     "metadata": {},
     "output_type": "execute_result"
    }
   ],
   "source": [
    "fibo_gen(0,2)"
   ]
  },
  {
   "cell_type": "markdown",
   "id": "21f0dc86",
   "metadata": {},
   "source": [
    "prime number calculation program"
   ]
  },
  {
   "cell_type": "code",
   "execution_count": 115,
   "id": "9670bb73",
   "metadata": {},
   "outputs": [],
   "source": [
    "def prime(x,y):\n",
    "    X=[]\n",
    "    for i in range(x,x+1):\n",
    "        for j in range(2,10):\n",
    "            if i%j==0 and i!=j:\n",
    "                break\n",
    "            if i%j!=0 and j==9:\n",
    "                X.append(i)\n",
    "    return X\n",
    "            \n",
    "         \n"
   ]
  },
  {
   "cell_type": "code",
   "execution_count": 116,
   "id": "d778f2d4",
   "metadata": {},
   "outputs": [
    {
     "data": {
      "text/plain": [
       "[1]"
      ]
     },
     "execution_count": 116,
     "metadata": {},
     "output_type": "execute_result"
    }
   ],
   "source": [
    "prime(1,20)"
   ]
  },
  {
   "cell_type": "code",
   "execution_count": 145,
   "id": "c94bb50d",
   "metadata": {},
   "outputs": [
    {
     "data": {
      "text/plain": [
       "[2, 4, 6, 8]"
      ]
     },
     "execution_count": 145,
     "metadata": {},
     "output_type": "execute_result"
    }
   ],
   "source": [
    "def example1(x,y):\n",
    "    L=[]\n",
    "    for i in range(x,y+1):\n",
    "        if i%2==0:\n",
    "            L.append(i)\n",
    "    return L\n",
    "example1(1,8)\n",
    "        "
   ]
  },
  {
   "cell_type": "code",
   "execution_count": 138,
   "id": "2f5e811f",
   "metadata": {},
   "outputs": [
    {
     "name": "stdout",
     "output_type": "stream",
     "text": [
      "[]\n"
     ]
    }
   ],
   "source": [
    "\n",
    "X=[]\n",
    "for i in range(1,21):\n",
    "    for j in (2,10):\n",
    "        if i%j==0 and i!=j:\n",
    "            break\n",
    "        if i%j!=0 and j==9:\n",
    "            X.append(i)\n",
    "print(X)"
   ]
  },
  {
   "cell_type": "code",
   "execution_count": 91,
   "id": "7c9137ed",
   "metadata": {},
   "outputs": [
    {
     "data": {
      "text/plain": [
       "[1]"
      ]
     },
     "execution_count": 91,
     "metadata": {},
     "output_type": "execute_result"
    }
   ],
   "source": [
    "example2(1,20)"
   ]
  },
  {
   "cell_type": "code",
   "execution_count": 75,
   "id": "f2f6e9c4",
   "metadata": {},
   "outputs": [],
   "source": [
    "def prime_dec(function):\n",
    "    \n",
    "    def divide(a,b):\n",
    "        for j in range(a,a+1):\n",
    "            for i in range(2,10):\n",
    "                if a%i!=0 and i!=a and i==9:\n",
    "                    return true\n",
    "            \n",
    "    "
   ]
  },
  {
   "cell_type": "code",
   "execution_count": 64,
   "id": "7f1e831f",
   "metadata": {},
   "outputs": [
    {
     "data": {
      "text/plain": [
       "True"
      ]
     },
     "execution_count": 64,
     "metadata": {},
     "output_type": "execute_result"
    }
   ],
   "source": [
    "def is_prime(x):\n",
    "    for i in range(2,10):\n",
    "        a=x%i\n",
    "        if a==0 and i!=x:\n",
    "            return False\n",
    "        if a!=0 and i!=9:\n",
    "            continue\n",
    "        else:\n",
    "            return True\n",
    "is_prime(7)\n",
    "    "
   ]
  },
  {
   "cell_type": "code",
   "execution_count": 65,
   "id": "6c3dbb9a",
   "metadata": {},
   "outputs": [],
   "source": [
    "a=filter(is_prime,range(1,20))"
   ]
  },
  {
   "cell_type": "code",
   "execution_count": 66,
   "id": "82cc66c4",
   "metadata": {},
   "outputs": [
    {
     "data": {
      "text/plain": [
       "[1, 2, 3, 5, 7, 11, 13, 17, 19]"
      ]
     },
     "execution_count": 66,
     "metadata": {},
     "output_type": "execute_result"
    }
   ],
   "source": [
    "list(a)"
   ]
  },
  {
   "cell_type": "code",
   "execution_count": 67,
   "id": "85ec4fb8",
   "metadata": {},
   "outputs": [],
   "source": [
    "def prime_nums(x,y):\n",
    "    Y = []\n",
    "    for i in range(x,y+1):\n",
    "        if is_prime(i)==True:\n",
    "            Y.append(i)\n",
    "    return Y       "
   ]
  },
  {
   "cell_type": "code",
   "execution_count": 68,
   "id": "8bcd9aee",
   "metadata": {},
   "outputs": [
    {
     "data": {
      "text/plain": [
       "[1, 2, 3, 5, 7, 11, 13, 17, 19]"
      ]
     },
     "execution_count": 68,
     "metadata": {},
     "output_type": "execute_result"
    }
   ],
   "source": [
    "prime_nums(1,20)"
   ]
  },
  {
   "cell_type": "code",
   "execution_count": 2,
   "id": "b5de890f",
   "metadata": {},
   "outputs": [],
   "source": [
    "s=[].append(1)\n",
    "s"
   ]
  },
  {
   "cell_type": "code",
   "execution_count": 197,
   "id": "c34516e8",
   "metadata": {},
   "outputs": [
    {
     "name": "stdout",
     "output_type": "stream",
     "text": [
      "Help on method raw_input in module ipykernel.kernelbase:\n",
      "\n",
      "raw_input(prompt='') method of ipykernel.ipkernel.IPythonKernel instance\n",
      "    Forward raw_input to frontends\n",
      "    \n",
      "    Raises\n",
      "    ------\n",
      "    StdinNotImplentedError if active frontend doesn't support stdin.\n",
      "\n"
     ]
    }
   ],
   "source": []
  },
  {
   "cell_type": "code",
   "execution_count": 14,
   "id": "4c1632f7",
   "metadata": {},
   "outputs": [
    {
     "name": "stdout",
     "output_type": "stream",
     "text": [
      "enter ist number1\n",
      "enter 2nd number20\n",
      "prime numbers from 1 to 20 are [1, 2, 3, 5, 7, 11, 13, 17, 19]\n"
     ]
    }
   ],
   "source": [
    "x = int(input(\"enter ist number\"))\n",
    "y = int(input(\"enter 2nd number\"))\n",
    "a =[i for i in range(x,y) if is_prime(i) is True]\n",
    "print(f\"prime numbers from {x} to {y} are {a}\")"
   ]
  },
  {
   "cell_type": "code",
   "execution_count": 16,
   "id": "d51a21a5",
   "metadata": {},
   "outputs": [
    {
     "ename": "NameError",
     "evalue": "name 'prime_numbers' is not defined",
     "output_type": "error",
     "traceback": [
      "\u001b[1;31m---------------------------------------------------------------------------\u001b[0m",
      "\u001b[1;31mNameError\u001b[0m                                 Traceback (most recent call last)",
      "\u001b[1;32m<ipython-input-16-e9ea34f03e5a>\u001b[0m in \u001b[0;36m<module>\u001b[1;34m\u001b[0m\n\u001b[0;32m     12\u001b[0m \u001b[1;33m\u001b[0m\u001b[0m\n\u001b[0;32m     13\u001b[0m \u001b[1;33m@\u001b[0m\u001b[0mcheck_prime\u001b[0m\u001b[1;33m\u001b[0m\u001b[1;33m\u001b[0m\u001b[0m\n\u001b[1;32m---> 14\u001b[1;33m \u001b[1;32mdef\u001b[0m \u001b[0mprime_numbers\u001b[0m\u001b[1;33m(\u001b[0m\u001b[0mx\u001b[0m\u001b[1;33m,\u001b[0m\u001b[0my\u001b[0m\u001b[1;33m)\u001b[0m\u001b[1;33m:\u001b[0m\u001b[1;33m\u001b[0m\u001b[1;33m\u001b[0m\u001b[0m\n\u001b[0m\u001b[0;32m     15\u001b[0m     \u001b[0ma\u001b[0m \u001b[1;33m=\u001b[0m\u001b[1;33m[\u001b[0m\u001b[0mi\u001b[0m \u001b[1;32mfor\u001b[0m \u001b[0mi\u001b[0m \u001b[1;32min\u001b[0m \u001b[0mrange\u001b[0m\u001b[1;33m(\u001b[0m\u001b[0mx\u001b[0m\u001b[1;33m,\u001b[0m\u001b[0my\u001b[0m\u001b[1;33m)\u001b[0m \u001b[1;32mif\u001b[0m \u001b[0mis_prime\u001b[0m\u001b[1;33m(\u001b[0m\u001b[0mi\u001b[0m\u001b[1;33m)\u001b[0m \u001b[1;32mis\u001b[0m \u001b[1;32mTrue\u001b[0m\u001b[1;33m]\u001b[0m\u001b[1;33m\u001b[0m\u001b[1;33m\u001b[0m\u001b[0m\n\u001b[0;32m     16\u001b[0m     \u001b[1;32mreturn\u001b[0m \u001b[0ma\u001b[0m\u001b[1;33m\u001b[0m\u001b[1;33m\u001b[0m\u001b[0m\n",
      "\u001b[1;32m<ipython-input-16-e9ea34f03e5a>\u001b[0m in \u001b[0;36mcheck_prime\u001b[1;34m(x)\u001b[0m\n\u001b[0;32m      1\u001b[0m \u001b[1;32mfrom\u001b[0m \u001b[0mfunctools\u001b[0m \u001b[1;32mimport\u001b[0m \u001b[0mwraps\u001b[0m\u001b[1;33m\u001b[0m\u001b[1;33m\u001b[0m\u001b[0m\n\u001b[0;32m      2\u001b[0m \u001b[1;32mdef\u001b[0m \u001b[0mcheck_prime\u001b[0m\u001b[1;33m(\u001b[0m\u001b[0mx\u001b[0m\u001b[1;33m)\u001b[0m\u001b[1;33m:\u001b[0m\u001b[1;33m\u001b[0m\u001b[1;33m\u001b[0m\u001b[0m\n\u001b[1;32m----> 3\u001b[1;33m     \u001b[0mwraps\u001b[0m\u001b[1;33m(\u001b[0m\u001b[0mprime_numbers\u001b[0m\u001b[1;33m)\u001b[0m\u001b[1;33m\u001b[0m\u001b[1;33m\u001b[0m\u001b[0m\n\u001b[0m\u001b[0;32m      4\u001b[0m     \u001b[1;32mfor\u001b[0m \u001b[0mi\u001b[0m \u001b[1;32min\u001b[0m \u001b[0mrange\u001b[0m\u001b[1;33m(\u001b[0m\u001b[1;36m2\u001b[0m\u001b[1;33m,\u001b[0m\u001b[1;36m10\u001b[0m\u001b[1;33m)\u001b[0m\u001b[1;33m:\u001b[0m\u001b[1;33m\u001b[0m\u001b[1;33m\u001b[0m\u001b[0m\n\u001b[0;32m      5\u001b[0m         \u001b[0ma\u001b[0m\u001b[1;33m=\u001b[0m\u001b[0mx\u001b[0m\u001b[1;33m%\u001b[0m\u001b[0mi\u001b[0m\u001b[1;33m\u001b[0m\u001b[1;33m\u001b[0m\u001b[0m\n",
      "\u001b[1;31mNameError\u001b[0m: name 'prime_numbers' is not defined"
     ]
    }
   ],
   "source": [
    "\n",
    "\n",
    "    "
   ]
  },
  {
   "cell_type": "markdown",
   "id": "6cd18b09",
   "metadata": {},
   "source": [
    " assignment: use decorator and recursive function for fibonacci series"
   ]
  },
  {
   "cell_type": "code",
   "execution_count": 131,
   "id": "2bba31c1",
   "metadata": {},
   "outputs": [],
   "source": [
    "def prime_numb():\n",
    "    x,y = input(\"enter numbers seperated by ,\\n\").split(\",\")\n",
    "    x=int(x)\n",
    "    y=int(y)\n",
    "    X = []\n",
    "    for i in range(x,y+1):\n",
    "        for j in range(2,10):\n",
    "            if i%j==0 and i!=j:\n",
    "                break\n",
    "            if i%j!=0 and j==9:\n",
    "                X.append(i)\n",
    "    return X\n",
    "\n"
   ]
  },
  {
   "cell_type": "code",
   "execution_count": 134,
   "id": "903925e1",
   "metadata": {},
   "outputs": [
    {
     "name": "stdout",
     "output_type": "stream",
     "text": [
      "enter numbers seperated by ,\n",
      "1,50\n"
     ]
    },
    {
     "data": {
      "text/plain": [
       "[1, 2, 3, 5, 7, 11, 13, 17, 19, 23, 29, 31, 37, 41, 43, 47]"
      ]
     },
     "execution_count": 134,
     "metadata": {},
     "output_type": "execute_result"
    }
   ],
   "source": [
    "prime_numb()"
   ]
  },
  {
   "cell_type": "code",
   "execution_count": 141,
   "id": "de931113",
   "metadata": {},
   "outputs": [
    {
     "name": "stdout",
     "output_type": "stream",
     "text": [
      "[]\n"
     ]
    }
   ],
   "source": [
    "X=[]\n",
    "for i in range(1,21):\n",
    "    for j in (2,10):\n",
    "        if i%j==0 and i!=j:\n",
    "            break\n",
    "        if i%j!=0 and j==9:\n",
    "            X.append(i)\n",
    "print(X)"
   ]
  },
  {
   "cell_type": "code",
   "execution_count": 150,
   "id": "38d9c561",
   "metadata": {},
   "outputs": [
    {
     "name": "stdout",
     "output_type": "stream",
     "text": [
      "[1, 2, 3, 4, 5, 6, 7, 8, 9, 10, 11, 12, 13, 14, 15, 16, 17, 18, 19, 20, 1, 2, 3, 4, 5, 6, 7, 8, 9, 10, 11, 12, 13, 14, 15, 16, 17, 18, 19, 20, 1, 2, 3, 4, 5, 6, 7, 8, 9, 10, 11, 12, 13, 14, 15, 16, 17, 18, 19, 20, 1, 1, 2, 2, 3, 3, 4, 4, 5, 5, 6, 6, 7, 7, 8, 8, 9, 9, 10, 10, 11, 11, 12, 12, 13, 13, 14, 14, 15, 15, 16, 16, 17, 17, 18, 18, 19, 19, 20, 20]\n"
     ]
    }
   ],
   "source": [
    "x=[]\n",
    "for i in range(1,21):\n",
    "    for j in (2,10):\n",
    "        if i%i==0 and i!=j:\n",
    "            break\n",
    "        if i%j!=0 and j==9:\n",
    "            X.append(i)\n",
    "print(X)"
   ]
  },
  {
   "cell_type": "code",
   "execution_count": null,
   "id": "67a77805",
   "metadata": {},
   "outputs": [],
   "source": []
  }
 ],
 "metadata": {
  "kernelspec": {
   "display_name": "Python 3",
   "language": "python",
   "name": "python3"
  },
  "language_info": {
   "codemirror_mode": {
    "name": "ipython",
    "version": 3
   },
   "file_extension": ".py",
   "mimetype": "text/x-python",
   "name": "python",
   "nbconvert_exporter": "python",
   "pygments_lexer": "ipython3",
   "version": "3.8.8"
  }
 },
 "nbformat": 4,
 "nbformat_minor": 5
}
