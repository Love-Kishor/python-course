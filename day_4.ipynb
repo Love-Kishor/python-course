{
 "cells": [
  {
   "cell_type": "code",
   "execution_count": 1,
   "id": "94e8c48a",
   "metadata": {},
   "outputs": [],
   "source": [
    "#loops and cotrol statemnts"
   ]
  },
  {
   "cell_type": "code",
   "execution_count": 2,
   "id": "a99ffc3c",
   "metadata": {},
   "outputs": [
    {
     "data": {
      "text/plain": [
       "range(0, 5)"
      ]
     },
     "execution_count": 2,
     "metadata": {},
     "output_type": "execute_result"
    }
   ],
   "source": [
    "range(5)"
   ]
  },
  {
   "cell_type": "code",
   "execution_count": 3,
   "id": "67a8ce2c",
   "metadata": {},
   "outputs": [
    {
     "data": {
      "text/plain": [
       "range(0, 5)"
      ]
     },
     "execution_count": 3,
     "metadata": {},
     "output_type": "execute_result"
    }
   ],
   "source": [
    "range(0,5)"
   ]
  },
  {
   "cell_type": "code",
   "execution_count": 4,
   "id": "9f01213c",
   "metadata": {},
   "outputs": [
    {
     "data": {
      "text/plain": [
       "range(1, 2, 3)"
      ]
     },
     "execution_count": 4,
     "metadata": {},
     "output_type": "execute_result"
    }
   ],
   "source": [
    "range(1,2,3)"
   ]
  },
  {
   "cell_type": "code",
   "execution_count": 5,
   "id": "20d08d46",
   "metadata": {},
   "outputs": [
    {
     "data": {
      "text/plain": [
       "[1]"
      ]
     },
     "execution_count": 5,
     "metadata": {},
     "output_type": "execute_result"
    }
   ],
   "source": [
    "list(range(1,2,3))"
   ]
  },
  {
   "cell_type": "code",
   "execution_count": 6,
   "id": "fdc5dc41",
   "metadata": {},
   "outputs": [
    {
     "data": {
      "text/plain": [
       "[2, 4]"
      ]
     },
     "execution_count": 6,
     "metadata": {},
     "output_type": "execute_result"
    }
   ],
   "source": [
    "list(range(2,5,2))"
   ]
  },
  {
   "cell_type": "code",
   "execution_count": 9,
   "id": "0bf38e24",
   "metadata": {},
   "outputs": [
    {
     "name": "stdout",
     "output_type": "stream",
     "text": [
      "1\n",
      "3\n"
     ]
    }
   ],
   "source": [
    "for i in range(1,5,2):#1 lower limit , 5 is upper limit and 2 is stepping\n",
    "    print(i)"
   ]
  },
  {
   "cell_type": "code",
   "execution_count": 11,
   "id": "c7e2320b",
   "metadata": {},
   "outputs": [
    {
     "ename": "SyntaxError",
     "evalue": "invalid syntax (<ipython-input-11-2acaace97066>, line 1)",
     "output_type": "error",
     "traceback": [
      "\u001b[1;36m  File \u001b[1;32m\"<ipython-input-11-2acaace97066>\"\u001b[1;36m, line \u001b[1;32m1\u001b[0m\n\u001b[1;33m    \"no\" {} \"and\" \"no\" {}.format(a,b)\u001b[0m\n\u001b[1;37m         ^\u001b[0m\n\u001b[1;31mSyntaxError\u001b[0m\u001b[1;31m:\u001b[0m invalid syntax\n"
     ]
    }
   ],
   "source": []
  },
  {
   "cell_type": "code",
   "execution_count": 16,
   "id": "6935d46e",
   "metadata": {},
   "outputs": [
    {
     "name": "stdout",
     "output_type": "stream",
     "text": [
      "2x 1 = 2\n",
      "2x 2 = 4\n",
      "2x 3 = 6\n",
      "2x 4 = 8\n",
      "2x 5 = 10\n",
      "2x 6 = 12\n",
      "2x 7 = 14\n",
      "2x 8 = 16\n",
      "2x 9 = 18\n",
      "2x 10 = 20\n"
     ]
    }
   ],
   "source": [
    "for i in range(1,11):\n",
    "    a = 2*i\n",
    "    print(f\"2x {i} = {a}\")\n",
    "    \n"
   ]
  },
  {
   "cell_type": "code",
   "execution_count": 2,
   "id": "92f75879",
   "metadata": {},
   "outputs": [
    {
     "name": "stdout",
     "output_type": "stream",
     "text": [
      "\n",
      "2X1 = 2\n",
      "2X2 = 4\n",
      "2X3 = 6\n",
      "2X4 = 8\n",
      "2X5 = 10\n",
      "2X6 = 12\n",
      "2X7 = 14\n",
      "2X8 = 16\n",
      "2X9 = 18\n",
      "2X10 = 20\n",
      "\n",
      "3X1 = 3\n",
      "3X2 = 6\n",
      "3X3 = 9\n",
      "3X4 = 12\n",
      "3X5 = 15\n",
      "3X6 = 18\n",
      "3X7 = 21\n",
      "3X8 = 24\n",
      "3X9 = 27\n",
      "3X10 = 30\n",
      "\n",
      "4X1 = 4\n",
      "4X2 = 8\n",
      "4X3 = 12\n",
      "4X4 = 16\n",
      "4X5 = 20\n",
      "4X6 = 24\n",
      "4X7 = 28\n",
      "4X8 = 32\n",
      "4X9 = 36\n",
      "4X10 = 40\n",
      "\n",
      "5X1 = 5\n",
      "5X2 = 10\n",
      "5X3 = 15\n",
      "5X4 = 20\n",
      "5X5 = 25\n",
      "5X6 = 30\n",
      "5X7 = 35\n",
      "5X8 = 40\n",
      "5X9 = 45\n",
      "5X10 = 50\n"
     ]
    }
   ],
   "source": [
    "for i in range(2,6):\n",
    "    print()\n",
    "    for j in range(1,11):\n",
    "        a = i * j\n",
    "        print(f\"{i}X{j} = {a}\")\n",
    "        "
   ]
  },
  {
   "cell_type": "code",
   "execution_count": 5,
   "id": "c1fdb3c0",
   "metadata": {},
   "outputs": [
    {
     "ename": "NameError",
     "evalue": "name 'end' is not defined",
     "output_type": "error",
     "traceback": [
      "\u001b[1;31m---------------------------------------------------------------------------\u001b[0m",
      "\u001b[1;31mNameError\u001b[0m                                 Traceback (most recent call last)",
      "\u001b[1;32m<ipython-input-5-27ab9151d0f9>\u001b[0m in \u001b[0;36m<module>\u001b[1;34m\u001b[0m\n\u001b[1;32m----> 1\u001b[1;33m \u001b[0mhelp\u001b[0m\u001b[1;33m(\u001b[0m\u001b[0mend\u001b[0m\u001b[1;33m)\u001b[0m\u001b[1;33m\u001b[0m\u001b[1;33m\u001b[0m\u001b[0m\n\u001b[0m",
      "\u001b[1;31mNameError\u001b[0m: name 'end' is not defined"
     ]
    }
   ],
   "source": []
  },
  {
   "cell_type": "code",
   "execution_count": null,
   "id": "6ed5f060",
   "metadata": {},
   "outputs": [],
   "source": []
  }
 ],
 "metadata": {
  "kernelspec": {
   "display_name": "Python 3",
   "language": "python",
   "name": "python3"
  },
  "language_info": {
   "codemirror_mode": {
    "name": "ipython",
    "version": 3
   },
   "file_extension": ".py",
   "mimetype": "text/x-python",
   "name": "python",
   "nbconvert_exporter": "python",
   "pygments_lexer": "ipython3",
   "version": "3.8.8"
  }
 },
 "nbformat": 4,
 "nbformat_minor": 5
}
