{
 "cells": [
  {
   "cell_type": "markdown",
   "id": "41d55494",
   "metadata": {},
   "source": [
    "# if statement"
   ]
  },
  {
   "cell_type": "code",
   "execution_count": 29,
   "id": "3dee19e7",
   "metadata": {},
   "outputs": [
    {
     "name": "stdout",
     "output_type": "stream",
     "text": [
      "enter a numberk\n"
     ]
    },
    {
     "ename": "SyntaxError",
     "evalue": "'continue' not properly in loop (<ipython-input-29-8b64a5ec0ab7>, line 11)",
     "output_type": "error",
     "traceback": [
      "\u001b[1;36m  File \u001b[1;32m\"<ipython-input-29-8b64a5ec0ab7>\"\u001b[1;36m, line \u001b[1;32m11\u001b[0m\n\u001b[1;33m    continue\u001b[0m\n\u001b[1;37m    ^\u001b[0m\n\u001b[1;31mSyntaxError\u001b[0m\u001b[1;31m:\u001b[0m 'continue' not properly in loop\n"
     ]
    }
   ],
   "source": [
    "i = input(\"enter a number\")\n",
    "while i.isdigit is True:\n",
    "    i = int(i)\n",
    "    if i/2 == 1:\n",
    "        print(\"number is even\")\n",
    "        break\n",
    "    else:\n",
    "        print(\"the number is odd\")\n",
    "        break\n",
    "    print(\"enter integer value\")\n",
    "    continue\n",
    "    "
   ]
  },
  {
   "cell_type": "code",
   "execution_count": 16,
   "id": "649a3157",
   "metadata": {},
   "outputs": [
    {
     "name": "stdout",
     "output_type": "stream",
     "text": [
      "inter the integer value4\n",
      "    *\n",
      "   ***\n",
      "  *****\n",
      " *******\n"
     ]
    }
   ],
   "source": [
    "i = int(input(\"inter the integer value\"))\n",
    "for j in range(0,i):\n",
    "    for x in range(i-j,0,-1):\n",
    "        print(\" \",end = \"\")\n",
    "    for k in range(1,2*j+2):\n",
    "        print(\"*\",end=\"\")\n",
    "    print()\n",
    "\n",
    "\n",
    "    "
   ]
  },
  {
   "cell_type": "code",
   "execution_count": 53,
   "id": "0253407d",
   "metadata": {},
   "outputs": [
    {
     "name": "stdout",
     "output_type": "stream",
     "text": [
      "*******\n",
      " *****\n",
      "  ***\n",
      "   *\n",
      "    \n",
      "  ***\n",
      " *****\n",
      "*******\n"
     ]
    }
   ],
   "source": [
    "i = 7\n",
    "for j in range(0,i+1):\n",
    "    if j <=4:\n",
    "        for l in range(0,j):\n",
    "            print(\" \", end = \"\")\n",
    "        for k in range(i-2*j,0,-1):\n",
    "            print(\"*\",end = \"\")\n",
    "        print()\n",
    "    else:\n",
    "        for l in range(i-j,0,-1):\n",
    "            print(\" \", end = \"\")\n",
    "        for k in range(0,j-(i-j)):\n",
    "            print(\"*\",end=\"\")\n",
    "        print()\n",
    "         "
   ]
  },
  {
   "cell_type": "code",
   "execution_count": 62,
   "id": "7c09a1dc",
   "metadata": {},
   "outputs": [
    {
     "name": "stdout",
     "output_type": "stream",
     "text": [
      "       *******\n"
     ]
    }
   ],
   "source": [
    "\n"
   ]
  },
  {
   "cell_type": "code",
   "execution_count": null,
   "id": "7ffd6e85",
   "metadata": {},
   "outputs": [],
   "source": []
  },
  {
   "cell_type": "code",
   "execution_count": null,
   "id": "b0665c1c",
   "metadata": {},
   "outputs": [],
   "source": []
  }
 ],
 "metadata": {
  "kernelspec": {
   "display_name": "Python 3",
   "language": "python",
   "name": "python3"
  },
  "language_info": {
   "codemirror_mode": {
    "name": "ipython",
    "version": 3
   },
   "file_extension": ".py",
   "mimetype": "text/x-python",
   "name": "python",
   "nbconvert_exporter": "python",
   "pygments_lexer": "ipython3",
   "version": "3.8.8"
  }
 },
 "nbformat": 4,
 "nbformat_minor": 5
}
