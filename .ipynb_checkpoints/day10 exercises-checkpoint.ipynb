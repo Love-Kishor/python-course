{
 "cells": [
  {
   "cell_type": "code",
   "execution_count": 7,
   "id": "f1457ba6",
   "metadata": {},
   "outputs": [
    {
     "name": "stdout",
     "output_type": "stream",
     "text": [
      "7 5\n",
      "3 9\n",
      "5 7\n",
      "9 3\n"
     ]
    }
   ],
   "source": [
    "k=12\n",
    "alist = [2,7,3,1,5,9]\n",
    "for x in alist:\n",
    "    for y in alist:\n",
    "        if x + y ==12:\n",
    "            print(x,y)\n"
   ]
  },
  {
   "cell_type": "code",
   "execution_count": 15,
   "id": "27d5293a",
   "metadata": {},
   "outputs": [
    {
     "name": "stdout",
     "output_type": "stream",
     "text": [
      "5 7\n"
     ]
    }
   ],
   "source": [
    "alist =[2,7,3,1,5,9]\n",
    "k = 12\n",
    "for i in alist:\n",
    "    if k-i in alist:\n",
    "        print(k-i,i)\n",
    "        break    # tttm to\n"
   ]
  },
  {
   "cell_type": "code",
   "execution_count": 17,
   "id": "cfbb1849",
   "metadata": {},
   "outputs": [],
   "source": [
    "# generator comprehension #self study\n"
   ]
  },
  {
   "cell_type": "code",
   "execution_count": 25,
   "id": "9e6abbef",
   "metadata": {},
   "outputs": [],
   "source": [
    "def add(*args):\n",
    "    print(*args)"
   ]
  },
  {
   "cell_type": "code",
   "execution_count": 26,
   "id": "b78f9cc1",
   "metadata": {},
   "outputs": [
    {
     "name": "stdout",
     "output_type": "stream",
     "text": [
      "1 2 3 4\n"
     ]
    }
   ],
   "source": [
    "add(1,2,3,4)"
   ]
  },
  {
   "cell_type": "code",
   "execution_count": 27,
   "id": "a18f86e9",
   "metadata": {},
   "outputs": [],
   "source": [
    "#(positional args,*positional args,keyword args,**keyword args) > order to give arguments to function while defineing function"
   ]
  },
  {
   "cell_type": "code",
   "execution_count": 28,
   "id": "538a8b71",
   "metadata": {},
   "outputs": [],
   "source": [
    "# tomorrow > decorator , high order function"
   ]
  },
  {
   "cell_type": "code",
   "execution_count": null,
   "id": "f893596c",
   "metadata": {},
   "outputs": [],
   "source": []
  }
 ],
 "metadata": {
  "kernelspec": {
   "display_name": "Python 3",
   "language": "python",
   "name": "python3"
  },
  "language_info": {
   "codemirror_mode": {
    "name": "ipython",
    "version": 3
   },
   "file_extension": ".py",
   "mimetype": "text/x-python",
   "name": "python",
   "nbconvert_exporter": "python",
   "pygments_lexer": "ipython3",
   "version": "3.8.8"
  }
 },
 "nbformat": 4,
 "nbformat_minor": 5
}
