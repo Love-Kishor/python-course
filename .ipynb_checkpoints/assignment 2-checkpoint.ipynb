{
 "cells": [
  {
   "cell_type": "code",
   "execution_count": 1,
   "id": "c58fb54a",
   "metadata": {},
   "outputs": [],
   "source": [
    "import os"
   ]
  },
  {
   "cell_type": "code",
   "execution_count": 26,
   "id": "a6426e9e",
   "metadata": {},
   "outputs": [],
   "source": [
    "valid_ext =[\".jpg\",\".jpeg\",\".png\"]\n",
    "source1 = \"C:\\\\Users\\\\acer1\\\\Desktop\\\\screenshots\"\n",
    "os.chdir(source)\n",
    "os.listdir()\n",
    "a = os.listdir()\n",
    "destination = \"C:\\\\Users\\\\acer1\\\\Desktop\\\\screenshots1\"\n",
    "os.chdir(destination)\n",
    "b = os.listdir()\n",
    "for i,file in enumerate(a):\n",
    "    ext = file.split(\".\")[-1]\n",
    "    if ext.lower() in valid_ext:\n",
    "        os.replace(b[i],file[i])\n",
    "\n",
    "\n"
   ]
  }
 ],
 "metadata": {
  "kernelspec": {
   "display_name": "Python 3",
   "language": "python",
   "name": "python3"
  },
  "language_info": {
   "codemirror_mode": {
    "name": "ipython",
    "version": 3
   },
   "file_extension": ".py",
   "mimetype": "text/x-python",
   "name": "python",
   "nbconvert_exporter": "python",
   "pygments_lexer": "ipython3",
   "version": "3.8.8"
  }
 },
 "nbformat": 4,
 "nbformat_minor": 5
}
