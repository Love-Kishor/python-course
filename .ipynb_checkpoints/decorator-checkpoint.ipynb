{
 "cells": [
  {
   "cell_type": "markdown",
   "id": "fe1b4e5f",
   "metadata": {},
   "source": [
    "# decorators"
   ]
  },
  {
   "cell_type": "code",
   "execution_count": 4,
   "id": "7cf1c38a",
   "metadata": {},
   "outputs": [],
   "source": [
    "#first class object"
   ]
  },
  {
   "cell_type": "code",
   "execution_count": 2,
   "id": "7f12433e",
   "metadata": {},
   "outputs": [],
   "source": [
    "#inner function"
   ]
  },
  {
   "cell_type": "code",
   "execution_count": 3,
   "id": "4cc7d88a",
   "metadata": {},
   "outputs": [],
   "source": [
    "#returning function"
   ]
  },
  {
   "cell_type": "markdown",
   "id": "e1990fef",
   "metadata": {},
   "source": [
    "order of function\n",
    ">first order function and\n",
    ">higher order fundyion"
   ]
  },
  {
   "cell_type": "code",
   "execution_count": 5,
   "id": "89db1196",
   "metadata": {},
   "outputs": [
    {
     "ename": "SyntaxError",
     "evalue": "unexpected EOF while parsing (<ipython-input-5-5153699a45c6>, line 6)",
     "output_type": "error",
     "traceback": [
      "\u001b[1;36m  File \u001b[1;32m\"<ipython-input-5-5153699a45c6>\"\u001b[1;36m, line \u001b[1;32m6\u001b[0m\n\u001b[1;33m    \u001b[0m\n\u001b[1;37m    ^\u001b[0m\n\u001b[1;31mSyntaxError\u001b[0m\u001b[1;31m:\u001b[0m unexpected EOF while parsing\n"
     ]
    }
   ],
   "source": [
    "def login(arg):\n",
    "    print(\"login checked\")\n",
    "    return arg\n",
    "def purchase():\n",
    "    \n",
    "    "
   ]
  },
  {
   "cell_type": "code",
   "execution_count": null,
   "id": "9fb2269a",
   "metadata": {},
   "outputs": [],
   "source": [
    "#assignment...fibonaci series and prime number "
   ]
  },
  {
   "cell_type": "code",
   "execution_count": 13,
   "id": "6d2962dc",
   "metadata": {},
   "outputs": [
    {
     "name": "stdout",
     "output_type": "stream",
     "text": [
      "enter codelove\n",
      "name: Love Kishor Bista\n",
      " profession: Engineer\n",
      " bank code: 123685r8\n"
     ]
    },
    {
     "ename": "TypeError",
     "evalue": "'NoneType' object is not callable",
     "output_type": "error",
     "traceback": [
      "\u001b[1;31m---------------------------------------------------------------------------\u001b[0m",
      "\u001b[1;31mTypeError\u001b[0m                                 Traceback (most recent call last)",
      "\u001b[1;32m<ipython-input-13-caa9168853dd>\u001b[0m in \u001b[0;36m<module>\u001b[1;34m\u001b[0m\n\u001b[0;32m     24\u001b[0m \u001b[1;33m\u001b[0m\u001b[0m\n\u001b[0;32m     25\u001b[0m \u001b[1;33m\u001b[0m\u001b[0m\n\u001b[1;32m---> 26\u001b[1;33m \u001b[0mprofile\u001b[0m\u001b[1;33m(\u001b[0m\u001b[1;33m)\u001b[0m\u001b[1;33m\u001b[0m\u001b[1;33m\u001b[0m\u001b[0m\n\u001b[0m",
      "\u001b[1;31mTypeError\u001b[0m: 'NoneType' object is not callable"
     ]
    }
   ],
   "source": [
    "from functools import wraps \n",
    "def check_code():\n",
    "    x = \"love\"\n",
    "    y=input(\"enter code\")\n",
    "    if y==x:\n",
    "        return True\n",
    "    else:\n",
    "        return False\n",
    "        \n",
    "    \n",
    "def conform_code(function):\n",
    "    wraps(function)\n",
    "    if check_code() is True:\n",
    "        return function()\n",
    "    else:\n",
    "        print(\"code incorrect\")\n",
    "    \n",
    "\n",
    "\n",
    "@conform_code\n",
    "def profile():\n",
    "    print(\"name: Love Kishor Bista\\n profession: Engineer\\n bank code: 123685r8\")\n",
    "     \n",
    "\n",
    "    \n",
    "profile()\n"
   ]
  },
  {
   "cell_type": "code",
   "execution_count": 12,
   "id": "b5955219",
   "metadata": {},
   "outputs": [
    {
     "ename": "TypeError",
     "evalue": "'NoneType' object is not callable",
     "output_type": "error",
     "traceback": [
      "\u001b[1;31m---------------------------------------------------------------------------\u001b[0m",
      "\u001b[1;31mTypeError\u001b[0m                                 Traceback (most recent call last)",
      "\u001b[1;32m<ipython-input-12-be805729929a>\u001b[0m in \u001b[0;36m<module>\u001b[1;34m\u001b[0m\n\u001b[1;32m----> 1\u001b[1;33m \u001b[0mprofile\u001b[0m\u001b[1;33m(\u001b[0m\u001b[1;33m)\u001b[0m\u001b[1;33m\u001b[0m\u001b[1;33m\u001b[0m\u001b[0m\n\u001b[0m",
      "\u001b[1;31mTypeError\u001b[0m: 'NoneType' object is not callable"
     ]
    }
   ],
   "source": [
    "profile()"
   ]
  },
  {
   "cell_type": "code",
   "execution_count": 4,
   "id": "2243f72d",
   "metadata": {},
   "outputs": [
    {
     "ename": "TypeError",
     "evalue": "'NoneType' object is not callable",
     "output_type": "error",
     "traceback": [
      "\u001b[1;31m---------------------------------------------------------------------------\u001b[0m",
      "\u001b[1;31mTypeError\u001b[0m                                 Traceback (most recent call last)",
      "\u001b[1;32m<ipython-input-4-be805729929a>\u001b[0m in \u001b[0;36m<module>\u001b[1;34m\u001b[0m\n\u001b[1;32m----> 1\u001b[1;33m \u001b[0mprofile\u001b[0m\u001b[1;33m(\u001b[0m\u001b[1;33m)\u001b[0m\u001b[1;33m\u001b[0m\u001b[1;33m\u001b[0m\u001b[0m\n\u001b[0m",
      "\u001b[1;31mTypeError\u001b[0m: 'NoneType' object is not callable"
     ]
    }
   ],
   "source": [
    "profile()"
   ]
  },
  {
   "cell_type": "markdown",
   "id": "2c30ed2e",
   "metadata": {},
   "source": [
    "above functions have no proper use of decorator\n",
    "decorators can be properly used as below"
   ]
  },
  {
   "cell_type": "code",
   "execution_count": 13,
   "id": "30f87df7",
   "metadata": {},
   "outputs": [],
   "source": [
    "from functools import wraps \n",
    "def conform_code(function):\n",
    "    wraps(function)\n",
    "    x = \"love\"\n",
    "    def compare_code():\n",
    "        y=input(\"enter code\\n\")\n",
    "        if y==x:\n",
    "            print(\"ok\")\n",
    "        else:\n",
    "            print(\"code incorredt\")\n",
    "        return compare_code()\n",
    "        \n",
    "def profile():\n",
    "    print(\"my name is love\")"
   ]
  },
  {
   "cell_type": "code",
   "execution_count": 22,
   "id": "19d27e88",
   "metadata": {},
   "outputs": [
    {
     "ename": "NameError",
     "evalue": "name 'conform' is not defined",
     "output_type": "error",
     "traceback": [
      "\u001b[1;31m---------------------------------------------------------------------------\u001b[0m",
      "\u001b[1;31mNameError\u001b[0m                                 Traceback (most recent call last)",
      "\u001b[1;32m<ipython-input-22-e4e0485eb428>\u001b[0m in \u001b[0;36m<module>\u001b[1;34m\u001b[0m\n\u001b[1;32m----> 1\u001b[1;33m \u001b[0mconform\u001b[0m\u001b[1;33m\u001b[0m\u001b[1;33m\u001b[0m\u001b[0m\n\u001b[0m",
      "\u001b[1;31mNameError\u001b[0m: name 'conform' is not defined"
     ]
    }
   ],
   "source": [
    "\n",
    "conform"
   ]
  },
  {
   "cell_type": "code",
   "execution_count": 40,
   "id": "e671decf",
   "metadata": {},
   "outputs": [
    {
     "name": "stdout",
     "output_type": "stream",
     "text": [
      "keep social distance and use mask\n",
      "go to hospital in case of symptoms\n"
     ]
    }
   ],
   "source": [
    "def outer(function):\n",
    "    wraps(function)\n",
    "    print(\"keep social distance and use mask\")\n",
    "    def inner():\n",
    "        function()\n",
    "    return inner()\n",
    "@outer\n",
    "def precaution():\n",
    "    print(\"go to hospital in case of symptoms\")\n",
    "    return 1\n",
    "\n",
    "\n",
    "    "
   ]
  },
  {
   "cell_type": "code",
   "execution_count": 41,
   "id": "6183b3d8",
   "metadata": {
    "scrolled": true
   },
   "outputs": [
    {
     "ename": "TypeError",
     "evalue": "'NoneType' object is not callable",
     "output_type": "error",
     "traceback": [
      "\u001b[1;31m---------------------------------------------------------------------------\u001b[0m",
      "\u001b[1;31mTypeError\u001b[0m                                 Traceback (most recent call last)",
      "\u001b[1;32m<ipython-input-41-4edd03f71cce>\u001b[0m in \u001b[0;36m<module>\u001b[1;34m\u001b[0m\n\u001b[1;32m----> 1\u001b[1;33m \u001b[0mprecaution\u001b[0m\u001b[1;33m(\u001b[0m\u001b[1;33m)\u001b[0m\u001b[1;33m.\u001b[0m\u001b[0m_name_\u001b[0m\u001b[1;33m\u001b[0m\u001b[1;33m\u001b[0m\u001b[0m\n\u001b[0m",
      "\u001b[1;31mTypeError\u001b[0m: 'NoneType' object is not callable"
     ]
    }
   ],
   "source": [
    "\n",
    "precaution()._name_"
   ]
  },
  {
   "cell_type": "code",
   "execution_count": null,
   "id": "5c08cc27",
   "metadata": {},
   "outputs": [],
   "source": []
  }
 ],
 "metadata": {
  "kernelspec": {
   "display_name": "Python 3",
   "language": "python",
   "name": "python3"
  },
  "language_info": {
   "codemirror_mode": {
    "name": "ipython",
    "version": 3
   },
   "file_extension": ".py",
   "mimetype": "text/x-python",
   "name": "python",
   "nbconvert_exporter": "python",
   "pygments_lexer": "ipython3",
   "version": "3.8.8"
  }
 },
 "nbformat": 4,
 "nbformat_minor": 5
}
