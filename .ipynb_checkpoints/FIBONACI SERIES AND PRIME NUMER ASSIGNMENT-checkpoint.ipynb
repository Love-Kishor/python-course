{
 "cells": [
  {
   "cell_type": "markdown",
   "id": "2e366cb2",
   "metadata": {},
   "source": [
    "FIBONACI SERIES AND PRIME NUMBERS PROGRAM\n"
   ]
  },
  {
   "cell_type": "code",
   "execution_count": 3,
   "id": "f0542549",
   "metadata": {},
   "outputs": [
    {
     "name": "stdout",
     "output_type": "stream",
     "text": [
      "0,2,4,6,8,10,12,14,16,18,20,22,24,26,28,30,32,34,36,38,40,42,44,46,48,50,52,54,56,58,60,62,64,66,68,70,72,74,76,78,80,82,84,86,88,90,92,94,96,98,"
     ]
    }
   ],
   "source": [
    "for i in range(0,50):\n",
    "    i=i + i\n",
    "    print(i,end=\",\")\n",
    "\n"
   ]
  },
  {
   "cell_type": "code",
   "execution_count": 105,
   "id": "8bd14d68",
   "metadata": {},
   "outputs": [
    {
     "name": "stdout",
     "output_type": "stream",
     "text": [
      "fibo(10) = [0, 1, 2, 3, 4, 5, 6, 7, 8, 9, 10]\n",
      "fibonac(10) = [0, 1, 1, 2, 3, 5, 8, 13, 21, 34, 55]\n"
     ]
    }
   ],
   "source": [
    "def fibo(x):\n",
    "    X =[]\n",
    "    for i in range (0,x+1):\n",
    "        if i ==0 or 1:    # this means if i==0 or if true i.e the function will run only first condition for every value of i\n",
    "            X.append(i)\n",
    "        else:\n",
    "            X.append(X[i-1]+X[i-2])\n",
    "    return X\n",
    "print(\"fibo(10) =\",fibo(10))\n",
    "\n",
    "#alternatively\n",
    "def fibonac(x):\n",
    "    X =[]\n",
    "    for i in range (0,x+1):\n",
    "        if i ==0 or i==1:    # this means if i==0 or if i==1,i.e the function will run only first condition for 0 and 1 values of i\n",
    "            X.append(i)\n",
    "        else:\n",
    "            X.append(X[i-1]+X[i-2])\n",
    "    return X\n",
    "print(\"fibonac(10) =\",fibonac(10))\n",
    "\n",
    "    "
   ]
  },
  {
   "cell_type": "code",
   "execution_count": 41,
   "id": "17e19946",
   "metadata": {},
   "outputs": [
    {
     "data": {
      "text/plain": [
       "[0, 1, 1, 2]"
      ]
     },
     "execution_count": 41,
     "metadata": {},
     "output_type": "execute_result"
    }
   ],
   "source": [
    "X=[]\n",
    "X.append(0)          #when i is 0\n",
    "X.append(1)          #when i is 1\n",
    "X.append(X[0]+X[1])  #when i is 2\n",
    "X.append(X[1]+X[2])   #when i is 3\n",
    "X"
   ]
  },
  {
   "cell_type": "code",
   "execution_count": 14,
   "id": "b9990659",
   "metadata": {},
   "outputs": [
    {
     "ename": "TypeError",
     "evalue": "'list' object is not callable",
     "output_type": "error",
     "traceback": [
      "\u001b[1;31m---------------------------------------------------------------------------\u001b[0m",
      "\u001b[1;31mTypeError\u001b[0m                                 Traceback (most recent call last)",
      "\u001b[1;32m<ipython-input-14-2cc3934b64b4>\u001b[0m in \u001b[0;36m<module>\u001b[1;34m\u001b[0m\n\u001b[0;32m      1\u001b[0m \u001b[0mx\u001b[0m \u001b[1;33m=\u001b[0m\u001b[1;33m[\u001b[0m\u001b[1;36m1\u001b[0m\u001b[1;33m,\u001b[0m\u001b[1;36m2\u001b[0m\u001b[1;33m,\u001b[0m\u001b[1;36m3\u001b[0m\u001b[1;33m]\u001b[0m\u001b[1;33m\u001b[0m\u001b[1;33m\u001b[0m\u001b[0m\n\u001b[0;32m      2\u001b[0m \u001b[1;32mfor\u001b[0m \u001b[0mi\u001b[0m \u001b[1;32min\u001b[0m \u001b[0mx\u001b[0m\u001b[1;33m:\u001b[0m\u001b[1;33m\u001b[0m\u001b[1;33m\u001b[0m\u001b[0m\n\u001b[1;32m----> 3\u001b[1;33m     \u001b[0mx\u001b[0m\u001b[1;33m(\u001b[0m\u001b[0mi\u001b[0m\u001b[1;33m)\u001b[0m\u001b[1;33m\u001b[0m\u001b[1;33m\u001b[0m\u001b[0m\n\u001b[0m\u001b[0;32m      4\u001b[0m \u001b[1;33m\u001b[0m\u001b[0m\n",
      "\u001b[1;31mTypeError\u001b[0m: 'list' object is not callable"
     ]
    }
   ],
   "source": [
    "x =[1,2,3]\n",
    "for i in x:\n",
    "    x(1)\n",
    " "
   ]
  },
  {
   "cell_type": "code",
   "execution_count": 114,
   "id": "c3deaf7d",
   "metadata": {},
   "outputs": [
    {
     "name": "stdout",
     "output_type": "stream",
     "text": [
      "enter a number up to which fibonacci series is to be given\n",
      "20\n",
      "fibonacci series between 0 and 20 are [0, 1, 1, 2, 3, 5, 8, 13]\n"
     ]
    }
   ],
   "source": [
    "n = int(input(\"enter a number up to which fibonacci series is to be given\\n\"))\n",
    "X =[]\n",
    "for i in range(0,n+3):\n",
    "    if i<2:\n",
    "        X.append(i)\n",
    "    else:\n",
    "        X.append(X[i-2] + X[i-1])\n",
    "        if X[i]>n:\n",
    "            X.pop(i)\n",
    "            break\n",
    "print(f\"fibonacci series between 0 and {n} are {X}\")\n",
    "  \n"
   ]
  },
  {
   "cell_type": "code",
   "execution_count": 86,
   "id": "40f3cb06",
   "metadata": {},
   "outputs": [],
   "source": [
    "def fibonacci(n):\n",
    "    X=[]\n",
    "    for i in range(0,n+2):\n",
    "        if i<2:\n",
    "            X.append(i)\n",
    "        else:\n",
    "            X.append(X[i-2] + X[i-1])\n",
    "            if X[i] >n:\n",
    "                X.pop(i)\n",
    "                break\n",
    "    return X"
   ]
  },
  {
   "cell_type": "code",
   "execution_count": 113,
   "id": "e5ee9d13",
   "metadata": {},
   "outputs": [
    {
     "data": {
      "text/plain": [
       "[0, 1, 1, 2, 3, 5, 8, 13, 21, 34]"
      ]
     },
     "execution_count": 113,
     "metadata": {},
     "output_type": "execute_result"
    }
   ],
   "source": [
    "\n",
    "fibonacci(50)"
   ]
  },
  {
   "cell_type": "code",
   "execution_count": 118,
   "id": "fc3bcb6c",
   "metadata": {},
   "outputs": [],
   "source": [
    "def fibo_gen(x,y):\n",
    "    X=[]\n",
    "    for i in range(x,y+2):\n",
    "        if i<2:\n",
    "            X.append(i)\n",
    "        else:\n",
    "            X.append(X[i-2] + X[i-1])\n",
    "            if X[i] >y:\n",
    "                X.pop(i)\n",
    "                break\n",
    "    return X"
   ]
  },
  {
   "cell_type": "code",
   "execution_count": 120,
   "id": "d70fe168",
   "metadata": {},
   "outputs": [
    {
     "data": {
      "text/plain": [
       "[0, 1, 1, 2]"
      ]
     },
     "execution_count": 120,
     "metadata": {},
     "output_type": "execute_result"
    }
   ],
   "source": [
    "fibo_gen(0,2)"
   ]
  },
  {
   "cell_type": "markdown",
   "id": "21f0dc86",
   "metadata": {},
   "source": [
    "prime number calculation program"
   ]
  },
  {
   "cell_type": "code",
   "execution_count": 158,
   "id": "9670bb73",
   "metadata": {},
   "outputs": [],
   "source": [
    "def prime(x,y):\n",
    "    X =[]\n",
    "    if x==0 or y==0:\n",
    "        print(\"enter nonzero values\")\n",
    "        pass\n",
    "    if x>y:\n",
    "        print(\"enter values in proper order\")\n",
    "        pass\n",
    "    else: \n",
    "        for i in range(x,x+1):\n",
    "            for j in range(2,9):\n",
    "                if i%j==0 and i!=j:\n",
    "                    break\n",
    "                if i%j!=0 and j==9:\n",
    "                    X.append(i)\n",
    "                    break\n",
    "                else:\n",
    "                    continue\n",
    "        return X\n",
    "         \n"
   ]
  },
  {
   "cell_type": "code",
   "execution_count": 159,
   "id": "d778f2d4",
   "metadata": {},
   "outputs": [
    {
     "data": {
      "text/plain": [
       "[]"
      ]
     },
     "execution_count": 159,
     "metadata": {},
     "output_type": "execute_result"
    }
   ],
   "source": [
    "prime(2,10)"
   ]
  },
  {
   "cell_type": "code",
   "execution_count": 145,
   "id": "c94bb50d",
   "metadata": {},
   "outputs": [
    {
     "data": {
      "text/plain": [
       "[2, 4, 6, 8]"
      ]
     },
     "execution_count": 145,
     "metadata": {},
     "output_type": "execute_result"
    }
   ],
   "source": [
    "def example1(x,y):\n",
    "    L=[]\n",
    "    for i in range(x,y+1):\n",
    "        if i%2==0:\n",
    "            L.append(i)\n",
    "    return L\n",
    "example1(1,8)\n",
    "        "
   ]
  },
  {
   "cell_type": "code",
   "execution_count": 160,
   "id": "2f5e811f",
   "metadata": {},
   "outputs": [],
   "source": [
    "def example2(x,y):\n",
    "    X=[]\n",
    "    for i in range(x,x+1):\n",
    "        for j in range(2,9):\n",
    "            if i%j==0 and i!=j:\n",
    "                break\n",
    "            if i%j!=0 and j==9:\n",
    "                X.append(i)\n",
    "                break\n",
    "            else:\n",
    "                continue\n",
    "    return X"
   ]
  },
  {
   "cell_type": "code",
   "execution_count": 161,
   "id": "7c9137ed",
   "metadata": {},
   "outputs": [
    {
     "data": {
      "text/plain": [
       "[]"
      ]
     },
     "execution_count": 161,
     "metadata": {},
     "output_type": "execute_result"
    }
   ],
   "source": [
    "example2(1,9)"
   ]
  },
  {
   "cell_type": "code",
   "execution_count": 163,
   "id": "f2f6e9c4",
   "metadata": {},
   "outputs": [
    {
     "ename": "SyntaxError",
     "evalue": "invalid syntax (<ipython-input-163-3e0900401c41>, line 1)",
     "output_type": "error",
     "traceback": [
      "\u001b[1;36m  File \u001b[1;32m\"<ipython-input-163-3e0900401c41>\"\u001b[1;36m, line \u001b[1;32m1\u001b[0m\n\u001b[1;33m    [i if i%j!=0 for i in range(1,10) and j in range(2,9) if j!=1 or j!=i]\u001b[0m\n\u001b[1;37m                 ^\u001b[0m\n\u001b[1;31mSyntaxError\u001b[0m\u001b[1;31m:\u001b[0m invalid syntax\n"
     ]
    }
   ],
   "source": [
    "[i if i%j!=0 for i in range(1,10) and j in range(2,9) if j!=1 or j!=i]"
   ]
  },
  {
   "cell_type": "code",
   "execution_count": null,
   "id": "7f1e831f",
   "metadata": {},
   "outputs": [],
   "source": [
    "def is_prime(x):\n",
    "    for i in range(2,10):\n",
    "        a=x%i\n",
    "        if a==0 and i!=x:\n",
    "            return False\n",
    "        if a!=0 and i!=9:\n",
    "            continue\n",
    "        else:\n",
    "            return True\n",
    "is_prime(7)\n",
    "    "
   ]
  },
  {
   "cell_type": "code",
   "execution_count": null,
   "id": "6c3dbb9a",
   "metadata": {},
   "outputs": [],
   "source": [
    "a=filter(is_prime,range(1,20))"
   ]
  },
  {
   "cell_type": "code",
   "execution_count": null,
   "id": "82cc66c4",
   "metadata": {},
   "outputs": [],
   "source": [
    "list(a)"
   ]
  },
  {
   "cell_type": "code",
   "execution_count": null,
   "id": "85ec4fb8",
   "metadata": {},
   "outputs": [],
   "source": [
    "def prime_nums(x,y):\n",
    "    for i in range(x,y+1):\n",
    "        if is_prime(i)==True:\n",
    "            Y = [].append(i)\n",
    "    return Y       "
   ]
  },
  {
   "cell_type": "code",
   "execution_count": null,
   "id": "8bcd9aee",
   "metadata": {},
   "outputs": [],
   "source": [
    "prime_nums(1,20)"
   ]
  },
  {
   "cell_type": "code",
   "execution_count": null,
   "id": "b5de890f",
   "metadata": {},
   "outputs": [],
   "source": []
  },
  {
   "cell_type": "code",
   "execution_count": 197,
   "id": "c34516e8",
   "metadata": {},
   "outputs": [
    {
     "name": "stdout",
     "output_type": "stream",
     "text": [
      "Help on method raw_input in module ipykernel.kernelbase:\n",
      "\n",
      "raw_input(prompt='') method of ipykernel.ipkernel.IPythonKernel instance\n",
      "    Forward raw_input to frontends\n",
      "    \n",
      "    Raises\n",
      "    ------\n",
      "    StdinNotImplentedError if active frontend doesn't support stdin.\n",
      "\n"
     ]
    }
   ],
   "source": []
  },
  {
   "cell_type": "code",
   "execution_count": null,
   "id": "4c1632f7",
   "metadata": {},
   "outputs": [],
   "source": [
    "x,y= 1,20\n",
    "[i for i in range(x,y) if is_prime(i) is True]"
   ]
  },
  {
   "cell_type": "code",
   "execution_count": null,
   "id": "d51a21a5",
   "metadata": {},
   "outputs": [],
   "source": []
  }
 ],
 "metadata": {
  "kernelspec": {
   "display_name": "Python 3",
   "language": "python",
   "name": "python3"
  },
  "language_info": {
   "codemirror_mode": {
    "name": "ipython",
    "version": 3
   },
   "file_extension": ".py",
   "mimetype": "text/x-python",
   "name": "python",
   "nbconvert_exporter": "python",
   "pygments_lexer": "ipython3",
   "version": "3.8.8"
  }
 },
 "nbformat": 4,
 "nbformat_minor": 5
}
