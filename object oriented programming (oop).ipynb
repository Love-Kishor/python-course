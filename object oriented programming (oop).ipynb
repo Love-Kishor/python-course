{
 "cells": [
  {
   "cell_type": "markdown",
   "id": "35e6a040",
   "metadata": {},
   "source": [
    "# oop"
   ]
  },
  {
   "cell_type": "code",
   "execution_count": 3,
   "id": "17507aaa",
   "metadata": {},
   "outputs": [
    {
     "name": "stdout",
     "output_type": "stream",
     "text": [
      "i am init method\n"
     ]
    }
   ],
   "source": [
    "class test(object): #or class test\n",
    "    x =3000\n",
    "    def __init__(self):\n",
    "        print(\"i am init method\")\n",
    "        y =1000\n",
    "    def callme(self):\n",
    "        print(\"i am called\")\n",
    "t  = test()"
   ]
  },
  {
   "cell_type": "code",
   "execution_count": 5,
   "id": "d41a8367",
   "metadata": {},
   "outputs": [
    {
     "data": {
      "text/plain": [
       "3000"
      ]
     },
     "execution_count": 5,
     "metadata": {},
     "output_type": "execute_result"
    }
   ],
   "source": [
    "t.x"
   ]
  },
  {
   "cell_type": "code",
   "execution_count": 6,
   "id": "72f0eb47",
   "metadata": {},
   "outputs": [
    {
     "ename": "AttributeError",
     "evalue": "'test' object has no attribute 'y'",
     "output_type": "error",
     "traceback": [
      "\u001b[1;31m---------------------------------------------------------------------------\u001b[0m",
      "\u001b[1;31mAttributeError\u001b[0m                            Traceback (most recent call last)",
      "\u001b[1;32m<ipython-input-6-1ddffdaaf850>\u001b[0m in \u001b[0;36m<module>\u001b[1;34m\u001b[0m\n\u001b[1;32m----> 1\u001b[1;33m \u001b[0mt\u001b[0m\u001b[1;33m.\u001b[0m\u001b[0my\u001b[0m\u001b[1;33m\u001b[0m\u001b[1;33m\u001b[0m\u001b[0m\n\u001b[0m",
      "\u001b[1;31mAttributeError\u001b[0m: 'test' object has no attribute 'y'"
     ]
    }
   ],
   "source": [
    "t.y"
   ]
  },
  {
   "cell_type": "code",
   "execution_count": 9,
   "id": "499d62ed",
   "metadata": {},
   "outputs": [],
   "source": [
    "class test(object): #or class test\n",
    "    x =3000\n",
    "    def __init__(self,y):\n",
    "        print(\"i am init method\")\n",
    "        self.y =y\n",
    "        y =1000\n",
    "    def callme(self):\n",
    "        print(\"i am called\")"
   ]
  },
  {
   "cell_type": "code",
   "execution_count": 10,
   "id": "d37e7f9f",
   "metadata": {},
   "outputs": [
    {
     "ename": "AttributeError",
     "evalue": "'test' object has no attribute 'y'",
     "output_type": "error",
     "traceback": [
      "\u001b[1;31m---------------------------------------------------------------------------\u001b[0m",
      "\u001b[1;31mAttributeError\u001b[0m                            Traceback (most recent call last)",
      "\u001b[1;32m<ipython-input-10-1ddffdaaf850>\u001b[0m in \u001b[0;36m<module>\u001b[1;34m\u001b[0m\n\u001b[1;32m----> 1\u001b[1;33m \u001b[0mt\u001b[0m\u001b[1;33m.\u001b[0m\u001b[0my\u001b[0m\u001b[1;33m\u001b[0m\u001b[1;33m\u001b[0m\u001b[0m\n\u001b[0m",
      "\u001b[1;31mAttributeError\u001b[0m: 'test' object has no attribute 'y'"
     ]
    }
   ],
   "source": [
    "t.y"
   ]
  },
  {
   "cell_type": "code",
   "execution_count": 1,
   "id": "c49076a6",
   "metadata": {},
   "outputs": [],
   "source": [
    "#self works as local method in an object\n",
    "# all f"
   ]
  },
  {
   "cell_type": "code",
   "execution_count": null,
   "id": "c97a0c08",
   "metadata": {},
   "outputs": [],
   "source": [
    "class Pair:\n",
    "    def __init__(self,x,y):\n",
    "        self.x = x\n",
    "        self.y = y\n",
    "    def __repr__(self):\n",
    "        print(\"__repr__ is called\")\n",
    "        return f\"{self.x},{self.y}\"\n",
    "    def __str__(self):\n",
    "        print(\"__str__ is called\")\n",
    "        return (\"{self.y},{self.x}\")"
   ]
  }
 ],
 "metadata": {
  "kernelspec": {
   "display_name": "Python 3",
   "language": "python",
   "name": "python3"
  },
  "language_info": {
   "codemirror_mode": {
    "name": "ipython",
    "version": 3
   },
   "file_extension": ".py",
   "mimetype": "text/x-python",
   "name": "python",
   "nbconvert_exporter": "python",
   "pygments_lexer": "ipython3",
   "version": "3.8.8"
  }
 },
 "nbformat": 4,
 "nbformat_minor": 5
}
